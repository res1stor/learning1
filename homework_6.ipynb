{
 "cells": [
  {
   "cell_type": "markdown",
   "metadata": {},
   "source": [
    "**Задание 1**\n",
    "\n",
    "Используем файл keywords.csv.\n",
    "\n",
    "Необходимо написать гео-классификатор, который каждой строке сможет выставить географическую принадлежность определенному региону. Т. е. если поисковый запрос содержит название города региона, то в столбце 'region' пишется название этого региона. Если поисковый запрос не содержит названия города, то ставим 'undefined'.\n",
    "\n",
    "Правила распределения по регионам Центр, Северо-Запад и Дальний Восток:\n",
    "\n",
    "geo_data = {\n",
    "\n",
    "    'Центр': ['москва', 'тула', 'ярославль'],\n",
    "\n",
    "    'Северо-Запад': ['петербург', 'псков', 'мурманск'],\n",
    "\n",
    "    'Дальний Восток': ['владивосток', 'сахалин', 'хабаровск']\n",
    "\n",
    "}\n",
    "\n",
    "Результат классификации запишите в отдельный столбец region."
   ]
  },
  {
   "cell_type": "code",
   "execution_count": null,
   "metadata": {},
   "outputs": [],
   "source": [
    "%%time\n",
    "import pandas as pd\n",
    "\n",
    "geo_data = {\n",
    "\n",
    "'Центр': ['москва', 'тула', 'ярославль'],\n",
    "\n",
    "'Северо-Запад': ['петербург', 'псков', 'мурманск'],\n",
    "\n",
    "'Дальний Восток': ['владивосток', 'сахалин', 'хабаровск']\n",
    "\n",
    "}\n",
    "\n",
    "keywords = pd.read_csv('homework_6_misc\\keywords.csv')\n",
    "\n",
    "def return_region(row):\n",
    "    \"\"\"\n",
    "    Возвращает регион согласно ранее заданному\n",
    "    словарю geo_data или undefined в случае\n",
    "    отсутствия региона в словаре\n",
    "    \"\"\"\n",
    "    for k,v in geo_data.items():\n",
    "        for city in v:\n",
    "            if city in row['keyword']:\n",
    "                return str(k)\n",
    "    return 'undefined'\n",
    "\n",
    "keywords['region'] = keywords.apply(return_region, axis=1)\n",
    "keywords[~keywords.region.str.contains('u')].info()"
   ]
  },
  {
   "cell_type": "markdown",
   "metadata": {},
   "source": [
    "**Задание 2**\n",
    "\n",
    "Напишите функцию, которая классифицирует фильмы из материалов занятия по следующим правилам:\n",
    "    - оценка 2 и меньше - низкий рейтинг\n",
    "    - оценка 4 и меньше - средний рейтинг\n",
    "    - оценка 4.5 и 5 - высокий рейтинг\n",
    "\n",
    "Результат классификации запишите в столбец class\n"
   ]
  },
  {
   "cell_type": "code",
   "execution_count": 7,
   "metadata": {},
   "outputs": [
    {
     "name": "stdout",
     "output_type": "stream",
     "text": [
      "Wall time: 576 ms\n"
     ]
    },
    {
     "data": {
      "text/html": [
       "<div>\n",
       "<style scoped>\n",
       "    .dataframe tbody tr th:only-of-type {\n",
       "        vertical-align: middle;\n",
       "    }\n",
       "\n",
       "    .dataframe tbody tr th {\n",
       "        vertical-align: top;\n",
       "    }\n",
       "\n",
       "    .dataframe thead th {\n",
       "        text-align: right;\n",
       "    }\n",
       "</style>\n",
       "<table border=\"1\" class=\"dataframe\">\n",
       "  <thead>\n",
       "    <tr style=\"text-align: right;\">\n",
       "      <th></th>\n",
       "      <th>rating</th>\n",
       "      <th>class</th>\n",
       "    </tr>\n",
       "    <tr>\n",
       "      <th>title</th>\n",
       "      <th></th>\n",
       "      <th></th>\n",
       "    </tr>\n",
       "  </thead>\n",
       "  <tbody>\n",
       "    <tr>\n",
       "      <th>Gena the Crocodile (1969)</th>\n",
       "      <td>5.000000</td>\n",
       "      <td>высокий рейтинг</td>\n",
       "    </tr>\n",
       "    <tr>\n",
       "      <th>True Stories (1986)</th>\n",
       "      <td>5.000000</td>\n",
       "      <td>высокий рейтинг</td>\n",
       "    </tr>\n",
       "    <tr>\n",
       "      <th>Cosmic Scrat-tastrophe (2015)</th>\n",
       "      <td>5.000000</td>\n",
       "      <td>высокий рейтинг</td>\n",
       "    </tr>\n",
       "    <tr>\n",
       "      <th>Love and Pigeons (1985)</th>\n",
       "      <td>5.000000</td>\n",
       "      <td>высокий рейтинг</td>\n",
       "    </tr>\n",
       "    <tr>\n",
       "      <th>Red Sorghum (Hong gao liang) (1987)</th>\n",
       "      <td>5.000000</td>\n",
       "      <td>высокий рейтинг</td>\n",
       "    </tr>\n",
       "    <tr>\n",
       "      <th>...</th>\n",
       "      <td>...</td>\n",
       "      <td>...</td>\n",
       "    </tr>\n",
       "    <tr>\n",
       "      <th>Open Hearts (Elsker dig for evigt) (2002)</th>\n",
       "      <td>5.000000</td>\n",
       "      <td>высокий рейтинг</td>\n",
       "    </tr>\n",
       "    <tr>\n",
       "      <th>Trial, The (Procès, Le) (1962)</th>\n",
       "      <td>4.900000</td>\n",
       "      <td>высокий рейтинг</td>\n",
       "    </tr>\n",
       "    <tr>\n",
       "      <th>What We Do in the Shadows (2014)</th>\n",
       "      <td>4.833333</td>\n",
       "      <td>высокий рейтинг</td>\n",
       "    </tr>\n",
       "    <tr>\n",
       "      <th>Bad Boy Bubby (1993)</th>\n",
       "      <td>4.833333</td>\n",
       "      <td>высокий рейтинг</td>\n",
       "    </tr>\n",
       "    <tr>\n",
       "      <th>Black Mirror: White Christmas (2014)</th>\n",
       "      <td>4.750000</td>\n",
       "      <td>высокий рейтинг</td>\n",
       "    </tr>\n",
       "  </tbody>\n",
       "</table>\n",
       "<p>300 rows × 2 columns</p>\n",
       "</div>"
      ],
      "text/plain": [
       "                                             rating            class\n",
       "title                                                               \n",
       "Gena the Crocodile (1969)                  5.000000  высокий рейтинг\n",
       "True Stories (1986)                        5.000000  высокий рейтинг\n",
       "Cosmic Scrat-tastrophe (2015)              5.000000  высокий рейтинг\n",
       "Love and Pigeons (1985)                    5.000000  высокий рейтинг\n",
       "Red Sorghum (Hong gao liang) (1987)        5.000000  высокий рейтинг\n",
       "...                                             ...              ...\n",
       "Open Hearts (Elsker dig for evigt) (2002)  5.000000  высокий рейтинг\n",
       "Trial, The (Procès, Le) (1962)             4.900000  высокий рейтинг\n",
       "What We Do in the Shadows (2014)           4.833333  высокий рейтинг\n",
       "Bad Boy Bubby (1993)                       4.833333  высокий рейтинг\n",
       "Black Mirror: White Christmas (2014)       4.750000  высокий рейтинг\n",
       "\n",
       "[300 rows x 2 columns]"
      ]
     },
     "execution_count": 7,
     "metadata": {},
     "output_type": "execute_result"
    }
   ],
   "source": [
    "%%time\n",
    "import pandas as pd\n",
    "#import numpy as np\n",
    "\n",
    "ratings = pd.read_csv('homework_5_misc\\ml-latest-small\\/ratings.csv')\n",
    "names = pd.read_csv('homework_5_misc\\ml-latest-small\\movies.csv', usecols = ['movieId', 'title'])\n",
    "movies = ratings.merge(names, how = 'left', on='movieId')\n",
    "\"\"\"\n",
    "rating_class = {'низкий рейтинг': list(np.arange(0,2.5,0.5)),\n",
    "                'средний рейтинг': list(np.arange(2.5,4.5,0.5)),\n",
    "                'высокий рейтинг': list(np.arange(4.5,5.5,0.5))}\n",
    "\"\"\"\n",
    "def string_rating(row):\n",
    "    if (row['rating']>=4.5) & (row['rating']<=5.0):\n",
    "        return 'высокий рейтинг'\n",
    "    elif (row['rating']>=2.5) & (row['rating']<=4.5):\n",
    "        return 'средний рейтинг'\n",
    "    elif (row['rating']>=0) & (row['rating']<2.5):\n",
    "        return 'низкий рейтинг'\n",
    "    else:\n",
    "        return 'рейтинг не определён'\n",
    "#простенький вариант\n",
    "#movies['class'] = movies.apply(string_rating, axis = 1)\n",
    "\n",
    "#вариант посложнее - но он не учитывает, сколько оценок поставили фильму\n",
    "movies_num = movies.groupby('title')[['rating']].mean().sort_values('rating', ascending=False)\n",
    "movies_num['class'] = movies_num.apply(string_rating, axis = 1)\n",
    "movies_num.head(300)"
   ]
  },
  {
   "cell_type": "markdown",
   "metadata": {},
   "source": [
    "**Задание 3**\n",
    "\n",
    "Посчитайте среднее значение Lifetime киноманов (пользователи, которые поставили 100 и более рейтингов). Под Lifetime понимается разница между максимальным и минимальным значением timestamp для каждого пользователя. Ответ дайте в днях."
   ]
  },
  {
   "cell_type": "code",
   "execution_count": 78,
   "metadata": {},
   "outputs": [
    {
     "name": "stdout",
     "output_type": "stream",
     "text": [
      "Wall time: 245 ms\n"
     ]
    },
    {
     "data": {
      "text/plain": [
       "511.06854838709677"
      ]
     },
     "execution_count": 78,
     "metadata": {},
     "output_type": "execute_result"
    }
   ],
   "source": [
    "%%time\n",
    "import pandas as pd\n",
    "from datetime import datetime\n",
    "ratings = pd.read_csv('homework_5_misc\\ml-latest-small\\/ratings.csv')\n",
    "all_marks = ratings.pivot_table(index='userId',columns='rating', values = 'movieId', aggfunc='count', margins=True)['All']\n",
    "all_marks = all_marks.head(all_marks.size-1)\n",
    "cinema_lovers = all_marks[all_marks.values>=100]\n",
    "timestamps = ratings[ratings['userId'].isin(list(cinema_lovers.index))].groupby('userId').agg({'timestamp':['min', 'max']})\n",
    "\n",
    "def timestamp_days(row):\n",
    "    \"\"\"\n",
    "    Возвращает количество дней из timestamp\n",
    "    \"\"\"\n",
    "    return (datetime.fromtimestamp(row['timestamp']['max']) - datetime.fromtimestamp(row['timestamp']['min'])).days\n",
    "\n",
    "timestamps['Lifetime'] = timestamps.apply(timestamp_days, axis=1)\n",
    "timestamps['Lifetime'].mean()"
   ]
  },
  {
   "cell_type": "markdown",
   "metadata": {},
   "source": [
    "**Задание 4**\n",
    "\n",
    "Есть мнение, что \"раньше снимали настоящее кино, не то что сейчас\". Ваша задача проверить это утверждение, используя файлы с рейтингами фильмов из материалов занятия. Т. е. проверить верно ли, что с ростом года выпуска фильма его средний рейтинг становится ниже.\n",
    "\n",
    "При этом мы не будем затрагивать субьективные факторы выставления этих рейтингов, а пройдемся по следующему алгоритму:\n",
    "\n",
    "1. В переменную years запишите список из всех годов с 1950 по 2010.\n",
    "\n",
    "2. Напишите функцию production_year, которая каждой строке из названия фильма выставляет год выпуска. Не все названия фильмов содержат год выпуска в одинаковом формате, поэтому используйте следующий алгоритм:\n",
    "    - для каждой строки пройдите по всем годам списка years\n",
    "    - если номер года присутствует в названии фильма, то функция возвращает этот год как год выпуска\n",
    "    - если ни один из номеров года списка years не встретился в названии фильма, то возвращается 1900 год\n",
    "\n",
    "3. Запишите год выпуска фильма по алгоритму пункта 2 в новый столбец 'year'\n",
    "\n",
    "4. Посчитайте средний рейтинг всех фильмов для каждого значения столбца 'year' и отсортируйте результат по убыванию рейтинга"
   ]
  },
  {
   "cell_type": "code",
   "execution_count": 40,
   "metadata": {},
   "outputs": [
    {
     "name": "stdout",
     "output_type": "stream",
     "text": [
      "Variant 1 - year before merge\n",
      "Wall time: 9.97 s\n"
     ]
    },
    {
     "data": {
      "text/plain": [
       "<matplotlib.axes._subplots.AxesSubplot at 0x60e3331b88>"
      ]
     },
     "execution_count": 40,
     "metadata": {},
     "output_type": "execute_result"
    },
    {
     "data": {
      "image/png": "[encoded data removed]",
      "text/plain": [
       "<Figure size 432x288 with 1 Axes>"
      ]
     },
     "metadata": {
      "needs_background": "light"
     },
     "output_type": "display_data"
    }
   ],
   "source": [
    "%%time\n",
    "import pandas as pd\n",
    "import matplotlib.pyplot as plt\n",
    "\n",
    "print ('Variant 1 - year before merge')\n",
    "years_num = list(range(1950,2011))\n",
    "years = [str(y) for y in years_num]\n",
    "ratings = pd.read_csv('homework_5_misc\\ml-latest-small\\/ratings.csv')\n",
    "names = pd.read_csv('homework_5_misc\\ml-latest-small\\movies.csv', usecols = ['movieId', 'title'])\n",
    "def production_year(row):\n",
    "    for year in years:\n",
    "        if year in row['title']:\n",
    "            return int(year)\n",
    "    return 1900\n",
    "\n",
    "names['year'] = names.apply(production_year, axis=1)\n",
    "movies = ratings.merge(names, how = 'left', on = 'movieId')\n",
    "movies.pivot_table(index = 'year', values = 'rating', aggfunc = 'mean').sort_values('rating', ascending = False).reset_index().plot(kind = 'scatter', x='rating',y='year')"
   ]
  },
  {
   "cell_type": "code",
   "execution_count": 32,
   "metadata": {},
   "outputs": [
    {
     "name": "stdout",
     "output_type": "stream",
     "text": [
      "Variant 2 - merge before year\n",
      "Wall time: 1min 36s\n"
     ]
    },
    {
     "data": {
      "text/html": [
       "<div>\n",
       "<style scoped>\n",
       "    .dataframe tbody tr th:only-of-type {\n",
       "        vertical-align: middle;\n",
       "    }\n",
       "\n",
       "    .dataframe tbody tr th {\n",
       "        vertical-align: top;\n",
       "    }\n",
       "\n",
       "    .dataframe thead th {\n",
       "        text-align: right;\n",
       "    }\n",
       "</style>\n",
       "<table border=\"1\" class=\"dataframe\">\n",
       "  <thead>\n",
       "    <tr style=\"text-align: right;\">\n",
       "      <th></th>\n",
       "      <th>rating</th>\n",
       "    </tr>\n",
       "    <tr>\n",
       "      <th>year</th>\n",
       "      <th></th>\n",
       "    </tr>\n",
       "  </thead>\n",
       "  <tbody>\n",
       "    <tr>\n",
       "      <th>1957</th>\n",
       "      <td>4.039535</td>\n",
       "    </tr>\n",
       "    <tr>\n",
       "      <th>1954</th>\n",
       "      <td>4.009191</td>\n",
       "    </tr>\n",
       "    <tr>\n",
       "      <th>1962</th>\n",
       "      <td>3.969466</td>\n",
       "    </tr>\n",
       "    <tr>\n",
       "      <th>1952</th>\n",
       "      <td>3.953125</td>\n",
       "    </tr>\n",
       "    <tr>\n",
       "      <th>1972</th>\n",
       "      <td>3.944293</td>\n",
       "    </tr>\n",
       "  </tbody>\n",
       "</table>\n",
       "</div>"
      ],
      "text/plain": [
       "        rating\n",
       "year          \n",
       "1957  4.039535\n",
       "1954  4.009191\n",
       "1962  3.969466\n",
       "1952  3.953125\n",
       "1972  3.944293"
      ]
     },
     "execution_count": 32,
     "metadata": {},
     "output_type": "execute_result"
    }
   ],
   "source": [
    "%%time\n",
    "import pandas as pd\n",
    "print ('Variant 2 - merge before year')\n",
    "years_num = list(range(1950,2011))\n",
    "years = [str(y) for y in years_num]\n",
    "ratings = pd.read_csv('homework_5_misc\\ml-latest-small\\/ratings.csv')\n",
    "names = pd.read_csv('homework_5_misc\\ml-latest-small\\movies.csv', usecols = ['movieId', 'title'])\n",
    "def production_year(row):\n",
    "    for year in years:\n",
    "        if year in row['title']:\n",
    "            return int(year)\n",
    "    return 1900\n",
    "\n",
    "movies = ratings.merge(names, how = 'left', on = 'movieId')\n",
    "movies['year'] = movies.apply(production_year, axis=1)\n",
    "movies.pivot_table(index = 'year', values = 'rating', aggfunc = 'mean').sort_values('rating', ascending = False).head()"
   ]
  },
  {
   "cell_type": "code",
   "execution_count": null,
   "metadata": {},
   "outputs": [],
   "source": []
  }
 ],
 "metadata": {
  "kernelspec": {
   "display_name": "Python 3",
   "language": "python",
   "name": "python3"
  },
  "language_info": {
   "codemirror_mode": {
    "name": "ipython",
    "version": 3
   },
   "file_extension": ".py",
   "mimetype": "text/x-python",
   "name": "python",
   "nbconvert_exporter": "python",
   "pygments_lexer": "ipython3",
   "version": "3.7.6"
  }
 },
 "nbformat": 4,
 "nbformat_minor": 4
}
