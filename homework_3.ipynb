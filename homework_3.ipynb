{
 "cells": [
  {
   "cell_type": "markdown",
   "metadata": {},
   "source": [
    "Задание 1\n",
    "Дан список вида:\n",
    "data = [\n",
    "    [13, 25, 23, 34],\n",
    "    [45, 32, 44, 47],\n",
    "    [12, 33, 23, 95],\n",
    "    [13, 53, 34, 35],\n",
    "]\n",
    "\n",
    "Напишите функцию, которая возвращает сумму элементов на диагонали. Т. е. 13+32+23+35."
   ]
  },
  {
   "cell_type": "code",
   "execution_count": 3,
   "metadata": {},
   "outputs": [
    {
     "data": {
      "text/plain": [
       "103"
      ]
     },
     "execution_count": 3,
     "metadata": {},
     "output_type": "execute_result"
    }
   ],
   "source": [
    "data = [\n",
    "    [13, 25, 23, 34],\n",
    "    [45, 32, 44, 47],\n",
    "    [12, 33, 23, 95],\n",
    "    [13, 53, 34, 35],\n",
    "]\n",
    "\n",
    "def return_diag_sum (data_):\n",
    "    \"\"\"\n",
    "    Функция принимает матрицу целых (или дробных) чисел \n",
    "    и возвращает сумму на диагонали матрицы\n",
    "    \"\"\"\n",
    "    sum_ = 0\n",
    "    for i in range(len(data_)):\n",
    "        sum_ += data_[i][i]\n",
    "    return sum_\n",
    "        \n",
    "return_diag_sum(data)"
   ]
  },
  {
   "cell_type": "markdown",
   "metadata": {},
   "source": [
    "Задание 2\n",
    "Дан список чисел, часть из которых имеют строковый тип или содержат буквы. Напишите функцию, которая возвращает сумму квадратов элементов, которые могут быть числами.\n",
    "data = [1, '5', 'abc', 20, '2']"
   ]
  },
  {
   "cell_type": "code",
   "execution_count": 2,
   "metadata": {},
   "outputs": [
    {
     "data": {
      "text/plain": [
       "439.0"
      ]
     },
     "execution_count": 2,
     "metadata": {},
     "output_type": "execute_result"
    }
   ],
   "source": [
    "def is_digit(string):\n",
    "    \"\"\"\n",
    "    Функция для проверки, можно ли сконвертировать строку string в число\n",
    "    Функция возвращает:\n",
    "    1, если число целое\n",
    "    2, если число с плавающей точкой \n",
    "    0, если строка не является числом\n",
    "    \"\"\"\n",
    "    if string.isdigit():\n",
    "        return 1\n",
    "    else:\n",
    "        try:\n",
    "            float(string)\n",
    "            return 2\n",
    "        except ValueError:\n",
    "            return 0\n",
    "\n",
    "def return_quad_sum (data_):\n",
    "    \"\"\"\n",
    "    Функция возвращает сумму квадратов элементов строки, \n",
    "    которые могут быть десятичными числами\n",
    "    \"\"\"\n",
    "    sum_ = 0\n",
    "    for s in data_:\n",
    "        if type(s) == str:\n",
    "            digit = is_digit(s)\n",
    "            if digit == 1:\n",
    "                sum_+=(int(s))**2\n",
    "            elif digit == 2:\n",
    "                sum_+=(float(s))**2\n",
    "        elif type(s) == int or type(s) == float:\n",
    "                sum_+= s**2\n",
    "    return sum_\n",
    "\n",
    "data = [1, '5', 'abc', 20, '2', 3.00]\n",
    "return_quad_sum(data)"
   ]
  },
  {
   "cell_type": "markdown",
   "metadata": {},
   "source": [
    "Задание 3\n",
    "Напишите функцию, которая возвращает название валюты (поле 'Name') с максимальным значением курса с помощью сервиса https://www.cbr-xml-daily.ru/daily_json.js"
   ]
  },
  {
   "cell_type": "code",
   "execution_count": 17,
   "metadata": {},
   "outputs": [
    {
     "name": "stdout",
     "output_type": "stream",
     "text": [
      "СДР (специальные права заимствования)\n"
     ]
    },
    {
     "data": {
      "text/plain": [
       "'СДР (специальные права заимствования)'"
      ]
     },
     "execution_count": 17,
     "metadata": {},
     "output_type": "execute_result"
    }
   ],
   "source": [
    "import requests\n",
    "def maximum_currency():\n",
    "    \"\"\"\n",
    "    Функция возвращает имя валюты с максимальным значением курса\n",
    "    Валюты тянутся из https://www.cbr-xml-daily.ru/daily_json.js\n",
    "    \"\"\"\n",
    "    r = requests.get('https://www.cbr-xml-daily.ru/daily_json.js').json()['Valute']\n",
    "    #получаем JSON-файл с сервера через requests, сразу его распаковываем и преобразуем в список\n",
    "    str_ = next(iter(sorted(r.items(), key = lambda x: x[1]['Value'], reverse = True)))[1]['Name']\n",
    "    #Сортируем полученный список по курсу валюты, по убыванию (reverse = True)\n",
    "    #lambda x: x[1]['Value'] - берем второй элемент кортежа (значение словаря), \n",
    "    #затем берем элемент, соответствующий ключу Value\n",
    "    #После сортировки создаем итератор, проходящийся по нашему отсортированному словарю\n",
    "    #Берем первый элемент через итератор, получаем словарь, в словаре берем значение - опять второй элемент кортежа\n",
    "    #И ищем по ключу Name нужное нам значние - имя валюты.\n",
    "    \n",
    "    return str_\n",
    "print (maximum_currency())\n",
    "\n",
    "def maximum_currency_alt():\n",
    "    \"\"\"\n",
    "    Альтернативная функция, проходящаяся по всему списку\n",
    "    Функция возвращает имя валюты с максимальным значением курса\n",
    "    Валюты тянутся из https://www.cbr-xml-daily.ru/daily_json.js\n",
    "    \"\"\"\n",
    "    r = requests.get('https://www.cbr-xml-daily.ru/daily_json.js').json()['Valute']\n",
    "    max_ = 0.0\n",
    "    name_= ''\n",
    "    for v in r.values():\n",
    "        if v['Value']>max_:\n",
    "            max_ = v['Value']\n",
    "            name_ = v['Name']\n",
    "    return name_\n",
    "    \n",
    "maximum_currency_alt()\n",
    "\n",
    "    "
   ]
  },
  {
   "cell_type": "markdown",
   "metadata": {},
   "source": [
    "Задание 4\n",
    "Последнее упражнение с занятия\n",
    "1. Добавьте в класс еще один формат, который возвращает название валюты (например, 'Евро').\n",
    "\n",
    "2. Добавьте в класс параметр diff (со значениями True или False), который в случае значения True в методах eur и usd будет возвращать не курс валюты, а изменение по сравнению в прошлым значением.\n"
   ]
  },
  {
   "cell_type": "code",
   "execution_count": null,
   "metadata": {},
   "outputs": [],
   "source": [
    "import requests\n",
    "class Rate:\n",
    "    def __init__(self, format='value', diff = False):\n",
    "        self.format = format\n",
    "        self.diff = diff\n",
    "    \n",
    "    def exchange_rates(self):\n",
    "        \"\"\"\n",
    "        Возвращает ответ сервиса с информацией о валютах в виде:\n",
    "        \n",
    "        {\n",
    "            'AMD': {\n",
    "                'CharCode': 'AMD',\n",
    "                'ID': 'R01060',\n",
    "                'Name': 'Армянских драмов',\n",
    "                'Nominal': 100,\n",
    "                'NumCode': '051',\n",
    "                'Previous': 14.103,\n",
    "                'Value': 14.0879\n",
    "                },\n",
    "            ...\n",
    "        }\n",
    "        \"\"\"\n",
    "        r = requests.get('https://www.cbr-xml-daily.ru/daily_json.js')\n",
    "        return r.json()['Valute']\n",
    "    \n",
    "    def make_format(self, currency):\n",
    "        \"\"\"\n",
    "        Возвращает информацию о валюте currency в трёх вариантах:\n",
    "        - полная информация о валюте при self.format = 'full':\n",
    "        Rate('full').make_format('EUR')\n",
    "        {\n",
    "            'CharCode': 'EUR',\n",
    "            'ID': 'R01239',\n",
    "            'Name': 'Евро',\n",
    "            'Nominal': 1,\n",
    "            'NumCode': '978',\n",
    "            'Previous': 79.6765,\n",
    "            'Value': 79.4966\n",
    "        }\n",
    "        \n",
    "        Rate('value').make_format('EUR')\n",
    "        79.4966\n",
    "        \n",
    "        Rate('name').make_format('EUR')\n",
    "        Евро\n",
    "        \"\"\"\n",
    "        response = self.exchange_rates()\n",
    "        \n",
    "        if currency in response:\n",
    "            if self.format == 'full':\n",
    "                return response[currency]\n",
    "            \n",
    "            if self.format == 'value':\n",
    "                if self.diff:\n",
    "                    return response[currency]['Value'] - response[currency]['Previous']\n",
    "                else:\n",
    "                    return response[currency]['Value']\n",
    "            \n",
    "            if self.format == 'name':\n",
    "                return response[currency]['Name']\n",
    "        \n",
    "        return 'Error'\n",
    "    \n",
    "    def eur(self):\n",
    "        \"\"\"Возвращает курс евро на сегодня в формате self.format\"\"\"\n",
    "        return self.make_format('EUR')\n",
    "    \n",
    "    def usd(self):\n",
    "        \"\"\"Возвращает курс доллара на сегодня в формате self.format\"\"\"\n",
    "        return self.make_format('USD')\n",
    "    \n",
    "    \n",
    "rate_object = Rate()\n",
    "print(rate_object.eur())\n",
    "rate_object.diff = True\n",
    "print(rate_object.eur())\n",
    "rate_object.format = 'name'\n",
    "print(rate_object.eur())\n"
   ]
  },
  {
   "cell_type": "markdown",
   "metadata": {},
   "source": [
    "Задание 5\n",
    "Напишите функцию, возвращающую сумму первых n чисел Фибоначчи"
   ]
  },
  {
   "cell_type": "code",
   "execution_count": 26,
   "metadata": {},
   "outputs": [
    {
     "data": {
      "text/plain": [
       "7"
      ]
     },
     "execution_count": 26,
     "metadata": {},
     "output_type": "execute_result"
    }
   ],
   "source": [
    "def fibonacci_sum(n_):\n",
    "    \"\"\"\n",
    "    Функция возвращает сумму n_ первых чисел Фибоначчи. n_ может быть строкой.\n",
    "    \"\"\"\n",
    "    fibonacci_list = [0,1]\n",
    "    for i in range (2, int(n_)):\n",
    "        fibonacci_element = fibonacci_list[i-1]+fibonacci_list[i-2]\n",
    "        fibonacci_list.append(fibonacci_element)\n",
    "    return sum(fibonacci_list)\n",
    "\n",
    "fibonacci_sum(10)\n",
    "fibonacci_sum('5')\n"
   ]
  },
  {
   "cell_type": "markdown",
   "metadata": {},
   "source": [
    "Задание 6\n",
    "Напишите функцию, преобразующую произвольный список вида ['2018-01-01', 'yandex', 'cpc', 100] в словарь {'2018-01-01': {'yandex': {'cpc': 100}}"
   ]
  },
  {
   "cell_type": "code",
   "execution_count": 37,
   "metadata": {},
   "outputs": [
    {
     "name": "stdout",
     "output_type": "stream",
     "text": [
      "{'2018-01-01': {'yandex': {'cpc': 100}}}\n",
      "{'2018-01-01': {'january': {'october': {'yandex': {'adapted': {'cpc': 100}}}}}}\n"
     ]
    }
   ],
   "source": [
    "def list_to_dict (list_):\n",
    "    \"\"\"\n",
    "    Рекурсивная функция преобразует произвольный список вида \n",
    "    ['2018-01-01', 'yandex', 'cpc', 100] \n",
    "    в словарь \n",
    "    {'2018-01-01': {'yandex': {'cpc': 100}}\n",
    "    \"\"\"\n",
    "    tmp_dict = {}\n",
    "    if (len(list_)>1):\n",
    "        tmp_dict = {list_[0]:list_to_dict(list_[1:])}\n",
    "        return tmp_dict\n",
    "    else:\n",
    "        return list_[0]\n",
    "test_list = ['2018-01-01', 'yandex', 'cpc', 100]\n",
    "print (list_to_dict(test_list))\n",
    "test_list_long = ['2018-01-01','january', 'october', 'yandex','adapted', 'cpc', 100,]\n",
    "print (list_to_dict(test_list_long))\n",
    "        \n",
    "    "
   ]
  },
  {
   "cell_type": "code",
   "execution_count": null,
   "metadata": {},
   "outputs": [],
   "source": []
  }
 ],
 "metadata": {
  "kernelspec": {
   "display_name": "Python 3",
   "language": "python",
   "name": "python3"
  },
  "language_info": {
   "codemirror_mode": {
    "name": "ipython",
    "version": 3
   },
   "file_extension": ".py",
   "mimetype": "text/x-python",
   "name": "python",
   "nbconvert_exporter": "python",
   "pygments_lexer": "ipython3",
   "version": "3.7.6"
  }
 },
 "nbformat": 4,
 "nbformat_minor": 4
}
