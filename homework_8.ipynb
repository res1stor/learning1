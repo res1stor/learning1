{
 "cells": [
  {
   "cell_type": "markdown",
   "metadata": {},
   "source": [
    "Построить 5 графиков по выбранным данным. \n",
    "\n",
    "Графики должны быть различных видов и использовать хотя бы 2 из рассмотренных на занятии библиотек. \n",
    "\n",
    "Для каждого описать, какого типа переменные участвуют в визуализации, какова её цель (например, посмотреть на корреляцию двух величин или на распределение значений) и почему выбрали именно такой тип графика.\n"
   ]
  },
  {
   "cell_type": "code",
   "execution_count": 1,
   "metadata": {
    "scrolled": true
   },
   "outputs": [
    {
     "data": {
      "text/html": [
       "<div>\n",
       "<style scoped>\n",
       "    .dataframe tbody tr th:only-of-type {\n",
       "        vertical-align: middle;\n",
       "    }\n",
       "\n",
       "    .dataframe tbody tr th {\n",
       "        vertical-align: top;\n",
       "    }\n",
       "\n",
       "    .dataframe thead th {\n",
       "        text-align: right;\n",
       "    }\n",
       "</style>\n",
       "<table border=\"1\" class=\"dataframe\">\n",
       "  <thead>\n",
       "    <tr style=\"text-align: right;\">\n",
       "      <th></th>\n",
       "      <th>name</th>\n",
       "      <th>year_start</th>\n",
       "      <th>year_end</th>\n",
       "      <th>position</th>\n",
       "      <th>height</th>\n",
       "      <th>weight</th>\n",
       "      <th>birth_date</th>\n",
       "      <th>college</th>\n",
       "    </tr>\n",
       "  </thead>\n",
       "  <tbody>\n",
       "    <tr>\n",
       "      <th>0</th>\n",
       "      <td>Alaa Abdelnaby</td>\n",
       "      <td>1991</td>\n",
       "      <td>1995</td>\n",
       "      <td>F-C</td>\n",
       "      <td>6-10</td>\n",
       "      <td>240.0</td>\n",
       "      <td>June 24, 1968</td>\n",
       "      <td>Duke University</td>\n",
       "    </tr>\n",
       "    <tr>\n",
       "      <th>1</th>\n",
       "      <td>Zaid Abdul-Aziz</td>\n",
       "      <td>1969</td>\n",
       "      <td>1978</td>\n",
       "      <td>C-F</td>\n",
       "      <td>6-9</td>\n",
       "      <td>235.0</td>\n",
       "      <td>April 7, 1946</td>\n",
       "      <td>Iowa State University</td>\n",
       "    </tr>\n",
       "    <tr>\n",
       "      <th>2</th>\n",
       "      <td>Kareem Abdul-Jabbar</td>\n",
       "      <td>1970</td>\n",
       "      <td>1989</td>\n",
       "      <td>C</td>\n",
       "      <td>7-2</td>\n",
       "      <td>225.0</td>\n",
       "      <td>April 16, 1947</td>\n",
       "      <td>University of California, Los Angeles</td>\n",
       "    </tr>\n",
       "    <tr>\n",
       "      <th>3</th>\n",
       "      <td>Mahmoud Abdul-Rauf</td>\n",
       "      <td>1991</td>\n",
       "      <td>2001</td>\n",
       "      <td>G</td>\n",
       "      <td>6-1</td>\n",
       "      <td>162.0</td>\n",
       "      <td>March 9, 1969</td>\n",
       "      <td>Louisiana State University</td>\n",
       "    </tr>\n",
       "    <tr>\n",
       "      <th>4</th>\n",
       "      <td>Tariq Abdul-Wahad</td>\n",
       "      <td>1998</td>\n",
       "      <td>2003</td>\n",
       "      <td>F</td>\n",
       "      <td>6-6</td>\n",
       "      <td>223.0</td>\n",
       "      <td>November 3, 1974</td>\n",
       "      <td>San Jose State University</td>\n",
       "    </tr>\n",
       "    <tr>\n",
       "      <th>...</th>\n",
       "      <td>...</td>\n",
       "      <td>...</td>\n",
       "      <td>...</td>\n",
       "      <td>...</td>\n",
       "      <td>...</td>\n",
       "      <td>...</td>\n",
       "      <td>...</td>\n",
       "      <td>...</td>\n",
       "    </tr>\n",
       "    <tr>\n",
       "      <th>4545</th>\n",
       "      <td>Ante Zizic</td>\n",
       "      <td>2018</td>\n",
       "      <td>2018</td>\n",
       "      <td>F-C</td>\n",
       "      <td>6-11</td>\n",
       "      <td>250.0</td>\n",
       "      <td>January 4, 1997</td>\n",
       "      <td>NaN</td>\n",
       "    </tr>\n",
       "    <tr>\n",
       "      <th>4546</th>\n",
       "      <td>Jim Zoet</td>\n",
       "      <td>1983</td>\n",
       "      <td>1983</td>\n",
       "      <td>C</td>\n",
       "      <td>7-1</td>\n",
       "      <td>240.0</td>\n",
       "      <td>December 20, 1953</td>\n",
       "      <td>Kent State University</td>\n",
       "    </tr>\n",
       "    <tr>\n",
       "      <th>4547</th>\n",
       "      <td>Bill Zopf</td>\n",
       "      <td>1971</td>\n",
       "      <td>1971</td>\n",
       "      <td>G</td>\n",
       "      <td>6-1</td>\n",
       "      <td>170.0</td>\n",
       "      <td>June 7, 1948</td>\n",
       "      <td>Duquesne University</td>\n",
       "    </tr>\n",
       "    <tr>\n",
       "      <th>4548</th>\n",
       "      <td>Ivica Zubac</td>\n",
       "      <td>2017</td>\n",
       "      <td>2018</td>\n",
       "      <td>C</td>\n",
       "      <td>7-1</td>\n",
       "      <td>265.0</td>\n",
       "      <td>March 18, 1997</td>\n",
       "      <td>NaN</td>\n",
       "    </tr>\n",
       "    <tr>\n",
       "      <th>4549</th>\n",
       "      <td>Matt Zunic</td>\n",
       "      <td>1949</td>\n",
       "      <td>1949</td>\n",
       "      <td>G-F</td>\n",
       "      <td>6-3</td>\n",
       "      <td>195.0</td>\n",
       "      <td>December 19, 1919</td>\n",
       "      <td>George Washington University</td>\n",
       "    </tr>\n",
       "  </tbody>\n",
       "</table>\n",
       "<p>4550 rows × 8 columns</p>\n",
       "</div>"
      ],
      "text/plain": [
       "                     name  year_start  year_end position height  weight  \\\n",
       "0          Alaa Abdelnaby        1991      1995      F-C   6-10   240.0   \n",
       "1         Zaid Abdul-Aziz        1969      1978      C-F    6-9   235.0   \n",
       "2     Kareem Abdul-Jabbar        1970      1989        C    7-2   225.0   \n",
       "3      Mahmoud Abdul-Rauf        1991      2001        G    6-1   162.0   \n",
       "4       Tariq Abdul-Wahad        1998      2003        F    6-6   223.0   \n",
       "...                   ...         ...       ...      ...    ...     ...   \n",
       "4545           Ante Zizic        2018      2018      F-C   6-11   250.0   \n",
       "4546             Jim Zoet        1983      1983        C    7-1   240.0   \n",
       "4547            Bill Zopf        1971      1971        G    6-1   170.0   \n",
       "4548          Ivica Zubac        2017      2018        C    7-1   265.0   \n",
       "4549           Matt Zunic        1949      1949      G-F    6-3   195.0   \n",
       "\n",
       "             birth_date                                college  \n",
       "0         June 24, 1968                        Duke University  \n",
       "1         April 7, 1946                  Iowa State University  \n",
       "2        April 16, 1947  University of California, Los Angeles  \n",
       "3         March 9, 1969             Louisiana State University  \n",
       "4      November 3, 1974              San Jose State University  \n",
       "...                 ...                                    ...  \n",
       "4545    January 4, 1997                                    NaN  \n",
       "4546  December 20, 1953                  Kent State University  \n",
       "4547       June 7, 1948                    Duquesne University  \n",
       "4548     March 18, 1997                                    NaN  \n",
       "4549  December 19, 1919           George Washington University  \n",
       "\n",
       "[4550 rows x 8 columns]"
      ]
     },
     "execution_count": 1,
     "metadata": {},
     "output_type": "execute_result"
    }
   ],
   "source": [
    "import pandas as pd\n",
    "player_data = pd.read_csv('homework_8_misc\\player_data.csv')\n",
    "player_data\n"
   ]
  },
  {
   "cell_type": "code",
   "execution_count": 2,
   "metadata": {},
   "outputs": [
    {
     "data": {
      "text/html": [
       "<div>\n",
       "<style scoped>\n",
       "    .dataframe tbody tr th:only-of-type {\n",
       "        vertical-align: middle;\n",
       "    }\n",
       "\n",
       "    .dataframe tbody tr th {\n",
       "        vertical-align: top;\n",
       "    }\n",
       "\n",
       "    .dataframe thead th {\n",
       "        text-align: right;\n",
       "    }\n",
       "</style>\n",
       "<table border=\"1\" class=\"dataframe\">\n",
       "  <thead>\n",
       "    <tr style=\"text-align: right;\">\n",
       "      <th></th>\n",
       "      <th>Unnamed: 0</th>\n",
       "      <th>Player</th>\n",
       "      <th>height</th>\n",
       "      <th>weight</th>\n",
       "      <th>collage</th>\n",
       "      <th>born</th>\n",
       "      <th>birth_city</th>\n",
       "      <th>birth_state</th>\n",
       "    </tr>\n",
       "  </thead>\n",
       "  <tbody>\n",
       "    <tr>\n",
       "      <th>0</th>\n",
       "      <td>0</td>\n",
       "      <td>Curly Armstrong</td>\n",
       "      <td>180.0</td>\n",
       "      <td>77.0</td>\n",
       "      <td>Indiana University</td>\n",
       "      <td>1918.0</td>\n",
       "      <td>NaN</td>\n",
       "      <td>NaN</td>\n",
       "    </tr>\n",
       "    <tr>\n",
       "      <th>1</th>\n",
       "      <td>1</td>\n",
       "      <td>Cliff Barker</td>\n",
       "      <td>188.0</td>\n",
       "      <td>83.0</td>\n",
       "      <td>University of Kentucky</td>\n",
       "      <td>1921.0</td>\n",
       "      <td>Yorktown</td>\n",
       "      <td>Indiana</td>\n",
       "    </tr>\n",
       "    <tr>\n",
       "      <th>2</th>\n",
       "      <td>2</td>\n",
       "      <td>Leo Barnhorst</td>\n",
       "      <td>193.0</td>\n",
       "      <td>86.0</td>\n",
       "      <td>University of Notre Dame</td>\n",
       "      <td>1924.0</td>\n",
       "      <td>NaN</td>\n",
       "      <td>NaN</td>\n",
       "    </tr>\n",
       "    <tr>\n",
       "      <th>3</th>\n",
       "      <td>3</td>\n",
       "      <td>Ed Bartels</td>\n",
       "      <td>196.0</td>\n",
       "      <td>88.0</td>\n",
       "      <td>North Carolina State University</td>\n",
       "      <td>1925.0</td>\n",
       "      <td>NaN</td>\n",
       "      <td>NaN</td>\n",
       "    </tr>\n",
       "    <tr>\n",
       "      <th>4</th>\n",
       "      <td>4</td>\n",
       "      <td>Ralph Beard</td>\n",
       "      <td>178.0</td>\n",
       "      <td>79.0</td>\n",
       "      <td>University of Kentucky</td>\n",
       "      <td>1927.0</td>\n",
       "      <td>Hardinsburg</td>\n",
       "      <td>Kentucky</td>\n",
       "    </tr>\n",
       "    <tr>\n",
       "      <th>...</th>\n",
       "      <td>...</td>\n",
       "      <td>...</td>\n",
       "      <td>...</td>\n",
       "      <td>...</td>\n",
       "      <td>...</td>\n",
       "      <td>...</td>\n",
       "      <td>...</td>\n",
       "      <td>...</td>\n",
       "    </tr>\n",
       "    <tr>\n",
       "      <th>3917</th>\n",
       "      <td>3917</td>\n",
       "      <td>Troy Williams</td>\n",
       "      <td>198.0</td>\n",
       "      <td>97.0</td>\n",
       "      <td>South Carolina State University</td>\n",
       "      <td>1969.0</td>\n",
       "      <td>Columbia</td>\n",
       "      <td>South Carolina</td>\n",
       "    </tr>\n",
       "    <tr>\n",
       "      <th>3918</th>\n",
       "      <td>3918</td>\n",
       "      <td>Kyle Wiltjer</td>\n",
       "      <td>208.0</td>\n",
       "      <td>108.0</td>\n",
       "      <td>Gonzaga University</td>\n",
       "      <td>1992.0</td>\n",
       "      <td>Portland</td>\n",
       "      <td>Oregon</td>\n",
       "    </tr>\n",
       "    <tr>\n",
       "      <th>3919</th>\n",
       "      <td>3919</td>\n",
       "      <td>Stephen Zimmerman</td>\n",
       "      <td>213.0</td>\n",
       "      <td>108.0</td>\n",
       "      <td>University of Nevada, Las Vegas</td>\n",
       "      <td>1996.0</td>\n",
       "      <td>Hendersonville</td>\n",
       "      <td>Tennessee</td>\n",
       "    </tr>\n",
       "    <tr>\n",
       "      <th>3920</th>\n",
       "      <td>3920</td>\n",
       "      <td>Paul Zipser</td>\n",
       "      <td>203.0</td>\n",
       "      <td>97.0</td>\n",
       "      <td>NaN</td>\n",
       "      <td>1994.0</td>\n",
       "      <td>Heidelberg</td>\n",
       "      <td>Germany</td>\n",
       "    </tr>\n",
       "    <tr>\n",
       "      <th>3921</th>\n",
       "      <td>3921</td>\n",
       "      <td>Ivica Zubac</td>\n",
       "      <td>216.0</td>\n",
       "      <td>120.0</td>\n",
       "      <td>NaN</td>\n",
       "      <td>1997.0</td>\n",
       "      <td>Mostar</td>\n",
       "      <td>Bosnia and Herzegovina</td>\n",
       "    </tr>\n",
       "  </tbody>\n",
       "</table>\n",
       "<p>3922 rows × 8 columns</p>\n",
       "</div>"
      ],
      "text/plain": [
       "      Unnamed: 0             Player  height  weight  \\\n",
       "0              0    Curly Armstrong   180.0    77.0   \n",
       "1              1       Cliff Barker   188.0    83.0   \n",
       "2              2      Leo Barnhorst   193.0    86.0   \n",
       "3              3         Ed Bartels   196.0    88.0   \n",
       "4              4        Ralph Beard   178.0    79.0   \n",
       "...          ...                ...     ...     ...   \n",
       "3917        3917      Troy Williams   198.0    97.0   \n",
       "3918        3918       Kyle Wiltjer   208.0   108.0   \n",
       "3919        3919  Stephen Zimmerman   213.0   108.0   \n",
       "3920        3920        Paul Zipser   203.0    97.0   \n",
       "3921        3921        Ivica Zubac   216.0   120.0   \n",
       "\n",
       "                              collage    born      birth_city  \\\n",
       "0                  Indiana University  1918.0             NaN   \n",
       "1              University of Kentucky  1921.0        Yorktown   \n",
       "2            University of Notre Dame  1924.0             NaN   \n",
       "3     North Carolina State University  1925.0             NaN   \n",
       "4              University of Kentucky  1927.0     Hardinsburg   \n",
       "...                               ...     ...             ...   \n",
       "3917  South Carolina State University  1969.0        Columbia   \n",
       "3918               Gonzaga University  1992.0        Portland   \n",
       "3919  University of Nevada, Las Vegas  1996.0  Hendersonville   \n",
       "3920                              NaN  1994.0      Heidelberg   \n",
       "3921                              NaN  1997.0          Mostar   \n",
       "\n",
       "                 birth_state  \n",
       "0                        NaN  \n",
       "1                    Indiana  \n",
       "2                        NaN  \n",
       "3                        NaN  \n",
       "4                   Kentucky  \n",
       "...                      ...  \n",
       "3917          South Carolina  \n",
       "3918                  Oregon  \n",
       "3919               Tennessee  \n",
       "3920                 Germany  \n",
       "3921  Bosnia and Herzegovina  \n",
       "\n",
       "[3922 rows x 8 columns]"
      ]
     },
     "execution_count": 2,
     "metadata": {},
     "output_type": "execute_result"
    }
   ],
   "source": [
    "players = pd.read_csv('homework_8_misc\\Players.csv')\n",
    "players"
   ]
  },
  {
   "cell_type": "code",
   "execution_count": 3,
   "metadata": {},
   "outputs": [
    {
     "data": {
      "text/html": [
       "<div>\n",
       "<style scoped>\n",
       "    .dataframe tbody tr th:only-of-type {\n",
       "        vertical-align: middle;\n",
       "    }\n",
       "\n",
       "    .dataframe tbody tr th {\n",
       "        vertical-align: top;\n",
       "    }\n",
       "\n",
       "    .dataframe thead th {\n",
       "        text-align: right;\n",
       "    }\n",
       "</style>\n",
       "<table border=\"1\" class=\"dataframe\">\n",
       "  <thead>\n",
       "    <tr style=\"text-align: right;\">\n",
       "      <th></th>\n",
       "      <th>Unnamed: 0</th>\n",
       "      <th>Year</th>\n",
       "      <th>Player</th>\n",
       "      <th>Pos</th>\n",
       "      <th>Age</th>\n",
       "      <th>Tm</th>\n",
       "      <th>G</th>\n",
       "      <th>GS</th>\n",
       "      <th>MP</th>\n",
       "      <th>PER</th>\n",
       "      <th>...</th>\n",
       "      <th>FT%</th>\n",
       "      <th>ORB</th>\n",
       "      <th>DRB</th>\n",
       "      <th>TRB</th>\n",
       "      <th>AST</th>\n",
       "      <th>STL</th>\n",
       "      <th>BLK</th>\n",
       "      <th>TOV</th>\n",
       "      <th>PF</th>\n",
       "      <th>PTS</th>\n",
       "    </tr>\n",
       "  </thead>\n",
       "  <tbody>\n",
       "    <tr>\n",
       "      <th>0</th>\n",
       "      <td>0</td>\n",
       "      <td>1950.0</td>\n",
       "      <td>Curly Armstrong</td>\n",
       "      <td>G-F</td>\n",
       "      <td>31.0</td>\n",
       "      <td>FTW</td>\n",
       "      <td>63.0</td>\n",
       "      <td>NaN</td>\n",
       "      <td>NaN</td>\n",
       "      <td>NaN</td>\n",
       "      <td>...</td>\n",
       "      <td>0.705</td>\n",
       "      <td>NaN</td>\n",
       "      <td>NaN</td>\n",
       "      <td>NaN</td>\n",
       "      <td>176.0</td>\n",
       "      <td>NaN</td>\n",
       "      <td>NaN</td>\n",
       "      <td>NaN</td>\n",
       "      <td>217.0</td>\n",
       "      <td>458.0</td>\n",
       "    </tr>\n",
       "    <tr>\n",
       "      <th>1</th>\n",
       "      <td>1</td>\n",
       "      <td>1950.0</td>\n",
       "      <td>Cliff Barker</td>\n",
       "      <td>SG</td>\n",
       "      <td>29.0</td>\n",
       "      <td>INO</td>\n",
       "      <td>49.0</td>\n",
       "      <td>NaN</td>\n",
       "      <td>NaN</td>\n",
       "      <td>NaN</td>\n",
       "      <td>...</td>\n",
       "      <td>0.708</td>\n",
       "      <td>NaN</td>\n",
       "      <td>NaN</td>\n",
       "      <td>NaN</td>\n",
       "      <td>109.0</td>\n",
       "      <td>NaN</td>\n",
       "      <td>NaN</td>\n",
       "      <td>NaN</td>\n",
       "      <td>99.0</td>\n",
       "      <td>279.0</td>\n",
       "    </tr>\n",
       "    <tr>\n",
       "      <th>2</th>\n",
       "      <td>2</td>\n",
       "      <td>1950.0</td>\n",
       "      <td>Leo Barnhorst</td>\n",
       "      <td>SF</td>\n",
       "      <td>25.0</td>\n",
       "      <td>CHS</td>\n",
       "      <td>67.0</td>\n",
       "      <td>NaN</td>\n",
       "      <td>NaN</td>\n",
       "      <td>NaN</td>\n",
       "      <td>...</td>\n",
       "      <td>0.698</td>\n",
       "      <td>NaN</td>\n",
       "      <td>NaN</td>\n",
       "      <td>NaN</td>\n",
       "      <td>140.0</td>\n",
       "      <td>NaN</td>\n",
       "      <td>NaN</td>\n",
       "      <td>NaN</td>\n",
       "      <td>192.0</td>\n",
       "      <td>438.0</td>\n",
       "    </tr>\n",
       "    <tr>\n",
       "      <th>3</th>\n",
       "      <td>3</td>\n",
       "      <td>1950.0</td>\n",
       "      <td>Ed Bartels</td>\n",
       "      <td>F</td>\n",
       "      <td>24.0</td>\n",
       "      <td>TOT</td>\n",
       "      <td>15.0</td>\n",
       "      <td>NaN</td>\n",
       "      <td>NaN</td>\n",
       "      <td>NaN</td>\n",
       "      <td>...</td>\n",
       "      <td>0.559</td>\n",
       "      <td>NaN</td>\n",
       "      <td>NaN</td>\n",
       "      <td>NaN</td>\n",
       "      <td>20.0</td>\n",
       "      <td>NaN</td>\n",
       "      <td>NaN</td>\n",
       "      <td>NaN</td>\n",
       "      <td>29.0</td>\n",
       "      <td>63.0</td>\n",
       "    </tr>\n",
       "    <tr>\n",
       "      <th>4</th>\n",
       "      <td>4</td>\n",
       "      <td>1950.0</td>\n",
       "      <td>Ed Bartels</td>\n",
       "      <td>F</td>\n",
       "      <td>24.0</td>\n",
       "      <td>DNN</td>\n",
       "      <td>13.0</td>\n",
       "      <td>NaN</td>\n",
       "      <td>NaN</td>\n",
       "      <td>NaN</td>\n",
       "      <td>...</td>\n",
       "      <td>0.548</td>\n",
       "      <td>NaN</td>\n",
       "      <td>NaN</td>\n",
       "      <td>NaN</td>\n",
       "      <td>20.0</td>\n",
       "      <td>NaN</td>\n",
       "      <td>NaN</td>\n",
       "      <td>NaN</td>\n",
       "      <td>27.0</td>\n",
       "      <td>59.0</td>\n",
       "    </tr>\n",
       "    <tr>\n",
       "      <th>...</th>\n",
       "      <td>...</td>\n",
       "      <td>...</td>\n",
       "      <td>...</td>\n",
       "      <td>...</td>\n",
       "      <td>...</td>\n",
       "      <td>...</td>\n",
       "      <td>...</td>\n",
       "      <td>...</td>\n",
       "      <td>...</td>\n",
       "      <td>...</td>\n",
       "      <td>...</td>\n",
       "      <td>...</td>\n",
       "      <td>...</td>\n",
       "      <td>...</td>\n",
       "      <td>...</td>\n",
       "      <td>...</td>\n",
       "      <td>...</td>\n",
       "      <td>...</td>\n",
       "      <td>...</td>\n",
       "      <td>...</td>\n",
       "      <td>...</td>\n",
       "    </tr>\n",
       "    <tr>\n",
       "      <th>24686</th>\n",
       "      <td>24686</td>\n",
       "      <td>2017.0</td>\n",
       "      <td>Cody Zeller</td>\n",
       "      <td>PF</td>\n",
       "      <td>24.0</td>\n",
       "      <td>CHO</td>\n",
       "      <td>62.0</td>\n",
       "      <td>58.0</td>\n",
       "      <td>1725.0</td>\n",
       "      <td>16.7</td>\n",
       "      <td>...</td>\n",
       "      <td>0.679</td>\n",
       "      <td>135.0</td>\n",
       "      <td>270.0</td>\n",
       "      <td>405.0</td>\n",
       "      <td>99.0</td>\n",
       "      <td>62.0</td>\n",
       "      <td>58.0</td>\n",
       "      <td>65.0</td>\n",
       "      <td>189.0</td>\n",
       "      <td>639.0</td>\n",
       "    </tr>\n",
       "    <tr>\n",
       "      <th>24687</th>\n",
       "      <td>24687</td>\n",
       "      <td>2017.0</td>\n",
       "      <td>Tyler Zeller</td>\n",
       "      <td>C</td>\n",
       "      <td>27.0</td>\n",
       "      <td>BOS</td>\n",
       "      <td>51.0</td>\n",
       "      <td>5.0</td>\n",
       "      <td>525.0</td>\n",
       "      <td>13.0</td>\n",
       "      <td>...</td>\n",
       "      <td>0.564</td>\n",
       "      <td>43.0</td>\n",
       "      <td>81.0</td>\n",
       "      <td>124.0</td>\n",
       "      <td>42.0</td>\n",
       "      <td>7.0</td>\n",
       "      <td>21.0</td>\n",
       "      <td>20.0</td>\n",
       "      <td>61.0</td>\n",
       "      <td>178.0</td>\n",
       "    </tr>\n",
       "    <tr>\n",
       "      <th>24688</th>\n",
       "      <td>24688</td>\n",
       "      <td>2017.0</td>\n",
       "      <td>Stephen Zimmerman</td>\n",
       "      <td>C</td>\n",
       "      <td>20.0</td>\n",
       "      <td>ORL</td>\n",
       "      <td>19.0</td>\n",
       "      <td>0.0</td>\n",
       "      <td>108.0</td>\n",
       "      <td>7.3</td>\n",
       "      <td>...</td>\n",
       "      <td>0.600</td>\n",
       "      <td>11.0</td>\n",
       "      <td>24.0</td>\n",
       "      <td>35.0</td>\n",
       "      <td>4.0</td>\n",
       "      <td>2.0</td>\n",
       "      <td>5.0</td>\n",
       "      <td>3.0</td>\n",
       "      <td>17.0</td>\n",
       "      <td>23.0</td>\n",
       "    </tr>\n",
       "    <tr>\n",
       "      <th>24689</th>\n",
       "      <td>24689</td>\n",
       "      <td>2017.0</td>\n",
       "      <td>Paul Zipser</td>\n",
       "      <td>SF</td>\n",
       "      <td>22.0</td>\n",
       "      <td>CHI</td>\n",
       "      <td>44.0</td>\n",
       "      <td>18.0</td>\n",
       "      <td>843.0</td>\n",
       "      <td>6.9</td>\n",
       "      <td>...</td>\n",
       "      <td>0.775</td>\n",
       "      <td>15.0</td>\n",
       "      <td>110.0</td>\n",
       "      <td>125.0</td>\n",
       "      <td>36.0</td>\n",
       "      <td>15.0</td>\n",
       "      <td>16.0</td>\n",
       "      <td>40.0</td>\n",
       "      <td>78.0</td>\n",
       "      <td>240.0</td>\n",
       "    </tr>\n",
       "    <tr>\n",
       "      <th>24690</th>\n",
       "      <td>24690</td>\n",
       "      <td>2017.0</td>\n",
       "      <td>Ivica Zubac</td>\n",
       "      <td>C</td>\n",
       "      <td>19.0</td>\n",
       "      <td>LAL</td>\n",
       "      <td>38.0</td>\n",
       "      <td>11.0</td>\n",
       "      <td>609.0</td>\n",
       "      <td>17.0</td>\n",
       "      <td>...</td>\n",
       "      <td>0.653</td>\n",
       "      <td>41.0</td>\n",
       "      <td>118.0</td>\n",
       "      <td>159.0</td>\n",
       "      <td>30.0</td>\n",
       "      <td>14.0</td>\n",
       "      <td>33.0</td>\n",
       "      <td>30.0</td>\n",
       "      <td>66.0</td>\n",
       "      <td>284.0</td>\n",
       "    </tr>\n",
       "  </tbody>\n",
       "</table>\n",
       "<p>24691 rows × 53 columns</p>\n",
       "</div>"
      ],
      "text/plain": [
       "       Unnamed: 0    Year             Player  Pos   Age   Tm     G    GS  \\\n",
       "0               0  1950.0    Curly Armstrong  G-F  31.0  FTW  63.0   NaN   \n",
       "1               1  1950.0       Cliff Barker   SG  29.0  INO  49.0   NaN   \n",
       "2               2  1950.0      Leo Barnhorst   SF  25.0  CHS  67.0   NaN   \n",
       "3               3  1950.0         Ed Bartels    F  24.0  TOT  15.0   NaN   \n",
       "4               4  1950.0         Ed Bartels    F  24.0  DNN  13.0   NaN   \n",
       "...           ...     ...                ...  ...   ...  ...   ...   ...   \n",
       "24686       24686  2017.0        Cody Zeller   PF  24.0  CHO  62.0  58.0   \n",
       "24687       24687  2017.0       Tyler Zeller    C  27.0  BOS  51.0   5.0   \n",
       "24688       24688  2017.0  Stephen Zimmerman    C  20.0  ORL  19.0   0.0   \n",
       "24689       24689  2017.0        Paul Zipser   SF  22.0  CHI  44.0  18.0   \n",
       "24690       24690  2017.0        Ivica Zubac    C  19.0  LAL  38.0  11.0   \n",
       "\n",
       "           MP   PER  ...    FT%    ORB    DRB    TRB    AST   STL   BLK   TOV  \\\n",
       "0         NaN   NaN  ...  0.705    NaN    NaN    NaN  176.0   NaN   NaN   NaN   \n",
       "1         NaN   NaN  ...  0.708    NaN    NaN    NaN  109.0   NaN   NaN   NaN   \n",
       "2         NaN   NaN  ...  0.698    NaN    NaN    NaN  140.0   NaN   NaN   NaN   \n",
       "3         NaN   NaN  ...  0.559    NaN    NaN    NaN   20.0   NaN   NaN   NaN   \n",
       "4         NaN   NaN  ...  0.548    NaN    NaN    NaN   20.0   NaN   NaN   NaN   \n",
       "...       ...   ...  ...    ...    ...    ...    ...    ...   ...   ...   ...   \n",
       "24686  1725.0  16.7  ...  0.679  135.0  270.0  405.0   99.0  62.0  58.0  65.0   \n",
       "24687   525.0  13.0  ...  0.564   43.0   81.0  124.0   42.0   7.0  21.0  20.0   \n",
       "24688   108.0   7.3  ...  0.600   11.0   24.0   35.0    4.0   2.0   5.0   3.0   \n",
       "24689   843.0   6.9  ...  0.775   15.0  110.0  125.0   36.0  15.0  16.0  40.0   \n",
       "24690   609.0  17.0  ...  0.653   41.0  118.0  159.0   30.0  14.0  33.0  30.0   \n",
       "\n",
       "          PF    PTS  \n",
       "0      217.0  458.0  \n",
       "1       99.0  279.0  \n",
       "2      192.0  438.0  \n",
       "3       29.0   63.0  \n",
       "4       27.0   59.0  \n",
       "...      ...    ...  \n",
       "24686  189.0  639.0  \n",
       "24687   61.0  178.0  \n",
       "24688   17.0   23.0  \n",
       "24689   78.0  240.0  \n",
       "24690   66.0  284.0  \n",
       "\n",
       "[24691 rows x 53 columns]"
      ]
     },
     "execution_count": 3,
     "metadata": {},
     "output_type": "execute_result"
    }
   ],
   "source": [
    "season_stats = pd.read_csv('homework_8_misc\\Seasons_Stats.csv')\n",
    "season_stats"
   ]
  },
  {
   "cell_type": "code",
   "execution_count": 4,
   "metadata": {},
   "outputs": [
    {
     "data": {
      "text/plain": [
       "<matplotlib.axes._subplots.AxesSubplot at 0x1528341788>"
      ]
     },
     "execution_count": 4,
     "metadata": {},
     "output_type": "execute_result"
    },
    {
     "data": {
      "image/png": "[encoded data removed]",
      "text/plain": [
       "<Figure size 432x288 with 1 Axes>"
      ]
     },
     "metadata": {
      "needs_background": "light"
     },
     "output_type": "display_data"
    }
   ],
   "source": [
    "#таймлайн - количество игроков в каждом сезоне\n",
    "season_stats[['Year','Player']].drop_duplicates().groupby('Year').count().plot(style = '.')"
   ]
  },
  {
   "cell_type": "code",
   "execution_count": 5,
   "metadata": {},
   "outputs": [
    {
     "name": "stdout",
     "output_type": "stream",
     "text": [
      "Populating the interactive namespace from numpy and matplotlib\n"
     ]
    },
    {
     "data": {
      "text/plain": [
       "<seaborn.axisgrid.FacetGrid at 0x152a7b3b88>"
      ]
     },
     "execution_count": 5,
     "metadata": {},
     "output_type": "execute_result"
    },
    {
     "data": {
      "image/png": "[encoded data removed]",
      "text/plain": [
       "<Figure size 360x360 with 1 Axes>"
      ]
     },
     "metadata": {
      "needs_background": "light"
     },
     "output_type": "display_data"
    }
   ],
   "source": [
    "#то же самое, но с помощью seaborn и с trendline:\n",
    "import seaborn as sns\n",
    "%pylab inline\n",
    "players_for_year = season_stats[['Year','Player']].drop_duplicates().groupby('Year').count().reset_index()\n",
    "players_for_year.head()\n",
    "sns.lmplot(x = 'Year', y= 'Player', data = players_for_year)\n",
    "\n"
   ]
  },
  {
   "cell_type": "code",
   "execution_count": 12,
   "metadata": {},
   "outputs": [
    {
     "data": {
      "text/html": [
       "        <script type=\"text/javascript\">\n",
       "        window.PlotlyConfig = {MathJaxConfig: 'local'};\n",
       "        if (window.MathJax) {MathJax.Hub.Config({SVG: {font: \"STIX-Web\"}});}\n",
       "        if (typeof require !== 'undefined') {\n",
       "        require.undef(\"plotly\");\n",
       "        requirejs.config({\n",
       "            paths: {\n",
       "                'plotly': ['https://cdn.plot.ly/plotly-latest.min']\n",
       "            }\n",
       "        });\n",
       "        require(['plotly'], function(Plotly) {\n",
       "            window._Plotly = Plotly;\n",
       "        });\n",
       "        }\n",
       "        </script>\n",
       "        "
      ]
     },
     "metadata": {},
     "output_type": "display_data"
    },
    {
     "data": {
      "application/vnd.plotly.v1+json": {
       "config": {
        "linkText": "Export to plot.ly",
        "plotlyServerURL": "https://plot.ly",
        "showLink": false
       },
       "data": [
        {
         "name": "Average player points",
         "type": "scatter",
         "x": [
          1950,
          1951,
          1952,
          1953,
          1954,
          1955,
          1956,
          1957,
          1958,
          1959,
          1960,
          1961,
          1962,
          1963,
          1964,
          1965,
          1966,
          1967,
          1968,
          1969,
          1970,
          1971,
          1972,
          1973,
          1974,
          1975,
          1976,
          1977,
          1978,
          1979,
          1980,
          1981,
          1982,
          1983,
          1984,
          1985,
          1986,
          1987,
          1988,
          1989,
          1990,
          1991,
          1992,
          1993,
          1994,
          1995,
          1996,
          1997,
          1998,
          1999,
          2000,
          2001,
          2002,
          2003,
          2004,
          2005,
          2006,
          2007,
          2008,
          2009,
          2010,
          2011,
          2012,
          2013,
          2014,
          2015,
          2016,
          2017
         ],
         "y": [
          464.4035874439462,
          483.9851851851852,
          500.82758620689657,
          519,
          502.2909090909091,
          526.2190476190476,
          649.6521739130435,
          602.5656565656566,
          637.3030303030303,
          728.5978260869565,
          741.6868686868687,
          820.9247311827957,
          784.5309734513274,
          744.7350427350427,
          786.0540540540541,
          743.9035087719299,
          823.2702702702703,
          795.2520325203252,
          818.476821192053,
          849.4821428571429,
          837.7777777777778,
          744.0414746543779,
          778.4907407407408,
          760.0747663551402,
          692.4162895927602,
          691.6340425531915,
          677.5084033613446,
          708.857627118644,
          771.6175438596491,
          774.405017921147,
          764.4615384615385,
          710.3993399339934,
          703.0859872611464,
          708.0828025477707,
          684.5728155339806,
          672.5110410094637,
          669.139751552795,
          645.5808383233533,
          680.558912386707,
          684.7897727272727,
          660.7105263157895,
          647,
          623.2538860103627,
          615.3,
          594.3126550868486,
          579.4802955665025,
          607.7710280373832,
          568.578231292517,
          570.2186788154897,
          319.1090909090909,
          547.6104783599089,
          548.6485260770975,
          548.5522727272727,
          557.876168224299,
          567.1289592760181,
          570.5,
          563.2663755458515,
          559.8449781659389,
          594.3555555555556,
          613.7815315315315,
          612.5565610859728,
          622.1703539823009,
          420.3075313807531,
          549.0363247863248,
          561.2972972972973,
          566.4065040650406,
          565.4159663865546,
          581.2057613168724
         ]
        }
       ],
       "layout": {
        "template": {
         "data": {
          "bar": [
           {
            "error_x": {
             "color": "#2a3f5f"
            },
            "error_y": {
             "color": "#2a3f5f"
            },
            "marker": {
             "line": {
              "color": "#E5ECF6",
              "width": 0.5
             }
            },
            "type": "bar"
           }
          ],
          "barpolar": [
           {
            "marker": {
             "line": {
              "color": "#E5ECF6",
              "width": 0.5
             }
            },
            "type": "barpolar"
           }
          ],
          "carpet": [
           {
            "aaxis": {
             "endlinecolor": "#2a3f5f",
             "gridcolor": "white",
             "linecolor": "white",
             "minorgridcolor": "white",
             "startlinecolor": "#2a3f5f"
            },
            "baxis": {
             "endlinecolor": "#2a3f5f",
             "gridcolor": "white",
             "linecolor": "white",
             "minorgridcolor": "white",
             "startlinecolor": "#2a3f5f"
            },
            "type": "carpet"
           }
          ],
          "choropleth": [
           {
            "colorbar": {
             "outlinewidth": 0,
             "ticks": ""
            },
            "type": "choropleth"
           }
          ],
          "contour": [
           {
            "colorbar": {
             "outlinewidth": 0,
             "ticks": ""
            },
            "colorscale": [
             [
              0,
              "#0d0887"
             ],
             [
              0.1111111111111111,
              "#46039f"
             ],
             [
              0.2222222222222222,
              "#7201a8"
             ],
             [
              0.3333333333333333,
              "#9c179e"
             ],
             [
              0.4444444444444444,
              "#bd3786"
             ],
             [
              0.5555555555555556,
              "#d8576b"
             ],
             [
              0.6666666666666666,
              "#ed7953"
             ],
             [
              0.7777777777777778,
              "#fb9f3a"
             ],
             [
              0.8888888888888888,
              "#fdca26"
             ],
             [
              1,
              "#f0f921"
             ]
            ],
            "type": "contour"
           }
          ],
          "contourcarpet": [
           {
            "colorbar": {
             "outlinewidth": 0,
             "ticks": ""
            },
            "type": "contourcarpet"
           }
          ],
          "heatmap": [
           {
            "colorbar": {
             "outlinewidth": 0,
             "ticks": ""
            },
            "colorscale": [
             [
              0,
              "#0d0887"
             ],
             [
              0.1111111111111111,
              "#46039f"
             ],
             [
              0.2222222222222222,
              "#7201a8"
             ],
             [
              0.3333333333333333,
              "#9c179e"
             ],
             [
              0.4444444444444444,
              "#bd3786"
             ],
             [
              0.5555555555555556,
              "#d8576b"
             ],
             [
              0.6666666666666666,
              "#ed7953"
             ],
             [
              0.7777777777777778,
              "#fb9f3a"
             ],
             [
              0.8888888888888888,
              "#fdca26"
             ],
             [
              1,
              "#f0f921"
             ]
            ],
            "type": "heatmap"
           }
          ],
          "heatmapgl": [
           {
            "colorbar": {
             "outlinewidth": 0,
             "ticks": ""
            },
            "colorscale": [
             [
              0,
              "#0d0887"
             ],
             [
              0.1111111111111111,
              "#46039f"
             ],
             [
              0.2222222222222222,
              "#7201a8"
             ],
             [
              0.3333333333333333,
              "#9c179e"
             ],
             [
              0.4444444444444444,
              "#bd3786"
             ],
             [
              0.5555555555555556,
              "#d8576b"
             ],
             [
              0.6666666666666666,
              "#ed7953"
             ],
             [
              0.7777777777777778,
              "#fb9f3a"
             ],
             [
              0.8888888888888888,
              "#fdca26"
             ],
             [
              1,
              "#f0f921"
             ]
            ],
            "type": "heatmapgl"
           }
          ],
          "histogram": [
           {
            "marker": {
             "colorbar": {
              "outlinewidth": 0,
              "ticks": ""
             }
            },
            "type": "histogram"
           }
          ],
          "histogram2d": [
           {
            "colorbar": {
             "outlinewidth": 0,
             "ticks": ""
            },
            "colorscale": [
             [
              0,
              "#0d0887"
             ],
             [
              0.1111111111111111,
              "#46039f"
             ],
             [
              0.2222222222222222,
              "#7201a8"
             ],
             [
              0.3333333333333333,
              "#9c179e"
             ],
             [
              0.4444444444444444,
              "#bd3786"
             ],
             [
              0.5555555555555556,
              "#d8576b"
             ],
             [
              0.6666666666666666,
              "#ed7953"
             ],
             [
              0.7777777777777778,
              "#fb9f3a"
             ],
             [
              0.8888888888888888,
              "#fdca26"
             ],
             [
              1,
              "#f0f921"
             ]
            ],
            "type": "histogram2d"
           }
          ],
          "histogram2dcontour": [
           {
            "colorbar": {
             "outlinewidth": 0,
             "ticks": ""
            },
            "colorscale": [
             [
              0,
              "#0d0887"
             ],
             [
              0.1111111111111111,
              "#46039f"
             ],
             [
              0.2222222222222222,
              "#7201a8"
             ],
             [
              0.3333333333333333,
              "#9c179e"
             ],
             [
              0.4444444444444444,
              "#bd3786"
             ],
             [
              0.5555555555555556,
              "#d8576b"
             ],
             [
              0.6666666666666666,
              "#ed7953"
             ],
             [
              0.7777777777777778,
              "#fb9f3a"
             ],
             [
              0.8888888888888888,
              "#fdca26"
             ],
             [
              1,
              "#f0f921"
             ]
            ],
            "type": "histogram2dcontour"
           }
          ],
          "mesh3d": [
           {
            "colorbar": {
             "outlinewidth": 0,
             "ticks": ""
            },
            "type": "mesh3d"
           }
          ],
          "parcoords": [
           {
            "line": {
             "colorbar": {
              "outlinewidth": 0,
              "ticks": ""
             }
            },
            "type": "parcoords"
           }
          ],
          "pie": [
           {
            "automargin": true,
            "type": "pie"
           }
          ],
          "scatter": [
           {
            "marker": {
             "colorbar": {
              "outlinewidth": 0,
              "ticks": ""
             }
            },
            "type": "scatter"
           }
          ],
          "scatter3d": [
           {
            "line": {
             "colorbar": {
              "outlinewidth": 0,
              "ticks": ""
             }
            },
            "marker": {
             "colorbar": {
              "outlinewidth": 0,
              "ticks": ""
             }
            },
            "type": "scatter3d"
           }
          ],
          "scattercarpet": [
           {
            "marker": {
             "colorbar": {
              "outlinewidth": 0,
              "ticks": ""
             }
            },
            "type": "scattercarpet"
           }
          ],
          "scattergeo": [
           {
            "marker": {
             "colorbar": {
              "outlinewidth": 0,
              "ticks": ""
             }
            },
            "type": "scattergeo"
           }
          ],
          "scattergl": [
           {
            "marker": {
             "colorbar": {
              "outlinewidth": 0,
              "ticks": ""
             }
            },
            "type": "scattergl"
           }
          ],
          "scattermapbox": [
           {
            "marker": {
             "colorbar": {
              "outlinewidth": 0,
              "ticks": ""
             }
            },
            "type": "scattermapbox"
           }
          ],
          "scatterpolar": [
           {
            "marker": {
             "colorbar": {
              "outlinewidth": 0,
              "ticks": ""
             }
            },
            "type": "scatterpolar"
           }
          ],
          "scatterpolargl": [
           {
            "marker": {
             "colorbar": {
              "outlinewidth": 0,
              "ticks": ""
             }
            },
            "type": "scatterpolargl"
           }
          ],
          "scatterternary": [
           {
            "marker": {
             "colorbar": {
              "outlinewidth": 0,
              "ticks": ""
             }
            },
            "type": "scatterternary"
           }
          ],
          "surface": [
           {
            "colorbar": {
             "outlinewidth": 0,
             "ticks": ""
            },
            "colorscale": [
             [
              0,
              "#0d0887"
             ],
             [
              0.1111111111111111,
              "#46039f"
             ],
             [
              0.2222222222222222,
              "#7201a8"
             ],
             [
              0.3333333333333333,
              "#9c179e"
             ],
             [
              0.4444444444444444,
              "#bd3786"
             ],
             [
              0.5555555555555556,
              "#d8576b"
             ],
             [
              0.6666666666666666,
              "#ed7953"
             ],
             [
              0.7777777777777778,
              "#fb9f3a"
             ],
             [
              0.8888888888888888,
              "#fdca26"
             ],
             [
              1,
              "#f0f921"
             ]
            ],
            "type": "surface"
           }
          ],
          "table": [
           {
            "cells": {
             "fill": {
              "color": "#EBF0F8"
             },
             "line": {
              "color": "white"
             }
            },
            "header": {
             "fill": {
              "color": "#C8D4E3"
             },
             "line": {
              "color": "white"
             }
            },
            "type": "table"
           }
          ]
         },
         "layout": {
          "annotationdefaults": {
           "arrowcolor": "#2a3f5f",
           "arrowhead": 0,
           "arrowwidth": 1
          },
          "coloraxis": {
           "colorbar": {
            "outlinewidth": 0,
            "ticks": ""
           }
          },
          "colorscale": {
           "diverging": [
            [
             0,
             "#8e0152"
            ],
            [
             0.1,
             "#c51b7d"
            ],
            [
             0.2,
             "#de77ae"
            ],
            [
             0.3,
             "#f1b6da"
            ],
            [
             0.4,
             "#fde0ef"
            ],
            [
             0.5,
             "#f7f7f7"
            ],
            [
             0.6,
             "#e6f5d0"
            ],
            [
             0.7,
             "#b8e186"
            ],
            [
             0.8,
             "#7fbc41"
            ],
            [
             0.9,
             "#4d9221"
            ],
            [
             1,
             "#276419"
            ]
           ],
           "sequential": [
            [
             0,
             "#0d0887"
            ],
            [
             0.1111111111111111,
             "#46039f"
            ],
            [
             0.2222222222222222,
             "#7201a8"
            ],
            [
             0.3333333333333333,
             "#9c179e"
            ],
            [
             0.4444444444444444,
             "#bd3786"
            ],
            [
             0.5555555555555556,
             "#d8576b"
            ],
            [
             0.6666666666666666,
             "#ed7953"
            ],
            [
             0.7777777777777778,
             "#fb9f3a"
            ],
            [
             0.8888888888888888,
             "#fdca26"
            ],
            [
             1,
             "#f0f921"
            ]
           ],
           "sequentialminus": [
            [
             0,
             "#0d0887"
            ],
            [
             0.1111111111111111,
             "#46039f"
            ],
            [
             0.2222222222222222,
             "#7201a8"
            ],
            [
             0.3333333333333333,
             "#9c179e"
            ],
            [
             0.4444444444444444,
             "#bd3786"
            ],
            [
             0.5555555555555556,
             "#d8576b"
            ],
            [
             0.6666666666666666,
             "#ed7953"
            ],
            [
             0.7777777777777778,
             "#fb9f3a"
            ],
            [
             0.8888888888888888,
             "#fdca26"
            ],
            [
             1,
             "#f0f921"
            ]
           ]
          },
          "colorway": [
           "#636efa",
           "#EF553B",
           "#00cc96",
           "#ab63fa",
           "#FFA15A",
           "#19d3f3",
           "#FF6692",
           "#B6E880",
           "#FF97FF",
           "#FECB52"
          ],
          "font": {
           "color": "#2a3f5f"
          },
          "geo": {
           "bgcolor": "white",
           "lakecolor": "white",
           "landcolor": "#E5ECF6",
           "showlakes": true,
           "showland": true,
           "subunitcolor": "white"
          },
          "hoverlabel": {
           "align": "left"
          },
          "hovermode": "closest",
          "mapbox": {
           "style": "light"
          },
          "paper_bgcolor": "white",
          "plot_bgcolor": "#E5ECF6",
          "polar": {
           "angularaxis": {
            "gridcolor": "white",
            "linecolor": "white",
            "ticks": ""
           },
           "bgcolor": "#E5ECF6",
           "radialaxis": {
            "gridcolor": "white",
            "linecolor": "white",
            "ticks": ""
           }
          },
          "scene": {
           "xaxis": {
            "backgroundcolor": "#E5ECF6",
            "gridcolor": "white",
            "gridwidth": 2,
            "linecolor": "white",
            "showbackground": true,
            "ticks": "",
            "zerolinecolor": "white"
           },
           "yaxis": {
            "backgroundcolor": "#E5ECF6",
            "gridcolor": "white",
            "gridwidth": 2,
            "linecolor": "white",
            "showbackground": true,
            "ticks": "",
            "zerolinecolor": "white"
           },
           "zaxis": {
            "backgroundcolor": "#E5ECF6",
            "gridcolor": "white",
            "gridwidth": 2,
            "linecolor": "white",
            "showbackground": true,
            "ticks": "",
            "zerolinecolor": "white"
           }
          },
          "shapedefaults": {
           "line": {
            "color": "#2a3f5f"
           }
          },
          "ternary": {
           "aaxis": {
            "gridcolor": "white",
            "linecolor": "white",
            "ticks": ""
           },
           "baxis": {
            "gridcolor": "white",
            "linecolor": "white",
            "ticks": ""
           },
           "bgcolor": "#E5ECF6",
           "caxis": {
            "gridcolor": "white",
            "linecolor": "white",
            "ticks": ""
           }
          },
          "title": {
           "x": 0.05
          },
          "xaxis": {
           "automargin": true,
           "gridcolor": "white",
           "linecolor": "white",
           "ticks": "",
           "title": {
            "standoff": 15
           },
           "zerolinecolor": "white",
           "zerolinewidth": 2
          },
          "yaxis": {
           "automargin": true,
           "gridcolor": "white",
           "linecolor": "white",
           "ticks": "",
           "title": {
            "standoff": 15
           },
           "zerolinecolor": "white",
           "zerolinewidth": 2
          }
         }
        }
       }
      },
      "text/html": [
       "<div>\n",
       "        \n",
       "        \n",
       "            <div id=\"81ca2dee-c00b-4cff-b054-52b9b2e916df\" class=\"plotly-graph-div\" style=\"height:525px; width:100%;\"></div>\n",
       "            <script type=\"text/javascript\">\n",
       "                require([\"plotly\"], function(Plotly) {\n",
       "                    window.PLOTLYENV=window.PLOTLYENV || {};\n",
       "                    \n",
       "                if (document.getElementById(\"81ca2dee-c00b-4cff-b054-52b9b2e916df\")) {\n",
       "                    Plotly.newPlot(\n",
       "                        '81ca2dee-c00b-4cff-b054-52b9b2e916df',\n",
       "                        [{\"name\": \"Average player points\", \"type\": \"scatter\", \"x\": [1950.0, 1951.0, 1952.0, 1953.0, 1954.0, 1955.0, 1956.0, 1957.0, 1958.0, 1959.0, 1960.0, 1961.0, 1962.0, 1963.0, 1964.0, 1965.0, 1966.0, 1967.0, 1968.0, 1969.0, 1970.0, 1971.0, 1972.0, 1973.0, 1974.0, 1975.0, 1976.0, 1977.0, 1978.0, 1979.0, 1980.0, 1981.0, 1982.0, 1983.0, 1984.0, 1985.0, 1986.0, 1987.0, 1988.0, 1989.0, 1990.0, 1991.0, 1992.0, 1993.0, 1994.0, 1995.0, 1996.0, 1997.0, 1998.0, 1999.0, 2000.0, 2001.0, 2002.0, 2003.0, 2004.0, 2005.0, 2006.0, 2007.0, 2008.0, 2009.0, 2010.0, 2011.0, 2012.0, 2013.0, 2014.0, 2015.0, 2016.0, 2017.0], \"y\": [464.4035874439462, 483.9851851851852, 500.82758620689657, 519.0, 502.2909090909091, 526.2190476190476, 649.6521739130435, 602.5656565656566, 637.3030303030303, 728.5978260869565, 741.6868686868687, 820.9247311827957, 784.5309734513274, 744.7350427350427, 786.0540540540541, 743.9035087719299, 823.2702702702703, 795.2520325203252, 818.476821192053, 849.4821428571429, 837.7777777777778, 744.0414746543779, 778.4907407407408, 760.0747663551402, 692.4162895927602, 691.6340425531915, 677.5084033613446, 708.857627118644, 771.6175438596491, 774.405017921147, 764.4615384615385, 710.3993399339934, 703.0859872611464, 708.0828025477707, 684.5728155339806, 672.5110410094637, 669.139751552795, 645.5808383233533, 680.558912386707, 684.7897727272727, 660.7105263157895, 647.0, 623.2538860103627, 615.3, 594.3126550868486, 579.4802955665025, 607.7710280373832, 568.578231292517, 570.2186788154897, 319.1090909090909, 547.6104783599089, 548.6485260770975, 548.5522727272727, 557.876168224299, 567.1289592760181, 570.5, 563.2663755458515, 559.8449781659389, 594.3555555555556, 613.7815315315315, 612.5565610859728, 622.1703539823009, 420.3075313807531, 549.0363247863248, 561.2972972972973, 566.4065040650406, 565.4159663865546, 581.2057613168724]}],\n",
       "                        {\"template\": {\"data\": {\"bar\": [{\"error_x\": {\"color\": \"#2a3f5f\"}, \"error_y\": {\"color\": \"#2a3f5f\"}, \"marker\": {\"line\": {\"color\": \"#E5ECF6\", \"width\": 0.5}}, \"type\": \"bar\"}], \"barpolar\": [{\"marker\": {\"line\": {\"color\": \"#E5ECF6\", \"width\": 0.5}}, \"type\": \"barpolar\"}], \"carpet\": [{\"aaxis\": {\"endlinecolor\": \"#2a3f5f\", \"gridcolor\": \"white\", \"linecolor\": \"white\", \"minorgridcolor\": \"white\", \"startlinecolor\": \"#2a3f5f\"}, \"baxis\": {\"endlinecolor\": \"#2a3f5f\", \"gridcolor\": \"white\", \"linecolor\": \"white\", \"minorgridcolor\": \"white\", \"startlinecolor\": \"#2a3f5f\"}, \"type\": \"carpet\"}], \"choropleth\": [{\"colorbar\": {\"outlinewidth\": 0, \"ticks\": \"\"}, \"type\": \"choropleth\"}], \"contour\": [{\"colorbar\": {\"outlinewidth\": 0, \"ticks\": \"\"}, \"colorscale\": [[0.0, \"#0d0887\"], [0.1111111111111111, \"#46039f\"], [0.2222222222222222, \"#7201a8\"], [0.3333333333333333, \"#9c179e\"], [0.4444444444444444, \"#bd3786\"], [0.5555555555555556, \"#d8576b\"], [0.6666666666666666, \"#ed7953\"], [0.7777777777777778, \"#fb9f3a\"], [0.8888888888888888, \"#fdca26\"], [1.0, \"#f0f921\"]], \"type\": \"contour\"}], \"contourcarpet\": [{\"colorbar\": {\"outlinewidth\": 0, \"ticks\": \"\"}, \"type\": \"contourcarpet\"}], \"heatmap\": [{\"colorbar\": {\"outlinewidth\": 0, \"ticks\": \"\"}, \"colorscale\": [[0.0, \"#0d0887\"], [0.1111111111111111, \"#46039f\"], [0.2222222222222222, \"#7201a8\"], [0.3333333333333333, \"#9c179e\"], [0.4444444444444444, \"#bd3786\"], [0.5555555555555556, \"#d8576b\"], [0.6666666666666666, \"#ed7953\"], [0.7777777777777778, \"#fb9f3a\"], [0.8888888888888888, \"#fdca26\"], [1.0, \"#f0f921\"]], \"type\": \"heatmap\"}], \"heatmapgl\": [{\"colorbar\": {\"outlinewidth\": 0, \"ticks\": \"\"}, \"colorscale\": [[0.0, \"#0d0887\"], [0.1111111111111111, \"#46039f\"], [0.2222222222222222, \"#7201a8\"], [0.3333333333333333, \"#9c179e\"], [0.4444444444444444, \"#bd3786\"], [0.5555555555555556, \"#d8576b\"], [0.6666666666666666, \"#ed7953\"], [0.7777777777777778, \"#fb9f3a\"], [0.8888888888888888, \"#fdca26\"], [1.0, \"#f0f921\"]], \"type\": \"heatmapgl\"}], \"histogram\": [{\"marker\": {\"colorbar\": {\"outlinewidth\": 0, \"ticks\": \"\"}}, \"type\": \"histogram\"}], \"histogram2d\": [{\"colorbar\": {\"outlinewidth\": 0, \"ticks\": \"\"}, \"colorscale\": [[0.0, \"#0d0887\"], [0.1111111111111111, \"#46039f\"], [0.2222222222222222, \"#7201a8\"], [0.3333333333333333, \"#9c179e\"], [0.4444444444444444, \"#bd3786\"], [0.5555555555555556, \"#d8576b\"], [0.6666666666666666, \"#ed7953\"], [0.7777777777777778, \"#fb9f3a\"], [0.8888888888888888, \"#fdca26\"], [1.0, \"#f0f921\"]], \"type\": \"histogram2d\"}], \"histogram2dcontour\": [{\"colorbar\": {\"outlinewidth\": 0, \"ticks\": \"\"}, \"colorscale\": [[0.0, \"#0d0887\"], [0.1111111111111111, \"#46039f\"], [0.2222222222222222, \"#7201a8\"], [0.3333333333333333, \"#9c179e\"], [0.4444444444444444, \"#bd3786\"], [0.5555555555555556, \"#d8576b\"], [0.6666666666666666, \"#ed7953\"], [0.7777777777777778, \"#fb9f3a\"], [0.8888888888888888, \"#fdca26\"], [1.0, \"#f0f921\"]], \"type\": \"histogram2dcontour\"}], \"mesh3d\": [{\"colorbar\": {\"outlinewidth\": 0, \"ticks\": \"\"}, \"type\": \"mesh3d\"}], \"parcoords\": [{\"line\": {\"colorbar\": {\"outlinewidth\": 0, \"ticks\": \"\"}}, \"type\": \"parcoords\"}], \"pie\": [{\"automargin\": true, \"type\": \"pie\"}], \"scatter\": [{\"marker\": {\"colorbar\": {\"outlinewidth\": 0, \"ticks\": \"\"}}, \"type\": \"scatter\"}], \"scatter3d\": [{\"line\": {\"colorbar\": {\"outlinewidth\": 0, \"ticks\": \"\"}}, \"marker\": {\"colorbar\": {\"outlinewidth\": 0, \"ticks\": \"\"}}, \"type\": \"scatter3d\"}], \"scattercarpet\": [{\"marker\": {\"colorbar\": {\"outlinewidth\": 0, \"ticks\": \"\"}}, \"type\": \"scattercarpet\"}], \"scattergeo\": [{\"marker\": {\"colorbar\": {\"outlinewidth\": 0, \"ticks\": \"\"}}, \"type\": \"scattergeo\"}], \"scattergl\": [{\"marker\": {\"colorbar\": {\"outlinewidth\": 0, \"ticks\": \"\"}}, \"type\": \"scattergl\"}], \"scattermapbox\": [{\"marker\": {\"colorbar\": {\"outlinewidth\": 0, \"ticks\": \"\"}}, \"type\": \"scattermapbox\"}], \"scatterpolar\": [{\"marker\": {\"colorbar\": {\"outlinewidth\": 0, \"ticks\": \"\"}}, \"type\": \"scatterpolar\"}], \"scatterpolargl\": [{\"marker\": {\"colorbar\": {\"outlinewidth\": 0, \"ticks\": \"\"}}, \"type\": \"scatterpolargl\"}], \"scatterternary\": [{\"marker\": {\"colorbar\": {\"outlinewidth\": 0, \"ticks\": \"\"}}, \"type\": \"scatterternary\"}], \"surface\": [{\"colorbar\": {\"outlinewidth\": 0, \"ticks\": \"\"}, \"colorscale\": [[0.0, \"#0d0887\"], [0.1111111111111111, \"#46039f\"], [0.2222222222222222, \"#7201a8\"], [0.3333333333333333, \"#9c179e\"], [0.4444444444444444, \"#bd3786\"], [0.5555555555555556, \"#d8576b\"], [0.6666666666666666, \"#ed7953\"], [0.7777777777777778, \"#fb9f3a\"], [0.8888888888888888, \"#fdca26\"], [1.0, \"#f0f921\"]], \"type\": \"surface\"}], \"table\": [{\"cells\": {\"fill\": {\"color\": \"#EBF0F8\"}, \"line\": {\"color\": \"white\"}}, \"header\": {\"fill\": {\"color\": \"#C8D4E3\"}, \"line\": {\"color\": \"white\"}}, \"type\": \"table\"}]}, \"layout\": {\"annotationdefaults\": {\"arrowcolor\": \"#2a3f5f\", \"arrowhead\": 0, \"arrowwidth\": 1}, \"coloraxis\": {\"colorbar\": {\"outlinewidth\": 0, \"ticks\": \"\"}}, \"colorscale\": {\"diverging\": [[0, \"#8e0152\"], [0.1, \"#c51b7d\"], [0.2, \"#de77ae\"], [0.3, \"#f1b6da\"], [0.4, \"#fde0ef\"], [0.5, \"#f7f7f7\"], [0.6, \"#e6f5d0\"], [0.7, \"#b8e186\"], [0.8, \"#7fbc41\"], [0.9, \"#4d9221\"], [1, \"#276419\"]], \"sequential\": [[0.0, \"#0d0887\"], [0.1111111111111111, \"#46039f\"], [0.2222222222222222, \"#7201a8\"], [0.3333333333333333, \"#9c179e\"], [0.4444444444444444, \"#bd3786\"], [0.5555555555555556, \"#d8576b\"], [0.6666666666666666, \"#ed7953\"], [0.7777777777777778, \"#fb9f3a\"], [0.8888888888888888, \"#fdca26\"], [1.0, \"#f0f921\"]], \"sequentialminus\": [[0.0, \"#0d0887\"], [0.1111111111111111, \"#46039f\"], [0.2222222222222222, \"#7201a8\"], [0.3333333333333333, \"#9c179e\"], [0.4444444444444444, \"#bd3786\"], [0.5555555555555556, \"#d8576b\"], [0.6666666666666666, \"#ed7953\"], [0.7777777777777778, \"#fb9f3a\"], [0.8888888888888888, \"#fdca26\"], [1.0, \"#f0f921\"]]}, \"colorway\": [\"#636efa\", \"#EF553B\", \"#00cc96\", \"#ab63fa\", \"#FFA15A\", \"#19d3f3\", \"#FF6692\", \"#B6E880\", \"#FF97FF\", \"#FECB52\"], \"font\": {\"color\": \"#2a3f5f\"}, \"geo\": {\"bgcolor\": \"white\", \"lakecolor\": \"white\", \"landcolor\": \"#E5ECF6\", \"showlakes\": true, \"showland\": true, \"subunitcolor\": \"white\"}, \"hoverlabel\": {\"align\": \"left\"}, \"hovermode\": \"closest\", \"mapbox\": {\"style\": \"light\"}, \"paper_bgcolor\": \"white\", \"plot_bgcolor\": \"#E5ECF6\", \"polar\": {\"angularaxis\": {\"gridcolor\": \"white\", \"linecolor\": \"white\", \"ticks\": \"\"}, \"bgcolor\": \"#E5ECF6\", \"radialaxis\": {\"gridcolor\": \"white\", \"linecolor\": \"white\", \"ticks\": \"\"}}, \"scene\": {\"xaxis\": {\"backgroundcolor\": \"#E5ECF6\", \"gridcolor\": \"white\", \"gridwidth\": 2, \"linecolor\": \"white\", \"showbackground\": true, \"ticks\": \"\", \"zerolinecolor\": \"white\"}, \"yaxis\": {\"backgroundcolor\": \"#E5ECF6\", \"gridcolor\": \"white\", \"gridwidth\": 2, \"linecolor\": \"white\", \"showbackground\": true, \"ticks\": \"\", \"zerolinecolor\": \"white\"}, \"zaxis\": {\"backgroundcolor\": \"#E5ECF6\", \"gridcolor\": \"white\", \"gridwidth\": 2, \"linecolor\": \"white\", \"showbackground\": true, \"ticks\": \"\", \"zerolinecolor\": \"white\"}}, \"shapedefaults\": {\"line\": {\"color\": \"#2a3f5f\"}}, \"ternary\": {\"aaxis\": {\"gridcolor\": \"white\", \"linecolor\": \"white\", \"ticks\": \"\"}, \"baxis\": {\"gridcolor\": \"white\", \"linecolor\": \"white\", \"ticks\": \"\"}, \"bgcolor\": \"#E5ECF6\", \"caxis\": {\"gridcolor\": \"white\", \"linecolor\": \"white\", \"ticks\": \"\"}}, \"title\": {\"x\": 0.05}, \"xaxis\": {\"automargin\": true, \"gridcolor\": \"white\", \"linecolor\": \"white\", \"ticks\": \"\", \"title\": {\"standoff\": 15}, \"zerolinecolor\": \"white\", \"zerolinewidth\": 2}, \"yaxis\": {\"automargin\": true, \"gridcolor\": \"white\", \"linecolor\": \"white\", \"ticks\": \"\", \"title\": {\"standoff\": 15}, \"zerolinecolor\": \"white\", \"zerolinewidth\": 2}}}},\n",
       "                        {\"responsive\": true}\n",
       "                    ).then(function(){\n",
       "                            \n",
       "var gd = document.getElementById('81ca2dee-c00b-4cff-b054-52b9b2e916df');\n",
       "var x = new MutationObserver(function (mutations, observer) {{\n",
       "        var display = window.getComputedStyle(gd).display;\n",
       "        if (!display || display === 'none') {{\n",
       "            console.log([gd, 'removed!']);\n",
       "            Plotly.purge(gd);\n",
       "            observer.disconnect();\n",
       "        }}\n",
       "}});\n",
       "\n",
       "// Listen for the removal of the full notebook cells\n",
       "var notebookContainer = gd.closest('#notebook-container');\n",
       "if (notebookContainer) {{\n",
       "    x.observe(notebookContainer, {childList: true});\n",
       "}}\n",
       "\n",
       "// Listen for the clearing of the current output cell\n",
       "var outputEl = gd.closest('.output');\n",
       "if (outputEl) {{\n",
       "    x.observe(outputEl, {childList: true});\n",
       "}}\n",
       "\n",
       "                        })\n",
       "                };\n",
       "                });\n",
       "            </script>\n",
       "        </div>"
      ]
     },
     "metadata": {},
     "output_type": "display_data"
    }
   ],
   "source": [
    "from plotly.offline import init_notebook_mode, iplot\n",
    "import plotly\n",
    "import plotly.graph_objs as go\n",
    "init_notebook_mode(connected=True)\n",
    "#среднее количество очков по годам\n",
    "points_by_year = season_stats.groupby('Year')[['PTS']].sum().reset_index().merge(players_for_year)\n",
    "points_by_year['Average PTS'] = points_by_year.PTS/points_by_year.Player\n",
    "points_by_year.head()\n",
    "trace = go.Scatter(\n",
    "    x=points_by_year.Year,\n",
    "    y=points_by_year['Average PTS'],\n",
    "    name = 'Average player points')\n",
    "trace_s = [trace]\n",
    "iplot(trace_s)"
   ]
  },
  {
   "cell_type": "code",
   "execution_count": 7,
   "metadata": {},
   "outputs": [
    {
     "data": {
      "text/plain": [
       "<matplotlib.axes._subplots.AxesSubplot at 0x152adce048>"
      ]
     },
     "execution_count": 7,
     "metadata": {},
     "output_type": "execute_result"
    },
    {
     "data": {
      "image/png": "[encoded data removed]",
      "text/plain": [
       "<Figure size 432x288 with 1 Axes>"
      ]
     },
     "metadata": {
      "needs_background": "light"
     },
     "output_type": "display_data"
    }
   ],
   "source": [
    "#распределение позиций игроков\n",
    "season_stats[['Player','Pos']].drop_duplicates().groupby('Pos').count().sort_values('Player', ascending=False).plot.bar()"
   ]
  },
  {
   "cell_type": "code",
   "execution_count": 8,
   "metadata": {
    "scrolled": false
   },
   "outputs": [
    {
     "data": {
      "text/plain": [
       "<matplotlib.axes._subplots.AxesSubplot at 0x152886cf08>"
      ]
     },
     "execution_count": 8,
     "metadata": {},
     "output_type": "execute_result"
    },
    {
     "data": {
      "image/png": "[encoded data removed]",
      "text/plain": [
       "<Figure size 432x288 with 1 Axes>"
      ]
     },
     "metadata": {
      "needs_background": "light"
     },
     "output_type": "display_data"
    }
   ],
   "source": [
    "#корреляция: рост/очки:\n",
    "def height_cm(row):\n",
    "    try:\n",
    "        height_list = list(map(int,row.height.split('-')))   \n",
    "        #print(height_list)\n",
    "        return round((height_list[0]*12+height_list[1])*2.54, 1)\n",
    "    except AttributeError:\n",
    "        #print (row.height)\n",
    "        return NaN\n",
    "player_data['height_c'] = player_data.apply(height_cm, axis = 1)\n",
    "player_data['Player'] = player_data.name\n",
    "players['height_c'] = players.height\n",
    "players.head()\n",
    "players_heights = player_data[['Player', 'height_c']].append(players[['Player', 'height_c']], ignore_index = True)\n",
    "players_heights=players_heights.drop_duplicates()\n",
    "sns.distplot(players_heights.height_c)\n"
   ]
  },
  {
   "cell_type": "code",
   "execution_count": 9,
   "metadata": {},
   "outputs": [
    {
     "data": {
      "text/plain": [
       "<seaborn.axisgrid.JointGrid at 0x152cd8e188>"
      ]
     },
     "execution_count": 9,
     "metadata": {},
     "output_type": "execute_result"
    },
    {
     "data": {
      "image/png": "[encoded data removed]",
      "text/plain": [
       "<Figure size 432x432 with 3 Axes>"
      ]
     },
     "metadata": {
      "needs_background": "light"
     },
     "output_type": "display_data"
    }
   ],
   "source": [
    "players_scores = season_stats.groupby('Player')[['PTS']].sum().reset_index()\n",
    "players_scores = players_scores.merge(players_heights).drop_duplicates(subset=['Player', 'PTS'])\n",
    "sns.jointplot(x='PTS', y='height_c', data = players_scores, kind = 'reg')"
   ]
  },
  {
   "cell_type": "markdown",
   "metadata": {},
   "source": [
    "5)Колледжи по количеству игроков и звёздных игроков: топ-10\n",
    "6)Команда, набравшая наибольшее количество очков в каждом из сезонов\n"
   ]
  },
  {
   "cell_type": "code",
   "execution_count": 81,
   "metadata": {},
   "outputs": [
    {
     "data": {
      "image/svg+xml": [
       "<?xml version=\"1.0\" encoding=\"utf-8\" standalone=\"no\"?>\r\n",
       "<!DOCTYPE svg PUBLIC \"-//W3C//DTD SVG 1.1//EN\"\r\n",
       "  \"http://www.w3.org/Graphics/SVG/1.1/DTD/svg11.dtd\">\r\n",
       "<!-- Created with matplotlib (https://matplotlib.org/) -->\r\n",
       "<svg height=\"568.409375pt\" version=\"1.1\" viewBox=\"0 0 425.0125 568.409375\" width=\"425.0125pt\" xmlns=\"http://www.w3.org/2000/svg\" xmlns:xlink=\"http://www.w3.org/1999/xlink\">\r\n",
       " <defs>\r\n",
       "  <style type=\"text/css\">\r\n",
       "*{stroke-linecap:butt;stroke-linejoin:round;}\r\n",
       "  </style>\r\n",
       " </defs>\r\n",
       " <g id=\"figure_1\">\r\n",
       "  <g id=\"patch_1\">\r\n",
       "   <path d=\"M -0 568.409375 \r\n",
       "L 425.0125 568.409375 \r\n",
       "L 425.0125 0 \r\n",
       "L -0 0 \r\n",
       "z\r\n",
       "\" style=\"fill:none;\"/>\r\n",
       "  </g>\r\n",
       "  <g id=\"axes_1\">\r\n",
       "   <g id=\"patch_2\">\r\n",
       "    <path d=\"M 33.2875 328.85 \r\n",
       "L 417.8125 328.85 \r\n",
       "L 417.8125 7.2 \r\n",
       "L 33.2875 7.2 \r\n",
       "z\r\n",
       "\" style=\"fill:#ffffff;\"/>\r\n",
       "   </g>\r\n",
       "   <g id=\"patch_3\">\r\n",
       "    <path clip-path=\"url(#p01a996e07c)\" d=\"M 38.094062 328.85 \r\n",
       "L 47.707187 328.85 \r\n",
       "L 47.707187 101.93642 \r\n",
       "L 38.094062 101.93642 \r\n",
       "z\r\n",
       "\" style=\"fill:#1f77b4;\"/>\r\n",
       "   </g>\r\n",
       "   <g id=\"patch_4\">\r\n",
       "    <path clip-path=\"url(#p01a996e07c)\" d=\"M 57.320312 328.85 \r\n",
       "L 66.933437 328.85 \r\n",
       "L 66.933437 116.005062 \r\n",
       "L 57.320312 116.005062 \r\n",
       "z\r\n",
       "\" style=\"fill:#1f77b4;\"/>\r\n",
       "   </g>\r\n",
       "   <g id=\"patch_5\">\r\n",
       "    <path clip-path=\"url(#p01a996e07c)\" d=\"M 76.546562 328.85 \r\n",
       "L 86.159687 328.85 \r\n",
       "L 86.159687 133.250494 \r\n",
       "L 76.546562 133.250494 \r\n",
       "z\r\n",
       "\" style=\"fill:#1f77b4;\"/>\r\n",
       "   </g>\r\n",
       "   <g id=\"patch_6\">\r\n",
       "    <path clip-path=\"url(#p01a996e07c)\" d=\"M 95.772812 328.85 \r\n",
       "L 105.385937 328.85 \r\n",
       "L 105.385937 164.564568 \r\n",
       "L 95.772812 164.564568 \r\n",
       "z\r\n",
       "\" style=\"fill:#1f77b4;\"/>\r\n",
       "   </g>\r\n",
       "   <g id=\"patch_7\">\r\n",
       "    <path clip-path=\"url(#p01a996e07c)\" d=\"M 114.999062 328.85 \r\n",
       "L 124.612187 328.85 \r\n",
       "L 124.612187 165.926049 \r\n",
       "L 114.999062 165.926049 \r\n",
       "z\r\n",
       "\" style=\"fill:#1f77b4;\"/>\r\n",
       "   </g>\r\n",
       "   <g id=\"patch_8\">\r\n",
       "    <path clip-path=\"url(#p01a996e07c)\" d=\"M 134.225312 328.85 \r\n",
       "L 143.838437 328.85 \r\n",
       "L 143.838437 216.300864 \r\n",
       "L 134.225312 216.300864 \r\n",
       "z\r\n",
       "\" style=\"fill:#1f77b4;\"/>\r\n",
       "   </g>\r\n",
       "   <g id=\"patch_9\">\r\n",
       "    <path clip-path=\"url(#p01a996e07c)\" d=\"M 153.451562 328.85 \r\n",
       "L 163.064687 328.85 \r\n",
       "L 163.064687 206.770494 \r\n",
       "L 153.451562 206.770494 \r\n",
       "z\r\n",
       "\" style=\"fill:#1f77b4;\"/>\r\n",
       "   </g>\r\n",
       "   <g id=\"patch_10\">\r\n",
       "    <path clip-path=\"url(#p01a996e07c)\" d=\"M 172.677812 328.85 \r\n",
       "L 182.290937 328.85 \r\n",
       "L 182.290937 214.485556 \r\n",
       "L 172.677812 214.485556 \r\n",
       "z\r\n",
       "\" style=\"fill:#1f77b4;\"/>\r\n",
       "   </g>\r\n",
       "   <g id=\"patch_11\">\r\n",
       "    <path clip-path=\"url(#p01a996e07c)\" d=\"M 191.904062 328.85 \r\n",
       "L 201.517187 328.85 \r\n",
       "L 201.517187 200.870741 \r\n",
       "L 191.904062 200.870741 \r\n",
       "z\r\n",
       "\" style=\"fill:#1f77b4;\"/>\r\n",
       "   </g>\r\n",
       "   <g id=\"patch_12\">\r\n",
       "    <path clip-path=\"url(#p01a996e07c)\" d=\"M 211.130312 328.85 \r\n",
       "L 220.743437 328.85 \r\n",
       "L 220.743437 210.854938 \r\n",
       "L 211.130312 210.854938 \r\n",
       "z\r\n",
       "\" style=\"fill:#1f77b4;\"/>\r\n",
       "   </g>\r\n",
       "   <g id=\"patch_13\">\r\n",
       "    <path clip-path=\"url(#p01a996e07c)\" d=\"M 230.356562 328.85 \r\n",
       "L 239.969687 328.85 \r\n",
       "L 239.969687 224.469753 \r\n",
       "L 230.356562 224.469753 \r\n",
       "z\r\n",
       "\" style=\"fill:#1f77b4;\"/>\r\n",
       "   </g>\r\n",
       "   <g id=\"patch_14\">\r\n",
       "    <path clip-path=\"url(#p01a996e07c)\" d=\"M 249.582812 328.85 \r\n",
       "L 259.195937 328.85 \r\n",
       "L 259.195937 207.224321 \r\n",
       "L 249.582812 207.224321 \r\n",
       "z\r\n",
       "\" style=\"fill:#1f77b4;\"/>\r\n",
       "   </g>\r\n",
       "   <g id=\"patch_15\">\r\n",
       "    <path clip-path=\"url(#p01a996e07c)\" d=\"M 268.809062 328.85 \r\n",
       "L 278.422188 328.85 \r\n",
       "L 278.422188 228.10037 \r\n",
       "L 268.809062 228.10037 \r\n",
       "z\r\n",
       "\" style=\"fill:#1f77b4;\"/>\r\n",
       "   </g>\r\n",
       "   <g id=\"patch_16\">\r\n",
       "    <path clip-path=\"url(#p01a996e07c)\" d=\"M 288.035312 328.85 \r\n",
       "L 297.648438 328.85 \r\n",
       "L 297.648438 217.208519 \r\n",
       "L 288.035312 217.208519 \r\n",
       "z\r\n",
       "\" style=\"fill:#1f77b4;\"/>\r\n",
       "   </g>\r\n",
       "   <g id=\"patch_17\">\r\n",
       "    <path clip-path=\"url(#p01a996e07c)\" d=\"M 307.261562 328.85 \r\n",
       "L 316.874687 328.85 \r\n",
       "L 316.874687 205.86284 \r\n",
       "L 307.261562 205.86284 \r\n",
       "z\r\n",
       "\" style=\"fill:#1f77b4;\"/>\r\n",
       "   </g>\r\n",
       "   <g id=\"patch_18\">\r\n",
       "    <path clip-path=\"url(#p01a996e07c)\" d=\"M 326.487812 328.85 \r\n",
       "L 336.100937 328.85 \r\n",
       "L 336.100937 221.74679 \r\n",
       "L 326.487812 221.74679 \r\n",
       "z\r\n",
       "\" style=\"fill:#1f77b4;\"/>\r\n",
       "   </g>\r\n",
       "   <g id=\"patch_19\">\r\n",
       "    <path clip-path=\"url(#p01a996e07c)\" d=\"M 345.714062 328.85 \r\n",
       "L 355.327187 328.85 \r\n",
       "L 355.327187 242.169012 \r\n",
       "L 345.714062 242.169012 \r\n",
       "z\r\n",
       "\" style=\"fill:#1f77b4;\"/>\r\n",
       "   </g>\r\n",
       "   <g id=\"patch_20\">\r\n",
       "    <path clip-path=\"url(#p01a996e07c)\" d=\"M 364.940312 328.85 \r\n",
       "L 374.553437 328.85 \r\n",
       "L 374.553437 222.200617 \r\n",
       "L 364.940312 222.200617 \r\n",
       "z\r\n",
       "\" style=\"fill:#1f77b4;\"/>\r\n",
       "   </g>\r\n",
       "   <g id=\"patch_21\">\r\n",
       "    <path clip-path=\"url(#p01a996e07c)\" d=\"M 384.166562 328.85 \r\n",
       "L 393.779687 328.85 \r\n",
       "L 393.779687 238.084568 \r\n",
       "L 384.166562 238.084568 \r\n",
       "z\r\n",
       "\" style=\"fill:#1f77b4;\"/>\r\n",
       "   </g>\r\n",
       "   <g id=\"patch_22\">\r\n",
       "    <path clip-path=\"url(#p01a996e07c)\" d=\"M 403.392812 328.85 \r\n",
       "L 413.005937 328.85 \r\n",
       "L 413.005937 242.169012 \r\n",
       "L 403.392812 242.169012 \r\n",
       "z\r\n",
       "\" style=\"fill:#1f77b4;\"/>\r\n",
       "   </g>\r\n",
       "   <g id=\"patch_23\">\r\n",
       "    <path clip-path=\"url(#p01a996e07c)\" d=\"M 38.094062 101.93642 \r\n",
       "L 47.707187 101.93642 \r\n",
       "L 47.707187 22.516667 \r\n",
       "L 38.094062 22.516667 \r\n",
       "z\r\n",
       "\" style=\"fill:#ff7f0e;\"/>\r\n",
       "   </g>\r\n",
       "   <g id=\"patch_24\">\r\n",
       "    <path clip-path=\"url(#p01a996e07c)\" d=\"M 57.320312 116.005062 \r\n",
       "L 66.933437 116.005062 \r\n",
       "L 66.933437 42.031235 \r\n",
       "L 57.320312 42.031235 \r\n",
       "z\r\n",
       "\" style=\"fill:#ff7f0e;\"/>\r\n",
       "   </g>\r\n",
       "   <g id=\"patch_25\">\r\n",
       "    <path clip-path=\"url(#p01a996e07c)\" d=\"M 76.546562 133.250494 \r\n",
       "L 86.159687 133.250494 \r\n",
       "L 86.159687 75.160617 \r\n",
       "L 76.546562 75.160617 \r\n",
       "z\r\n",
       "\" style=\"fill:#ff7f0e;\"/>\r\n",
       "   </g>\r\n",
       "   <g id=\"patch_26\">\r\n",
       "    <path clip-path=\"url(#p01a996e07c)\" d=\"M 95.772812 164.564568 \r\n",
       "L 105.385937 164.564568 \r\n",
       "L 105.385937 113.735926 \r\n",
       "L 95.772812 113.735926 \r\n",
       "z\r\n",
       "\" style=\"fill:#ff7f0e;\"/>\r\n",
       "   </g>\r\n",
       "   <g id=\"patch_27\">\r\n",
       "    <path clip-path=\"url(#p01a996e07c)\" d=\"M 114.999062 165.926049 \r\n",
       "L 124.612187 165.926049 \r\n",
       "L 124.612187 133.250494 \r\n",
       "L 114.999062 133.250494 \r\n",
       "z\r\n",
       "\" style=\"fill:#ff7f0e;\"/>\r\n",
       "   </g>\r\n",
       "   <g id=\"patch_28\">\r\n",
       "    <path clip-path=\"url(#p01a996e07c)\" d=\"M 134.225312 216.300864 \r\n",
       "L 143.838437 216.300864 \r\n",
       "L 143.838437 161.841605 \r\n",
       "L 134.225312 161.841605 \r\n",
       "z\r\n",
       "\" style=\"fill:#ff7f0e;\"/>\r\n",
       "   </g>\r\n",
       "   <g id=\"patch_29\">\r\n",
       "    <path clip-path=\"url(#p01a996e07c)\" d=\"M 153.451562 206.770494 \r\n",
       "L 163.064687 206.770494 \r\n",
       "L 163.064687 172.27963 \r\n",
       "L 153.451562 172.27963 \r\n",
       "z\r\n",
       "\" style=\"fill:#ff7f0e;\"/>\r\n",
       "   </g>\r\n",
       "   <g id=\"patch_30\">\r\n",
       "    <path clip-path=\"url(#p01a996e07c)\" d=\"M 172.677812 214.485556 \r\n",
       "L 182.290937 214.485556 \r\n",
       "L 182.290937 175.45642 \r\n",
       "L 172.677812 175.45642 \r\n",
       "z\r\n",
       "\" style=\"fill:#ff7f0e;\"/>\r\n",
       "   </g>\r\n",
       "   <g id=\"patch_31\">\r\n",
       "    <path clip-path=\"url(#p01a996e07c)\" d=\"M 191.904062 200.870741 \r\n",
       "L 201.517187 200.870741 \r\n",
       "L 201.517187 178.63321 \r\n",
       "L 191.904062 178.63321 \r\n",
       "z\r\n",
       "\" style=\"fill:#ff7f0e;\"/>\r\n",
       "   </g>\r\n",
       "   <g id=\"patch_32\">\r\n",
       "    <path clip-path=\"url(#p01a996e07c)\" d=\"M 211.130312 210.854938 \r\n",
       "L 220.743437 210.854938 \r\n",
       "L 220.743437 180.448519 \r\n",
       "L 211.130312 180.448519 \r\n",
       "z\r\n",
       "\" style=\"fill:#ff7f0e;\"/>\r\n",
       "   </g>\r\n",
       "   <g id=\"patch_33\">\r\n",
       "    <path clip-path=\"url(#p01a996e07c)\" d=\"M 230.356562 224.469753 \r\n",
       "L 239.969687 224.469753 \r\n",
       "L 239.969687 185.894444 \r\n",
       "L 230.356562 185.894444 \r\n",
       "z\r\n",
       "\" style=\"fill:#ff7f0e;\"/>\r\n",
       "   </g>\r\n",
       "   <g id=\"patch_34\">\r\n",
       "    <path clip-path=\"url(#p01a996e07c)\" d=\"M 249.582812 207.224321 \r\n",
       "L 259.195937 207.224321 \r\n",
       "L 259.195937 186.348272 \r\n",
       "L 249.582812 186.348272 \r\n",
       "z\r\n",
       "\" style=\"fill:#ff7f0e;\"/>\r\n",
       "   </g>\r\n",
       "   <g id=\"patch_35\">\r\n",
       "    <path clip-path=\"url(#p01a996e07c)\" d=\"M 268.809062 228.10037 \r\n",
       "L 278.422188 228.10037 \r\n",
       "L 278.422188 189.525062 \r\n",
       "L 268.809062 189.525062 \r\n",
       "z\r\n",
       "\" style=\"fill:#ff7f0e;\"/>\r\n",
       "   </g>\r\n",
       "   <g id=\"patch_36\">\r\n",
       "    <path clip-path=\"url(#p01a996e07c)\" d=\"M 288.035312 217.208519 \r\n",
       "L 297.648438 217.208519 \r\n",
       "L 297.648438 189.525062 \r\n",
       "L 288.035312 189.525062 \r\n",
       "z\r\n",
       "\" style=\"fill:#ff7f0e;\"/>\r\n",
       "   </g>\r\n",
       "   <g id=\"patch_37\">\r\n",
       "    <path clip-path=\"url(#p01a996e07c)\" d=\"M 307.261562 205.86284 \r\n",
       "L 316.874687 205.86284 \r\n",
       "L 316.874687 194.970988 \r\n",
       "L 307.261562 194.970988 \r\n",
       "z\r\n",
       "\" style=\"fill:#ff7f0e;\"/>\r\n",
       "   </g>\r\n",
       "   <g id=\"patch_38\">\r\n",
       "    <path clip-path=\"url(#p01a996e07c)\" d=\"M 326.487812 221.74679 \r\n",
       "L 336.100937 221.74679 \r\n",
       "L 336.100937 195.878642 \r\n",
       "L 326.487812 195.878642 \r\n",
       "z\r\n",
       "\" style=\"fill:#ff7f0e;\"/>\r\n",
       "   </g>\r\n",
       "   <g id=\"patch_39\">\r\n",
       "    <path clip-path=\"url(#p01a996e07c)\" d=\"M 345.714062 242.169012 \r\n",
       "L 355.327187 242.169012 \r\n",
       "L 355.327187 200.416914 \r\n",
       "L 345.714062 200.416914 \r\n",
       "z\r\n",
       "\" style=\"fill:#ff7f0e;\"/>\r\n",
       "   </g>\r\n",
       "   <g id=\"patch_40\">\r\n",
       "    <path clip-path=\"url(#p01a996e07c)\" d=\"M 364.940312 222.200617 \r\n",
       "L 374.553437 222.200617 \r\n",
       "L 374.553437 201.324568 \r\n",
       "L 364.940312 201.324568 \r\n",
       "z\r\n",
       "\" style=\"fill:#ff7f0e;\"/>\r\n",
       "   </g>\r\n",
       "   <g id=\"patch_41\">\r\n",
       "    <path clip-path=\"url(#p01a996e07c)\" d=\"M 384.166562 238.084568 \r\n",
       "L 393.779687 238.084568 \r\n",
       "L 393.779687 203.139877 \r\n",
       "L 384.166562 203.139877 \r\n",
       "z\r\n",
       "\" style=\"fill:#ff7f0e;\"/>\r\n",
       "   </g>\r\n",
       "   <g id=\"patch_42\">\r\n",
       "    <path clip-path=\"url(#p01a996e07c)\" d=\"M 403.392812 242.169012 \r\n",
       "L 413.005937 242.169012 \r\n",
       "L 413.005937 205.409012 \r\n",
       "L 403.392812 205.409012 \r\n",
       "z\r\n",
       "\" style=\"fill:#ff7f0e;\"/>\r\n",
       "   </g>\r\n",
       "   <g id=\"matplotlib.axis_1\">\r\n",
       "    <g id=\"xtick_1\">\r\n",
       "     <g id=\"line2d_1\">\r\n",
       "      <defs>\r\n",
       "       <path d=\"M 0 0 \r\n",
       "L 0 3.5 \r\n",
       "\" id=\"m219a306575\" style=\"stroke:#000000;stroke-width:0.8;\"/>\r\n",
       "      </defs>\r\n",
       "      <g>\r\n",
       "       <use style=\"stroke:#000000;stroke-width:0.8;\" x=\"42.900625\" xlink:href=\"#m219a306575\" y=\"328.85\"/>\r\n",
       "      </g>\r\n",
       "     </g>\r\n",
       "     <g id=\"text_1\">\r\n",
       "      <!-- University of California, Los Angeles -->\r\n",
       "      <defs>\r\n",
       "       <path d=\"M 8.6875 72.90625 \r\n",
       "L 18.609375 72.90625 \r\n",
       "L 18.609375 28.609375 \r\n",
       "Q 18.609375 16.890625 22.84375 11.734375 \r\n",
       "Q 27.09375 6.59375 36.625 6.59375 \r\n",
       "Q 46.09375 6.59375 50.34375 11.734375 \r\n",
       "Q 54.59375 16.890625 54.59375 28.609375 \r\n",
       "L 54.59375 72.90625 \r\n",
       "L 64.5 72.90625 \r\n",
       "L 64.5 27.390625 \r\n",
       "Q 64.5 13.140625 57.4375 5.859375 \r\n",
       "Q 50.390625 -1.421875 36.625 -1.421875 \r\n",
       "Q 22.796875 -1.421875 15.734375 5.859375 \r\n",
       "Q 8.6875 13.140625 8.6875 27.390625 \r\n",
       "z\r\n",
       "\" id=\"DejaVuSans-85\"/>\r\n",
       "       <path d=\"M 54.890625 33.015625 \r\n",
       "L 54.890625 0 \r\n",
       "L 45.90625 0 \r\n",
       "L 45.90625 32.71875 \r\n",
       "Q 45.90625 40.484375 42.875 44.328125 \r\n",
       "Q 39.84375 48.1875 33.796875 48.1875 \r\n",
       "Q 26.515625 48.1875 22.3125 43.546875 \r\n",
       "Q 18.109375 38.921875 18.109375 30.90625 \r\n",
       "L 18.109375 0 \r\n",
       "L 9.078125 0 \r\n",
       "L 9.078125 54.6875 \r\n",
       "L 18.109375 54.6875 \r\n",
       "L 18.109375 46.1875 \r\n",
       "Q 21.34375 51.125 25.703125 53.5625 \r\n",
       "Q 30.078125 56 35.796875 56 \r\n",
       "Q 45.21875 56 50.046875 50.171875 \r\n",
       "Q 54.890625 44.34375 54.890625 33.015625 \r\n",
       "z\r\n",
       "\" id=\"DejaVuSans-110\"/>\r\n",
       "       <path d=\"M 9.421875 54.6875 \r\n",
       "L 18.40625 54.6875 \r\n",
       "L 18.40625 0 \r\n",
       "L 9.421875 0 \r\n",
       "z\r\n",
       "M 9.421875 75.984375 \r\n",
       "L 18.40625 75.984375 \r\n",
       "L 18.40625 64.59375 \r\n",
       "L 9.421875 64.59375 \r\n",
       "z\r\n",
       "\" id=\"DejaVuSans-105\"/>\r\n",
       "       <path d=\"M 2.984375 54.6875 \r\n",
       "L 12.5 54.6875 \r\n",
       "L 29.59375 8.796875 \r\n",
       "L 46.6875 54.6875 \r\n",
       "L 56.203125 54.6875 \r\n",
       "L 35.6875 0 \r\n",
       "L 23.484375 0 \r\n",
       "z\r\n",
       "\" id=\"DejaVuSans-118\"/>\r\n",
       "       <path d=\"M 56.203125 29.59375 \r\n",
       "L 56.203125 25.203125 \r\n",
       "L 14.890625 25.203125 \r\n",
       "Q 15.484375 15.921875 20.484375 11.0625 \r\n",
       "Q 25.484375 6.203125 34.421875 6.203125 \r\n",
       "Q 39.59375 6.203125 44.453125 7.46875 \r\n",
       "Q 49.3125 8.734375 54.109375 11.28125 \r\n",
       "L 54.109375 2.78125 \r\n",
       "Q 49.265625 0.734375 44.1875 -0.34375 \r\n",
       "Q 39.109375 -1.421875 33.890625 -1.421875 \r\n",
       "Q 20.796875 -1.421875 13.15625 6.1875 \r\n",
       "Q 5.515625 13.8125 5.515625 26.8125 \r\n",
       "Q 5.515625 40.234375 12.765625 48.109375 \r\n",
       "Q 20.015625 56 32.328125 56 \r\n",
       "Q 43.359375 56 49.78125 48.890625 \r\n",
       "Q 56.203125 41.796875 56.203125 29.59375 \r\n",
       "z\r\n",
       "M 47.21875 32.234375 \r\n",
       "Q 47.125 39.59375 43.09375 43.984375 \r\n",
       "Q 39.0625 48.390625 32.421875 48.390625 \r\n",
       "Q 24.90625 48.390625 20.390625 44.140625 \r\n",
       "Q 15.875 39.890625 15.1875 32.171875 \r\n",
       "z\r\n",
       "\" id=\"DejaVuSans-101\"/>\r\n",
       "       <path d=\"M 41.109375 46.296875 \r\n",
       "Q 39.59375 47.171875 37.8125 47.578125 \r\n",
       "Q 36.03125 48 33.890625 48 \r\n",
       "Q 26.265625 48 22.1875 43.046875 \r\n",
       "Q 18.109375 38.09375 18.109375 28.8125 \r\n",
       "L 18.109375 0 \r\n",
       "L 9.078125 0 \r\n",
       "L 9.078125 54.6875 \r\n",
       "L 18.109375 54.6875 \r\n",
       "L 18.109375 46.1875 \r\n",
       "Q 20.953125 51.171875 25.484375 53.578125 \r\n",
       "Q 30.03125 56 36.53125 56 \r\n",
       "Q 37.453125 56 38.578125 55.875 \r\n",
       "Q 39.703125 55.765625 41.0625 55.515625 \r\n",
       "z\r\n",
       "\" id=\"DejaVuSans-114\"/>\r\n",
       "       <path d=\"M 44.28125 53.078125 \r\n",
       "L 44.28125 44.578125 \r\n",
       "Q 40.484375 46.53125 36.375 47.5 \r\n",
       "Q 32.28125 48.484375 27.875 48.484375 \r\n",
       "Q 21.1875 48.484375 17.84375 46.4375 \r\n",
       "Q 14.5 44.390625 14.5 40.28125 \r\n",
       "Q 14.5 37.15625 16.890625 35.375 \r\n",
       "Q 19.28125 33.59375 26.515625 31.984375 \r\n",
       "L 29.59375 31.296875 \r\n",
       "Q 39.15625 29.25 43.1875 25.515625 \r\n",
       "Q 47.21875 21.78125 47.21875 15.09375 \r\n",
       "Q 47.21875 7.46875 41.1875 3.015625 \r\n",
       "Q 35.15625 -1.421875 24.609375 -1.421875 \r\n",
       "Q 20.21875 -1.421875 15.453125 -0.5625 \r\n",
       "Q 10.6875 0.296875 5.421875 2 \r\n",
       "L 5.421875 11.28125 \r\n",
       "Q 10.40625 8.6875 15.234375 7.390625 \r\n",
       "Q 20.0625 6.109375 24.8125 6.109375 \r\n",
       "Q 31.15625 6.109375 34.5625 8.28125 \r\n",
       "Q 37.984375 10.453125 37.984375 14.40625 \r\n",
       "Q 37.984375 18.0625 35.515625 20.015625 \r\n",
       "Q 33.0625 21.96875 24.703125 23.78125 \r\n",
       "L 21.578125 24.515625 \r\n",
       "Q 13.234375 26.265625 9.515625 29.90625 \r\n",
       "Q 5.8125 33.546875 5.8125 39.890625 \r\n",
       "Q 5.8125 47.609375 11.28125 51.796875 \r\n",
       "Q 16.75 56 26.8125 56 \r\n",
       "Q 31.78125 56 36.171875 55.265625 \r\n",
       "Q 40.578125 54.546875 44.28125 53.078125 \r\n",
       "z\r\n",
       "\" id=\"DejaVuSans-115\"/>\r\n",
       "       <path d=\"M 18.3125 70.21875 \r\n",
       "L 18.3125 54.6875 \r\n",
       "L 36.8125 54.6875 \r\n",
       "L 36.8125 47.703125 \r\n",
       "L 18.3125 47.703125 \r\n",
       "L 18.3125 18.015625 \r\n",
       "Q 18.3125 11.328125 20.140625 9.421875 \r\n",
       "Q 21.96875 7.515625 27.59375 7.515625 \r\n",
       "L 36.8125 7.515625 \r\n",
       "L 36.8125 0 \r\n",
       "L 27.59375 0 \r\n",
       "Q 17.1875 0 13.234375 3.875 \r\n",
       "Q 9.28125 7.765625 9.28125 18.015625 \r\n",
       "L 9.28125 47.703125 \r\n",
       "L 2.6875 47.703125 \r\n",
       "L 2.6875 54.6875 \r\n",
       "L 9.28125 54.6875 \r\n",
       "L 9.28125 70.21875 \r\n",
       "z\r\n",
       "\" id=\"DejaVuSans-116\"/>\r\n",
       "       <path d=\"M 32.171875 -5.078125 \r\n",
       "Q 28.375 -14.84375 24.75 -17.8125 \r\n",
       "Q 21.140625 -20.796875 15.09375 -20.796875 \r\n",
       "L 7.90625 -20.796875 \r\n",
       "L 7.90625 -13.28125 \r\n",
       "L 13.1875 -13.28125 \r\n",
       "Q 16.890625 -13.28125 18.9375 -11.515625 \r\n",
       "Q 21 -9.765625 23.484375 -3.21875 \r\n",
       "L 25.09375 0.875 \r\n",
       "L 2.984375 54.6875 \r\n",
       "L 12.5 54.6875 \r\n",
       "L 29.59375 11.921875 \r\n",
       "L 46.6875 54.6875 \r\n",
       "L 56.203125 54.6875 \r\n",
       "z\r\n",
       "\" id=\"DejaVuSans-121\"/>\r\n",
       "       <path id=\"DejaVuSans-32\"/>\r\n",
       "       <path d=\"M 30.609375 48.390625 \r\n",
       "Q 23.390625 48.390625 19.1875 42.75 \r\n",
       "Q 14.984375 37.109375 14.984375 27.296875 \r\n",
       "Q 14.984375 17.484375 19.15625 11.84375 \r\n",
       "Q 23.34375 6.203125 30.609375 6.203125 \r\n",
       "Q 37.796875 6.203125 41.984375 11.859375 \r\n",
       "Q 46.1875 17.53125 46.1875 27.296875 \r\n",
       "Q 46.1875 37.015625 41.984375 42.703125 \r\n",
       "Q 37.796875 48.390625 30.609375 48.390625 \r\n",
       "z\r\n",
       "M 30.609375 56 \r\n",
       "Q 42.328125 56 49.015625 48.375 \r\n",
       "Q 55.71875 40.765625 55.71875 27.296875 \r\n",
       "Q 55.71875 13.875 49.015625 6.21875 \r\n",
       "Q 42.328125 -1.421875 30.609375 -1.421875 \r\n",
       "Q 18.84375 -1.421875 12.171875 6.21875 \r\n",
       "Q 5.515625 13.875 5.515625 27.296875 \r\n",
       "Q 5.515625 40.765625 12.171875 48.375 \r\n",
       "Q 18.84375 56 30.609375 56 \r\n",
       "z\r\n",
       "\" id=\"DejaVuSans-111\"/>\r\n",
       "       <path d=\"M 37.109375 75.984375 \r\n",
       "L 37.109375 68.5 \r\n",
       "L 28.515625 68.5 \r\n",
       "Q 23.6875 68.5 21.796875 66.546875 \r\n",
       "Q 19.921875 64.59375 19.921875 59.515625 \r\n",
       "L 19.921875 54.6875 \r\n",
       "L 34.71875 54.6875 \r\n",
       "L 34.71875 47.703125 \r\n",
       "L 19.921875 47.703125 \r\n",
       "L 19.921875 0 \r\n",
       "L 10.890625 0 \r\n",
       "L 10.890625 47.703125 \r\n",
       "L 2.296875 47.703125 \r\n",
       "L 2.296875 54.6875 \r\n",
       "L 10.890625 54.6875 \r\n",
       "L 10.890625 58.5 \r\n",
       "Q 10.890625 67.625 15.140625 71.796875 \r\n",
       "Q 19.390625 75.984375 28.609375 75.984375 \r\n",
       "z\r\n",
       "\" id=\"DejaVuSans-102\"/>\r\n",
       "       <path d=\"M 64.40625 67.28125 \r\n",
       "L 64.40625 56.890625 \r\n",
       "Q 59.421875 61.53125 53.78125 63.8125 \r\n",
       "Q 48.140625 66.109375 41.796875 66.109375 \r\n",
       "Q 29.296875 66.109375 22.65625 58.46875 \r\n",
       "Q 16.015625 50.828125 16.015625 36.375 \r\n",
       "Q 16.015625 21.96875 22.65625 14.328125 \r\n",
       "Q 29.296875 6.6875 41.796875 6.6875 \r\n",
       "Q 48.140625 6.6875 53.78125 8.984375 \r\n",
       "Q 59.421875 11.28125 64.40625 15.921875 \r\n",
       "L 64.40625 5.609375 \r\n",
       "Q 59.234375 2.09375 53.4375 0.328125 \r\n",
       "Q 47.65625 -1.421875 41.21875 -1.421875 \r\n",
       "Q 24.65625 -1.421875 15.125 8.703125 \r\n",
       "Q 5.609375 18.84375 5.609375 36.375 \r\n",
       "Q 5.609375 53.953125 15.125 64.078125 \r\n",
       "Q 24.65625 74.21875 41.21875 74.21875 \r\n",
       "Q 47.75 74.21875 53.53125 72.484375 \r\n",
       "Q 59.328125 70.75 64.40625 67.28125 \r\n",
       "z\r\n",
       "\" id=\"DejaVuSans-67\"/>\r\n",
       "       <path d=\"M 34.28125 27.484375 \r\n",
       "Q 23.390625 27.484375 19.1875 25 \r\n",
       "Q 14.984375 22.515625 14.984375 16.5 \r\n",
       "Q 14.984375 11.71875 18.140625 8.90625 \r\n",
       "Q 21.296875 6.109375 26.703125 6.109375 \r\n",
       "Q 34.1875 6.109375 38.703125 11.40625 \r\n",
       "Q 43.21875 16.703125 43.21875 25.484375 \r\n",
       "L 43.21875 27.484375 \r\n",
       "z\r\n",
       "M 52.203125 31.203125 \r\n",
       "L 52.203125 0 \r\n",
       "L 43.21875 0 \r\n",
       "L 43.21875 8.296875 \r\n",
       "Q 40.140625 3.328125 35.546875 0.953125 \r\n",
       "Q 30.953125 -1.421875 24.3125 -1.421875 \r\n",
       "Q 15.921875 -1.421875 10.953125 3.296875 \r\n",
       "Q 6 8.015625 6 15.921875 \r\n",
       "Q 6 25.140625 12.171875 29.828125 \r\n",
       "Q 18.359375 34.515625 30.609375 34.515625 \r\n",
       "L 43.21875 34.515625 \r\n",
       "L 43.21875 35.40625 \r\n",
       "Q 43.21875 41.609375 39.140625 45 \r\n",
       "Q 35.0625 48.390625 27.6875 48.390625 \r\n",
       "Q 23 48.390625 18.546875 47.265625 \r\n",
       "Q 14.109375 46.140625 10.015625 43.890625 \r\n",
       "L 10.015625 52.203125 \r\n",
       "Q 14.9375 54.109375 19.578125 55.046875 \r\n",
       "Q 24.21875 56 28.609375 56 \r\n",
       "Q 40.484375 56 46.34375 49.84375 \r\n",
       "Q 52.203125 43.703125 52.203125 31.203125 \r\n",
       "z\r\n",
       "\" id=\"DejaVuSans-97\"/>\r\n",
       "       <path d=\"M 9.421875 75.984375 \r\n",
       "L 18.40625 75.984375 \r\n",
       "L 18.40625 0 \r\n",
       "L 9.421875 0 \r\n",
       "z\r\n",
       "\" id=\"DejaVuSans-108\"/>\r\n",
       "       <path d=\"M 11.71875 12.40625 \r\n",
       "L 22.015625 12.40625 \r\n",
       "L 22.015625 4 \r\n",
       "L 14.015625 -11.625 \r\n",
       "L 7.71875 -11.625 \r\n",
       "L 11.71875 4 \r\n",
       "z\r\n",
       "\" id=\"DejaVuSans-44\"/>\r\n",
       "       <path d=\"M 9.8125 72.90625 \r\n",
       "L 19.671875 72.90625 \r\n",
       "L 19.671875 8.296875 \r\n",
       "L 55.171875 8.296875 \r\n",
       "L 55.171875 0 \r\n",
       "L 9.8125 0 \r\n",
       "z\r\n",
       "\" id=\"DejaVuSans-76\"/>\r\n",
       "       <path d=\"M 34.1875 63.1875 \r\n",
       "L 20.796875 26.90625 \r\n",
       "L 47.609375 26.90625 \r\n",
       "z\r\n",
       "M 28.609375 72.90625 \r\n",
       "L 39.796875 72.90625 \r\n",
       "L 67.578125 0 \r\n",
       "L 57.328125 0 \r\n",
       "L 50.6875 18.703125 \r\n",
       "L 17.828125 18.703125 \r\n",
       "L 11.1875 0 \r\n",
       "L 0.78125 0 \r\n",
       "z\r\n",
       "\" id=\"DejaVuSans-65\"/>\r\n",
       "       <path d=\"M 45.40625 27.984375 \r\n",
       "Q 45.40625 37.75 41.375 43.109375 \r\n",
       "Q 37.359375 48.484375 30.078125 48.484375 \r\n",
       "Q 22.859375 48.484375 18.828125 43.109375 \r\n",
       "Q 14.796875 37.75 14.796875 27.984375 \r\n",
       "Q 14.796875 18.265625 18.828125 12.890625 \r\n",
       "Q 22.859375 7.515625 30.078125 7.515625 \r\n",
       "Q 37.359375 7.515625 41.375 12.890625 \r\n",
       "Q 45.40625 18.265625 45.40625 27.984375 \r\n",
       "z\r\n",
       "M 54.390625 6.78125 \r\n",
       "Q 54.390625 -7.171875 48.1875 -13.984375 \r\n",
       "Q 42 -20.796875 29.203125 -20.796875 \r\n",
       "Q 24.46875 -20.796875 20.265625 -20.09375 \r\n",
       "Q 16.0625 -19.390625 12.109375 -17.921875 \r\n",
       "L 12.109375 -9.1875 \r\n",
       "Q 16.0625 -11.328125 19.921875 -12.34375 \r\n",
       "Q 23.78125 -13.375 27.78125 -13.375 \r\n",
       "Q 36.625 -13.375 41.015625 -8.765625 \r\n",
       "Q 45.40625 -4.15625 45.40625 5.171875 \r\n",
       "L 45.40625 9.625 \r\n",
       "Q 42.625 4.78125 38.28125 2.390625 \r\n",
       "Q 33.9375 0 27.875 0 \r\n",
       "Q 17.828125 0 11.671875 7.65625 \r\n",
       "Q 5.515625 15.328125 5.515625 27.984375 \r\n",
       "Q 5.515625 40.671875 11.671875 48.328125 \r\n",
       "Q 17.828125 56 27.875 56 \r\n",
       "Q 33.9375 56 38.28125 53.609375 \r\n",
       "Q 42.625 51.21875 45.40625 46.390625 \r\n",
       "L 45.40625 54.6875 \r\n",
       "L 54.390625 54.6875 \r\n",
       "z\r\n",
       "\" id=\"DejaVuSans-103\"/>\r\n",
       "      </defs>\r\n",
       "      <g transform=\"translate(45.66 516.201562)rotate(-90)scale(0.1 -0.1)\">\r\n",
       "       <use xlink:href=\"#DejaVuSans-85\"/>\r\n",
       "       <use x=\"73.193359\" xlink:href=\"#DejaVuSans-110\"/>\r\n",
       "       <use x=\"136.572266\" xlink:href=\"#DejaVuSans-105\"/>\r\n",
       "       <use x=\"164.355469\" xlink:href=\"#DejaVuSans-118\"/>\r\n",
       "       <use x=\"223.535156\" xlink:href=\"#DejaVuSans-101\"/>\r\n",
       "       <use x=\"285.058594\" xlink:href=\"#DejaVuSans-114\"/>\r\n",
       "       <use x=\"326.171875\" xlink:href=\"#DejaVuSans-115\"/>\r\n",
       "       <use x=\"378.271484\" xlink:href=\"#DejaVuSans-105\"/>\r\n",
       "       <use x=\"406.054688\" xlink:href=\"#DejaVuSans-116\"/>\r\n",
       "       <use x=\"445.263672\" xlink:href=\"#DejaVuSans-121\"/>\r\n",
       "       <use x=\"504.443359\" xlink:href=\"#DejaVuSans-32\"/>\r\n",
       "       <use x=\"536.230469\" xlink:href=\"#DejaVuSans-111\"/>\r\n",
       "       <use x=\"597.412109\" xlink:href=\"#DejaVuSans-102\"/>\r\n",
       "       <use x=\"632.617188\" xlink:href=\"#DejaVuSans-32\"/>\r\n",
       "       <use x=\"664.404297\" xlink:href=\"#DejaVuSans-67\"/>\r\n",
       "       <use x=\"734.228516\" xlink:href=\"#DejaVuSans-97\"/>\r\n",
       "       <use x=\"795.507812\" xlink:href=\"#DejaVuSans-108\"/>\r\n",
       "       <use x=\"823.291016\" xlink:href=\"#DejaVuSans-105\"/>\r\n",
       "       <use x=\"851.074219\" xlink:href=\"#DejaVuSans-102\"/>\r\n",
       "       <use x=\"886.279297\" xlink:href=\"#DejaVuSans-111\"/>\r\n",
       "       <use x=\"947.460938\" xlink:href=\"#DejaVuSans-114\"/>\r\n",
       "       <use x=\"988.558594\" xlink:href=\"#DejaVuSans-110\"/>\r\n",
       "       <use x=\"1051.9375\" xlink:href=\"#DejaVuSans-105\"/>\r\n",
       "       <use x=\"1079.720703\" xlink:href=\"#DejaVuSans-97\"/>\r\n",
       "       <use x=\"1141\" xlink:href=\"#DejaVuSans-44\"/>\r\n",
       "       <use x=\"1172.787109\" xlink:href=\"#DejaVuSans-32\"/>\r\n",
       "       <use x=\"1204.574219\" xlink:href=\"#DejaVuSans-76\"/>\r\n",
       "       <use x=\"1260.271484\" xlink:href=\"#DejaVuSans-111\"/>\r\n",
       "       <use x=\"1321.453125\" xlink:href=\"#DejaVuSans-115\"/>\r\n",
       "       <use x=\"1373.552734\" xlink:href=\"#DejaVuSans-32\"/>\r\n",
       "       <use x=\"1405.339844\" xlink:href=\"#DejaVuSans-65\"/>\r\n",
       "       <use x=\"1473.748047\" xlink:href=\"#DejaVuSans-110\"/>\r\n",
       "       <use x=\"1537.126953\" xlink:href=\"#DejaVuSans-103\"/>\r\n",
       "       <use x=\"1600.603516\" xlink:href=\"#DejaVuSans-101\"/>\r\n",
       "       <use x=\"1662.126953\" xlink:href=\"#DejaVuSans-108\"/>\r\n",
       "       <use x=\"1689.910156\" xlink:href=\"#DejaVuSans-101\"/>\r\n",
       "       <use x=\"1751.433594\" xlink:href=\"#DejaVuSans-115\"/>\r\n",
       "      </g>\r\n",
       "     </g>\r\n",
       "    </g>\r\n",
       "    <g id=\"xtick_2\">\r\n",
       "     <g id=\"line2d_2\">\r\n",
       "      <g>\r\n",
       "       <use style=\"stroke:#000000;stroke-width:0.8;\" x=\"62.126875\" xlink:href=\"#m219a306575\" y=\"328.85\"/>\r\n",
       "      </g>\r\n",
       "     </g>\r\n",
       "     <g id=\"text_2\">\r\n",
       "      <!-- University of North Carolina -->\r\n",
       "      <defs>\r\n",
       "       <path d=\"M 9.8125 72.90625 \r\n",
       "L 23.09375 72.90625 \r\n",
       "L 55.421875 11.921875 \r\n",
       "L 55.421875 72.90625 \r\n",
       "L 64.984375 72.90625 \r\n",
       "L 64.984375 0 \r\n",
       "L 51.703125 0 \r\n",
       "L 19.390625 60.984375 \r\n",
       "L 19.390625 0 \r\n",
       "L 9.8125 0 \r\n",
       "z\r\n",
       "\" id=\"DejaVuSans-78\"/>\r\n",
       "       <path d=\"M 54.890625 33.015625 \r\n",
       "L 54.890625 0 \r\n",
       "L 45.90625 0 \r\n",
       "L 45.90625 32.71875 \r\n",
       "Q 45.90625 40.484375 42.875 44.328125 \r\n",
       "Q 39.84375 48.1875 33.796875 48.1875 \r\n",
       "Q 26.515625 48.1875 22.3125 43.546875 \r\n",
       "Q 18.109375 38.921875 18.109375 30.90625 \r\n",
       "L 18.109375 0 \r\n",
       "L 9.078125 0 \r\n",
       "L 9.078125 75.984375 \r\n",
       "L 18.109375 75.984375 \r\n",
       "L 18.109375 46.1875 \r\n",
       "Q 21.34375 51.125 25.703125 53.5625 \r\n",
       "Q 30.078125 56 35.796875 56 \r\n",
       "Q 45.21875 56 50.046875 50.171875 \r\n",
       "Q 54.890625 44.34375 54.890625 33.015625 \r\n",
       "z\r\n",
       "\" id=\"DejaVuSans-104\"/>\r\n",
       "      </defs>\r\n",
       "      <g transform=\"translate(64.88625 474.795312)rotate(-90)scale(0.1 -0.1)\">\r\n",
       "       <use xlink:href=\"#DejaVuSans-85\"/>\r\n",
       "       <use x=\"73.193359\" xlink:href=\"#DejaVuSans-110\"/>\r\n",
       "       <use x=\"136.572266\" xlink:href=\"#DejaVuSans-105\"/>\r\n",
       "       <use x=\"164.355469\" xlink:href=\"#DejaVuSans-118\"/>\r\n",
       "       <use x=\"223.535156\" xlink:href=\"#DejaVuSans-101\"/>\r\n",
       "       <use x=\"285.058594\" xlink:href=\"#DejaVuSans-114\"/>\r\n",
       "       <use x=\"326.171875\" xlink:href=\"#DejaVuSans-115\"/>\r\n",
       "       <use x=\"378.271484\" xlink:href=\"#DejaVuSans-105\"/>\r\n",
       "       <use x=\"406.054688\" xlink:href=\"#DejaVuSans-116\"/>\r\n",
       "       <use x=\"445.263672\" xlink:href=\"#DejaVuSans-121\"/>\r\n",
       "       <use x=\"504.443359\" xlink:href=\"#DejaVuSans-32\"/>\r\n",
       "       <use x=\"536.230469\" xlink:href=\"#DejaVuSans-111\"/>\r\n",
       "       <use x=\"597.412109\" xlink:href=\"#DejaVuSans-102\"/>\r\n",
       "       <use x=\"632.617188\" xlink:href=\"#DejaVuSans-32\"/>\r\n",
       "       <use x=\"664.404297\" xlink:href=\"#DejaVuSans-78\"/>\r\n",
       "       <use x=\"739.208984\" xlink:href=\"#DejaVuSans-111\"/>\r\n",
       "       <use x=\"800.390625\" xlink:href=\"#DejaVuSans-114\"/>\r\n",
       "       <use x=\"841.503906\" xlink:href=\"#DejaVuSans-116\"/>\r\n",
       "       <use x=\"880.712891\" xlink:href=\"#DejaVuSans-104\"/>\r\n",
       "       <use x=\"944.091797\" xlink:href=\"#DejaVuSans-32\"/>\r\n",
       "       <use x=\"975.878906\" xlink:href=\"#DejaVuSans-67\"/>\r\n",
       "       <use x=\"1045.703125\" xlink:href=\"#DejaVuSans-97\"/>\r\n",
       "       <use x=\"1106.982422\" xlink:href=\"#DejaVuSans-114\"/>\r\n",
       "       <use x=\"1148.064453\" xlink:href=\"#DejaVuSans-111\"/>\r\n",
       "       <use x=\"1209.246094\" xlink:href=\"#DejaVuSans-108\"/>\r\n",
       "       <use x=\"1237.029297\" xlink:href=\"#DejaVuSans-105\"/>\r\n",
       "       <use x=\"1264.8125\" xlink:href=\"#DejaVuSans-110\"/>\r\n",
       "       <use x=\"1328.191406\" xlink:href=\"#DejaVuSans-97\"/>\r\n",
       "      </g>\r\n",
       "     </g>\r\n",
       "    </g>\r\n",
       "    <g id=\"xtick_3\">\r\n",
       "     <g id=\"line2d_3\">\r\n",
       "      <g>\r\n",
       "       <use style=\"stroke:#000000;stroke-width:0.8;\" x=\"81.353125\" xlink:href=\"#m219a306575\" y=\"328.85\"/>\r\n",
       "      </g>\r\n",
       "     </g>\r\n",
       "     <g id=\"text_3\">\r\n",
       "      <!-- University of Kentucky -->\r\n",
       "      <defs>\r\n",
       "       <path d=\"M 9.8125 72.90625 \r\n",
       "L 19.671875 72.90625 \r\n",
       "L 19.671875 42.09375 \r\n",
       "L 52.390625 72.90625 \r\n",
       "L 65.09375 72.90625 \r\n",
       "L 28.90625 38.921875 \r\n",
       "L 67.671875 0 \r\n",
       "L 54.6875 0 \r\n",
       "L 19.671875 35.109375 \r\n",
       "L 19.671875 0 \r\n",
       "L 9.8125 0 \r\n",
       "z\r\n",
       "\" id=\"DejaVuSans-75\"/>\r\n",
       "       <path d=\"M 8.5 21.578125 \r\n",
       "L 8.5 54.6875 \r\n",
       "L 17.484375 54.6875 \r\n",
       "L 17.484375 21.921875 \r\n",
       "Q 17.484375 14.15625 20.5 10.265625 \r\n",
       "Q 23.53125 6.390625 29.59375 6.390625 \r\n",
       "Q 36.859375 6.390625 41.078125 11.03125 \r\n",
       "Q 45.3125 15.671875 45.3125 23.6875 \r\n",
       "L 45.3125 54.6875 \r\n",
       "L 54.296875 54.6875 \r\n",
       "L 54.296875 0 \r\n",
       "L 45.3125 0 \r\n",
       "L 45.3125 8.40625 \r\n",
       "Q 42.046875 3.421875 37.71875 1 \r\n",
       "Q 33.40625 -1.421875 27.6875 -1.421875 \r\n",
       "Q 18.265625 -1.421875 13.375 4.4375 \r\n",
       "Q 8.5 10.296875 8.5 21.578125 \r\n",
       "z\r\n",
       "M 31.109375 56 \r\n",
       "z\r\n",
       "\" id=\"DejaVuSans-117\"/>\r\n",
       "       <path d=\"M 48.78125 52.59375 \r\n",
       "L 48.78125 44.1875 \r\n",
       "Q 44.96875 46.296875 41.140625 47.34375 \r\n",
       "Q 37.3125 48.390625 33.40625 48.390625 \r\n",
       "Q 24.65625 48.390625 19.8125 42.84375 \r\n",
       "Q 14.984375 37.3125 14.984375 27.296875 \r\n",
       "Q 14.984375 17.28125 19.8125 11.734375 \r\n",
       "Q 24.65625 6.203125 33.40625 6.203125 \r\n",
       "Q 37.3125 6.203125 41.140625 7.25 \r\n",
       "Q 44.96875 8.296875 48.78125 10.40625 \r\n",
       "L 48.78125 2.09375 \r\n",
       "Q 45.015625 0.34375 40.984375 -0.53125 \r\n",
       "Q 36.96875 -1.421875 32.421875 -1.421875 \r\n",
       "Q 20.0625 -1.421875 12.78125 6.34375 \r\n",
       "Q 5.515625 14.109375 5.515625 27.296875 \r\n",
       "Q 5.515625 40.671875 12.859375 48.328125 \r\n",
       "Q 20.21875 56 33.015625 56 \r\n",
       "Q 37.15625 56 41.109375 55.140625 \r\n",
       "Q 45.0625 54.296875 48.78125 52.59375 \r\n",
       "z\r\n",
       "\" id=\"DejaVuSans-99\"/>\r\n",
       "       <path d=\"M 9.078125 75.984375 \r\n",
       "L 18.109375 75.984375 \r\n",
       "L 18.109375 31.109375 \r\n",
       "L 44.921875 54.6875 \r\n",
       "L 56.390625 54.6875 \r\n",
       "L 27.390625 29.109375 \r\n",
       "L 57.625 0 \r\n",
       "L 45.90625 0 \r\n",
       "L 18.109375 26.703125 \r\n",
       "L 18.109375 0 \r\n",
       "L 9.078125 0 \r\n",
       "z\r\n",
       "\" id=\"DejaVuSans-107\"/>\r\n",
       "      </defs>\r\n",
       "      <g transform=\"translate(84.1125 448.790625)rotate(-90)scale(0.1 -0.1)\">\r\n",
       "       <use xlink:href=\"#DejaVuSans-85\"/>\r\n",
       "       <use x=\"73.193359\" xlink:href=\"#DejaVuSans-110\"/>\r\n",
       "       <use x=\"136.572266\" xlink:href=\"#DejaVuSans-105\"/>\r\n",
       "       <use x=\"164.355469\" xlink:href=\"#DejaVuSans-118\"/>\r\n",
       "       <use x=\"223.535156\" xlink:href=\"#DejaVuSans-101\"/>\r\n",
       "       <use x=\"285.058594\" xlink:href=\"#DejaVuSans-114\"/>\r\n",
       "       <use x=\"326.171875\" xlink:href=\"#DejaVuSans-115\"/>\r\n",
       "       <use x=\"378.271484\" xlink:href=\"#DejaVuSans-105\"/>\r\n",
       "       <use x=\"406.054688\" xlink:href=\"#DejaVuSans-116\"/>\r\n",
       "       <use x=\"445.263672\" xlink:href=\"#DejaVuSans-121\"/>\r\n",
       "       <use x=\"504.443359\" xlink:href=\"#DejaVuSans-32\"/>\r\n",
       "       <use x=\"536.230469\" xlink:href=\"#DejaVuSans-111\"/>\r\n",
       "       <use x=\"597.412109\" xlink:href=\"#DejaVuSans-102\"/>\r\n",
       "       <use x=\"632.617188\" xlink:href=\"#DejaVuSans-32\"/>\r\n",
       "       <use x=\"664.404297\" xlink:href=\"#DejaVuSans-75\"/>\r\n",
       "       <use x=\"729.902344\" xlink:href=\"#DejaVuSans-101\"/>\r\n",
       "       <use x=\"791.425781\" xlink:href=\"#DejaVuSans-110\"/>\r\n",
       "       <use x=\"854.804688\" xlink:href=\"#DejaVuSans-116\"/>\r\n",
       "       <use x=\"894.013672\" xlink:href=\"#DejaVuSans-117\"/>\r\n",
       "       <use x=\"957.392578\" xlink:href=\"#DejaVuSans-99\"/>\r\n",
       "       <use x=\"1012.373047\" xlink:href=\"#DejaVuSans-107\"/>\r\n",
       "       <use x=\"1070.236328\" xlink:href=\"#DejaVuSans-121\"/>\r\n",
       "      </g>\r\n",
       "     </g>\r\n",
       "    </g>\r\n",
       "    <g id=\"xtick_4\">\r\n",
       "     <g id=\"line2d_4\">\r\n",
       "      <g>\r\n",
       "       <use style=\"stroke:#000000;stroke-width:0.8;\" x=\"100.579375\" xlink:href=\"#m219a306575\" y=\"328.85\"/>\r\n",
       "      </g>\r\n",
       "     </g>\r\n",
       "     <g id=\"text_4\">\r\n",
       "      <!-- Duke University -->\r\n",
       "      <defs>\r\n",
       "       <path d=\"M 19.671875 64.796875 \r\n",
       "L 19.671875 8.109375 \r\n",
       "L 31.59375 8.109375 \r\n",
       "Q 46.6875 8.109375 53.6875 14.9375 \r\n",
       "Q 60.6875 21.78125 60.6875 36.53125 \r\n",
       "Q 60.6875 51.171875 53.6875 57.984375 \r\n",
       "Q 46.6875 64.796875 31.59375 64.796875 \r\n",
       "z\r\n",
       "M 9.8125 72.90625 \r\n",
       "L 30.078125 72.90625 \r\n",
       "Q 51.265625 72.90625 61.171875 64.09375 \r\n",
       "Q 71.09375 55.28125 71.09375 36.53125 \r\n",
       "Q 71.09375 17.671875 61.125 8.828125 \r\n",
       "Q 51.171875 0 30.078125 0 \r\n",
       "L 9.8125 0 \r\n",
       "z\r\n",
       "\" id=\"DejaVuSans-68\"/>\r\n",
       "      </defs>\r\n",
       "      <g transform=\"translate(103.33875 415.448437)rotate(-90)scale(0.1 -0.1)\">\r\n",
       "       <use xlink:href=\"#DejaVuSans-68\"/>\r\n",
       "       <use x=\"77.001953\" xlink:href=\"#DejaVuSans-117\"/>\r\n",
       "       <use x=\"140.380859\" xlink:href=\"#DejaVuSans-107\"/>\r\n",
       "       <use x=\"198.244141\" xlink:href=\"#DejaVuSans-101\"/>\r\n",
       "       <use x=\"259.767578\" xlink:href=\"#DejaVuSans-32\"/>\r\n",
       "       <use x=\"291.554688\" xlink:href=\"#DejaVuSans-85\"/>\r\n",
       "       <use x=\"364.748047\" xlink:href=\"#DejaVuSans-110\"/>\r\n",
       "       <use x=\"428.126953\" xlink:href=\"#DejaVuSans-105\"/>\r\n",
       "       <use x=\"455.910156\" xlink:href=\"#DejaVuSans-118\"/>\r\n",
       "       <use x=\"515.089844\" xlink:href=\"#DejaVuSans-101\"/>\r\n",
       "       <use x=\"576.613281\" xlink:href=\"#DejaVuSans-114\"/>\r\n",
       "       <use x=\"617.726562\" xlink:href=\"#DejaVuSans-115\"/>\r\n",
       "       <use x=\"669.826172\" xlink:href=\"#DejaVuSans-105\"/>\r\n",
       "       <use x=\"697.609375\" xlink:href=\"#DejaVuSans-116\"/>\r\n",
       "       <use x=\"736.818359\" xlink:href=\"#DejaVuSans-121\"/>\r\n",
       "      </g>\r\n",
       "     </g>\r\n",
       "    </g>\r\n",
       "    <g id=\"xtick_5\">\r\n",
       "     <g id=\"line2d_5\">\r\n",
       "      <g>\r\n",
       "       <use style=\"stroke:#000000;stroke-width:0.8;\" x=\"119.805625\" xlink:href=\"#m219a306575\" y=\"328.85\"/>\r\n",
       "      </g>\r\n",
       "     </g>\r\n",
       "     <g id=\"text_5\">\r\n",
       "      <!-- University of Kansas -->\r\n",
       "      <g transform=\"translate(122.565 437.857812)rotate(-90)scale(0.1 -0.1)\">\r\n",
       "       <use xlink:href=\"#DejaVuSans-85\"/>\r\n",
       "       <use x=\"73.193359\" xlink:href=\"#DejaVuSans-110\"/>\r\n",
       "       <use x=\"136.572266\" xlink:href=\"#DejaVuSans-105\"/>\r\n",
       "       <use x=\"164.355469\" xlink:href=\"#DejaVuSans-118\"/>\r\n",
       "       <use x=\"223.535156\" xlink:href=\"#DejaVuSans-101\"/>\r\n",
       "       <use x=\"285.058594\" xlink:href=\"#DejaVuSans-114\"/>\r\n",
       "       <use x=\"326.171875\" xlink:href=\"#DejaVuSans-115\"/>\r\n",
       "       <use x=\"378.271484\" xlink:href=\"#DejaVuSans-105\"/>\r\n",
       "       <use x=\"406.054688\" xlink:href=\"#DejaVuSans-116\"/>\r\n",
       "       <use x=\"445.263672\" xlink:href=\"#DejaVuSans-121\"/>\r\n",
       "       <use x=\"504.443359\" xlink:href=\"#DejaVuSans-32\"/>\r\n",
       "       <use x=\"536.230469\" xlink:href=\"#DejaVuSans-111\"/>\r\n",
       "       <use x=\"597.412109\" xlink:href=\"#DejaVuSans-102\"/>\r\n",
       "       <use x=\"632.617188\" xlink:href=\"#DejaVuSans-32\"/>\r\n",
       "       <use x=\"664.404297\" xlink:href=\"#DejaVuSans-75\"/>\r\n",
       "       <use x=\"729.964844\" xlink:href=\"#DejaVuSans-97\"/>\r\n",
       "       <use x=\"791.244141\" xlink:href=\"#DejaVuSans-110\"/>\r\n",
       "       <use x=\"854.623047\" xlink:href=\"#DejaVuSans-115\"/>\r\n",
       "       <use x=\"906.722656\" xlink:href=\"#DejaVuSans-97\"/>\r\n",
       "       <use x=\"968.001953\" xlink:href=\"#DejaVuSans-115\"/>\r\n",
       "      </g>\r\n",
       "     </g>\r\n",
       "    </g>\r\n",
       "    <g id=\"xtick_6\">\r\n",
       "     <g id=\"line2d_6\">\r\n",
       "      <g>\r\n",
       "       <use style=\"stroke:#000000;stroke-width:0.8;\" x=\"139.031875\" xlink:href=\"#m219a306575\" y=\"328.85\"/>\r\n",
       "      </g>\r\n",
       "     </g>\r\n",
       "     <g id=\"text_6\">\r\n",
       "      <!-- University of Michigan -->\r\n",
       "      <defs>\r\n",
       "       <path d=\"M 9.8125 72.90625 \r\n",
       "L 24.515625 72.90625 \r\n",
       "L 43.109375 23.296875 \r\n",
       "L 61.8125 72.90625 \r\n",
       "L 76.515625 72.90625 \r\n",
       "L 76.515625 0 \r\n",
       "L 66.890625 0 \r\n",
       "L 66.890625 64.015625 \r\n",
       "L 48.09375 14.015625 \r\n",
       "L 38.1875 14.015625 \r\n",
       "L 19.390625 64.015625 \r\n",
       "L 19.390625 0 \r\n",
       "L 9.8125 0 \r\n",
       "z\r\n",
       "\" id=\"DejaVuSans-77\"/>\r\n",
       "      </defs>\r\n",
       "      <g transform=\"translate(141.79125 447.123437)rotate(-90)scale(0.1 -0.1)\">\r\n",
       "       <use xlink:href=\"#DejaVuSans-85\"/>\r\n",
       "       <use x=\"73.193359\" xlink:href=\"#DejaVuSans-110\"/>\r\n",
       "       <use x=\"136.572266\" xlink:href=\"#DejaVuSans-105\"/>\r\n",
       "       <use x=\"164.355469\" xlink:href=\"#DejaVuSans-118\"/>\r\n",
       "       <use x=\"223.535156\" xlink:href=\"#DejaVuSans-101\"/>\r\n",
       "       <use x=\"285.058594\" xlink:href=\"#DejaVuSans-114\"/>\r\n",
       "       <use x=\"326.171875\" xlink:href=\"#DejaVuSans-115\"/>\r\n",
       "       <use x=\"378.271484\" xlink:href=\"#DejaVuSans-105\"/>\r\n",
       "       <use x=\"406.054688\" xlink:href=\"#DejaVuSans-116\"/>\r\n",
       "       <use x=\"445.263672\" xlink:href=\"#DejaVuSans-121\"/>\r\n",
       "       <use x=\"504.443359\" xlink:href=\"#DejaVuSans-32\"/>\r\n",
       "       <use x=\"536.230469\" xlink:href=\"#DejaVuSans-111\"/>\r\n",
       "       <use x=\"597.412109\" xlink:href=\"#DejaVuSans-102\"/>\r\n",
       "       <use x=\"632.617188\" xlink:href=\"#DejaVuSans-32\"/>\r\n",
       "       <use x=\"664.404297\" xlink:href=\"#DejaVuSans-77\"/>\r\n",
       "       <use x=\"750.683594\" xlink:href=\"#DejaVuSans-105\"/>\r\n",
       "       <use x=\"778.466797\" xlink:href=\"#DejaVuSans-99\"/>\r\n",
       "       <use x=\"833.447266\" xlink:href=\"#DejaVuSans-104\"/>\r\n",
       "       <use x=\"896.826172\" xlink:href=\"#DejaVuSans-105\"/>\r\n",
       "       <use x=\"924.609375\" xlink:href=\"#DejaVuSans-103\"/>\r\n",
       "       <use x=\"988.085938\" xlink:href=\"#DejaVuSans-97\"/>\r\n",
       "       <use x=\"1049.365234\" xlink:href=\"#DejaVuSans-110\"/>\r\n",
       "      </g>\r\n",
       "     </g>\r\n",
       "    </g>\r\n",
       "    <g id=\"xtick_7\">\r\n",
       "     <g id=\"line2d_7\">\r\n",
       "      <g>\r\n",
       "       <use style=\"stroke:#000000;stroke-width:0.8;\" x=\"158.258125\" xlink:href=\"#m219a306575\" y=\"328.85\"/>\r\n",
       "      </g>\r\n",
       "     </g>\r\n",
       "     <g id=\"text_7\">\r\n",
       "      <!-- University of Arizona -->\r\n",
       "      <defs>\r\n",
       "       <path d=\"M 5.515625 54.6875 \r\n",
       "L 48.1875 54.6875 \r\n",
       "L 48.1875 46.484375 \r\n",
       "L 14.40625 7.171875 \r\n",
       "L 48.1875 7.171875 \r\n",
       "L 48.1875 0 \r\n",
       "L 4.296875 0 \r\n",
       "L 4.296875 8.203125 \r\n",
       "L 38.09375 47.515625 \r\n",
       "L 5.515625 47.515625 \r\n",
       "z\r\n",
       "\" id=\"DejaVuSans-122\"/>\r\n",
       "      </defs>\r\n",
       "      <g transform=\"translate(161.0175 439.851562)rotate(-90)scale(0.1 -0.1)\">\r\n",
       "       <use xlink:href=\"#DejaVuSans-85\"/>\r\n",
       "       <use x=\"73.193359\" xlink:href=\"#DejaVuSans-110\"/>\r\n",
       "       <use x=\"136.572266\" xlink:href=\"#DejaVuSans-105\"/>\r\n",
       "       <use x=\"164.355469\" xlink:href=\"#DejaVuSans-118\"/>\r\n",
       "       <use x=\"223.535156\" xlink:href=\"#DejaVuSans-101\"/>\r\n",
       "       <use x=\"285.058594\" xlink:href=\"#DejaVuSans-114\"/>\r\n",
       "       <use x=\"326.171875\" xlink:href=\"#DejaVuSans-115\"/>\r\n",
       "       <use x=\"378.271484\" xlink:href=\"#DejaVuSans-105\"/>\r\n",
       "       <use x=\"406.054688\" xlink:href=\"#DejaVuSans-116\"/>\r\n",
       "       <use x=\"445.263672\" xlink:href=\"#DejaVuSans-121\"/>\r\n",
       "       <use x=\"504.443359\" xlink:href=\"#DejaVuSans-32\"/>\r\n",
       "       <use x=\"536.230469\" xlink:href=\"#DejaVuSans-111\"/>\r\n",
       "       <use x=\"597.412109\" xlink:href=\"#DejaVuSans-102\"/>\r\n",
       "       <use x=\"632.617188\" xlink:href=\"#DejaVuSans-32\"/>\r\n",
       "       <use x=\"664.404297\" xlink:href=\"#DejaVuSans-65\"/>\r\n",
       "       <use x=\"732.8125\" xlink:href=\"#DejaVuSans-114\"/>\r\n",
       "       <use x=\"773.925781\" xlink:href=\"#DejaVuSans-105\"/>\r\n",
       "       <use x=\"801.708984\" xlink:href=\"#DejaVuSans-122\"/>\r\n",
       "       <use x=\"854.199219\" xlink:href=\"#DejaVuSans-111\"/>\r\n",
       "       <use x=\"915.380859\" xlink:href=\"#DejaVuSans-110\"/>\r\n",
       "       <use x=\"978.759766\" xlink:href=\"#DejaVuSans-97\"/>\r\n",
       "      </g>\r\n",
       "     </g>\r\n",
       "    </g>\r\n",
       "    <g id=\"xtick_8\">\r\n",
       "     <g id=\"line2d_8\">\r\n",
       "      <g>\r\n",
       "       <use style=\"stroke:#000000;stroke-width:0.8;\" x=\"177.484375\" xlink:href=\"#m219a306575\" y=\"328.85\"/>\r\n",
       "      </g>\r\n",
       "     </g>\r\n",
       "     <g id=\"text_8\">\r\n",
       "      <!-- Michigan State University -->\r\n",
       "      <defs>\r\n",
       "       <path d=\"M 53.515625 70.515625 \r\n",
       "L 53.515625 60.890625 \r\n",
       "Q 47.90625 63.578125 42.921875 64.890625 \r\n",
       "Q 37.9375 66.21875 33.296875 66.21875 \r\n",
       "Q 25.25 66.21875 20.875 63.09375 \r\n",
       "Q 16.5 59.96875 16.5 54.203125 \r\n",
       "Q 16.5 49.359375 19.40625 46.890625 \r\n",
       "Q 22.3125 44.4375 30.421875 42.921875 \r\n",
       "L 36.375 41.703125 \r\n",
       "Q 47.40625 39.59375 52.65625 34.296875 \r\n",
       "Q 57.90625 29 57.90625 20.125 \r\n",
       "Q 57.90625 9.515625 50.796875 4.046875 \r\n",
       "Q 43.703125 -1.421875 29.984375 -1.421875 \r\n",
       "Q 24.8125 -1.421875 18.96875 -0.25 \r\n",
       "Q 13.140625 0.921875 6.890625 3.21875 \r\n",
       "L 6.890625 13.375 \r\n",
       "Q 12.890625 10.015625 18.65625 8.296875 \r\n",
       "Q 24.421875 6.59375 29.984375 6.59375 \r\n",
       "Q 38.421875 6.59375 43.015625 9.90625 \r\n",
       "Q 47.609375 13.234375 47.609375 19.390625 \r\n",
       "Q 47.609375 24.75 44.3125 27.78125 \r\n",
       "Q 41.015625 30.8125 33.5 32.328125 \r\n",
       "L 27.484375 33.5 \r\n",
       "Q 16.453125 35.6875 11.515625 40.375 \r\n",
       "Q 6.59375 45.0625 6.59375 53.421875 \r\n",
       "Q 6.59375 63.09375 13.40625 68.65625 \r\n",
       "Q 20.21875 74.21875 32.171875 74.21875 \r\n",
       "Q 37.3125 74.21875 42.625 73.28125 \r\n",
       "Q 47.953125 72.359375 53.515625 70.515625 \r\n",
       "z\r\n",
       "\" id=\"DejaVuSans-83\"/>\r\n",
       "      </defs>\r\n",
       "      <g transform=\"translate(180.24375 463.954687)rotate(-90)scale(0.1 -0.1)\">\r\n",
       "       <use xlink:href=\"#DejaVuSans-77\"/>\r\n",
       "       <use x=\"86.279297\" xlink:href=\"#DejaVuSans-105\"/>\r\n",
       "       <use x=\"114.0625\" xlink:href=\"#DejaVuSans-99\"/>\r\n",
       "       <use x=\"169.042969\" xlink:href=\"#DejaVuSans-104\"/>\r\n",
       "       <use x=\"232.421875\" xlink:href=\"#DejaVuSans-105\"/>\r\n",
       "       <use x=\"260.205078\" xlink:href=\"#DejaVuSans-103\"/>\r\n",
       "       <use x=\"323.681641\" xlink:href=\"#DejaVuSans-97\"/>\r\n",
       "       <use x=\"384.960938\" xlink:href=\"#DejaVuSans-110\"/>\r\n",
       "       <use x=\"448.339844\" xlink:href=\"#DejaVuSans-32\"/>\r\n",
       "       <use x=\"480.126953\" xlink:href=\"#DejaVuSans-83\"/>\r\n",
       "       <use x=\"543.603516\" xlink:href=\"#DejaVuSans-116\"/>\r\n",
       "       <use x=\"582.8125\" xlink:href=\"#DejaVuSans-97\"/>\r\n",
       "       <use x=\"644.091797\" xlink:href=\"#DejaVuSans-116\"/>\r\n",
       "       <use x=\"683.300781\" xlink:href=\"#DejaVuSans-101\"/>\r\n",
       "       <use x=\"744.824219\" xlink:href=\"#DejaVuSans-32\"/>\r\n",
       "       <use x=\"776.611328\" xlink:href=\"#DejaVuSans-85\"/>\r\n",
       "       <use x=\"849.804688\" xlink:href=\"#DejaVuSans-110\"/>\r\n",
       "       <use x=\"913.183594\" xlink:href=\"#DejaVuSans-105\"/>\r\n",
       "       <use x=\"940.966797\" xlink:href=\"#DejaVuSans-118\"/>\r\n",
       "       <use x=\"1000.146484\" xlink:href=\"#DejaVuSans-101\"/>\r\n",
       "       <use x=\"1061.669922\" xlink:href=\"#DejaVuSans-114\"/>\r\n",
       "       <use x=\"1102.783203\" xlink:href=\"#DejaVuSans-115\"/>\r\n",
       "       <use x=\"1154.882812\" xlink:href=\"#DejaVuSans-105\"/>\r\n",
       "       <use x=\"1182.666016\" xlink:href=\"#DejaVuSans-116\"/>\r\n",
       "       <use x=\"1221.875\" xlink:href=\"#DejaVuSans-121\"/>\r\n",
       "      </g>\r\n",
       "     </g>\r\n",
       "    </g>\r\n",
       "    <g id=\"xtick_9\">\r\n",
       "     <g id=\"line2d_9\">\r\n",
       "      <g>\r\n",
       "       <use style=\"stroke:#000000;stroke-width:0.8;\" x=\"196.710625\" xlink:href=\"#m219a306575\" y=\"328.85\"/>\r\n",
       "      </g>\r\n",
       "     </g>\r\n",
       "     <g id=\"text_9\">\r\n",
       "      <!-- St. John's University -->\r\n",
       "      <defs>\r\n",
       "       <path d=\"M 10.6875 12.40625 \r\n",
       "L 21 12.40625 \r\n",
       "L 21 0 \r\n",
       "L 10.6875 0 \r\n",
       "z\r\n",
       "\" id=\"DejaVuSans-46\"/>\r\n",
       "       <path d=\"M 9.8125 72.90625 \r\n",
       "L 19.671875 72.90625 \r\n",
       "L 19.671875 5.078125 \r\n",
       "Q 19.671875 -8.109375 14.671875 -14.0625 \r\n",
       "Q 9.671875 -20.015625 -1.421875 -20.015625 \r\n",
       "L -5.171875 -20.015625 \r\n",
       "L -5.171875 -11.71875 \r\n",
       "L -2.09375 -11.71875 \r\n",
       "Q 4.4375 -11.71875 7.125 -8.046875 \r\n",
       "Q 9.8125 -4.390625 9.8125 5.078125 \r\n",
       "z\r\n",
       "\" id=\"DejaVuSans-74\"/>\r\n",
       "       <path d=\"M 17.921875 72.90625 \r\n",
       "L 17.921875 45.796875 \r\n",
       "L 9.625 45.796875 \r\n",
       "L 9.625 72.90625 \r\n",
       "z\r\n",
       "\" id=\"DejaVuSans-39\"/>\r\n",
       "      </defs>\r\n",
       "      <g transform=\"translate(199.47 435.798437)rotate(-90)scale(0.1 -0.1)\">\r\n",
       "       <use xlink:href=\"#DejaVuSans-83\"/>\r\n",
       "       <use x=\"63.476562\" xlink:href=\"#DejaVuSans-116\"/>\r\n",
       "       <use x=\"102.685547\" xlink:href=\"#DejaVuSans-46\"/>\r\n",
       "       <use x=\"134.472656\" xlink:href=\"#DejaVuSans-32\"/>\r\n",
       "       <use x=\"166.259766\" xlink:href=\"#DejaVuSans-74\"/>\r\n",
       "       <use x=\"195.751953\" xlink:href=\"#DejaVuSans-111\"/>\r\n",
       "       <use x=\"256.933594\" xlink:href=\"#DejaVuSans-104\"/>\r\n",
       "       <use x=\"320.3125\" xlink:href=\"#DejaVuSans-110\"/>\r\n",
       "       <use x=\"383.691406\" xlink:href=\"#DejaVuSans-39\"/>\r\n",
       "       <use x=\"411.181641\" xlink:href=\"#DejaVuSans-115\"/>\r\n",
       "       <use x=\"463.28125\" xlink:href=\"#DejaVuSans-32\"/>\r\n",
       "       <use x=\"495.068359\" xlink:href=\"#DejaVuSans-85\"/>\r\n",
       "       <use x=\"568.261719\" xlink:href=\"#DejaVuSans-110\"/>\r\n",
       "       <use x=\"631.640625\" xlink:href=\"#DejaVuSans-105\"/>\r\n",
       "       <use x=\"659.423828\" xlink:href=\"#DejaVuSans-118\"/>\r\n",
       "       <use x=\"718.603516\" xlink:href=\"#DejaVuSans-101\"/>\r\n",
       "       <use x=\"780.126953\" xlink:href=\"#DejaVuSans-114\"/>\r\n",
       "       <use x=\"821.240234\" xlink:href=\"#DejaVuSans-115\"/>\r\n",
       "       <use x=\"873.339844\" xlink:href=\"#DejaVuSans-105\"/>\r\n",
       "       <use x=\"901.123047\" xlink:href=\"#DejaVuSans-116\"/>\r\n",
       "       <use x=\"940.332031\" xlink:href=\"#DejaVuSans-121\"/>\r\n",
       "      </g>\r\n",
       "     </g>\r\n",
       "    </g>\r\n",
       "    <g id=\"xtick_10\">\r\n",
       "     <g id=\"line2d_10\">\r\n",
       "      <g>\r\n",
       "       <use style=\"stroke:#000000;stroke-width:0.8;\" x=\"215.936875\" xlink:href=\"#m219a306575\" y=\"328.85\"/>\r\n",
       "      </g>\r\n",
       "     </g>\r\n",
       "     <g id=\"text_10\">\r\n",
       "      <!-- Indiana University -->\r\n",
       "      <defs>\r\n",
       "       <path d=\"M 9.8125 72.90625 \r\n",
       "L 19.671875 72.90625 \r\n",
       "L 19.671875 0 \r\n",
       "L 9.8125 0 \r\n",
       "z\r\n",
       "\" id=\"DejaVuSans-73\"/>\r\n",
       "       <path d=\"M 45.40625 46.390625 \r\n",
       "L 45.40625 75.984375 \r\n",
       "L 54.390625 75.984375 \r\n",
       "L 54.390625 0 \r\n",
       "L 45.40625 0 \r\n",
       "L 45.40625 8.203125 \r\n",
       "Q 42.578125 3.328125 38.25 0.953125 \r\n",
       "Q 33.9375 -1.421875 27.875 -1.421875 \r\n",
       "Q 17.96875 -1.421875 11.734375 6.484375 \r\n",
       "Q 5.515625 14.40625 5.515625 27.296875 \r\n",
       "Q 5.515625 40.1875 11.734375 48.09375 \r\n",
       "Q 17.96875 56 27.875 56 \r\n",
       "Q 33.9375 56 38.25 53.625 \r\n",
       "Q 42.578125 51.265625 45.40625 46.390625 \r\n",
       "z\r\n",
       "M 14.796875 27.296875 \r\n",
       "Q 14.796875 17.390625 18.875 11.75 \r\n",
       "Q 22.953125 6.109375 30.078125 6.109375 \r\n",
       "Q 37.203125 6.109375 41.296875 11.75 \r\n",
       "Q 45.40625 17.390625 45.40625 27.296875 \r\n",
       "Q 45.40625 37.203125 41.296875 42.84375 \r\n",
       "Q 37.203125 48.484375 30.078125 48.484375 \r\n",
       "Q 22.953125 48.484375 18.875 42.84375 \r\n",
       "Q 14.796875 37.203125 14.796875 27.296875 \r\n",
       "z\r\n",
       "\" id=\"DejaVuSans-100\"/>\r\n",
       "      </defs>\r\n",
       "      <g transform=\"translate(218.69625 426.479687)rotate(-90)scale(0.1 -0.1)\">\r\n",
       "       <use xlink:href=\"#DejaVuSans-73\"/>\r\n",
       "       <use x=\"29.492188\" xlink:href=\"#DejaVuSans-110\"/>\r\n",
       "       <use x=\"92.871094\" xlink:href=\"#DejaVuSans-100\"/>\r\n",
       "       <use x=\"156.347656\" xlink:href=\"#DejaVuSans-105\"/>\r\n",
       "       <use x=\"184.130859\" xlink:href=\"#DejaVuSans-97\"/>\r\n",
       "       <use x=\"245.410156\" xlink:href=\"#DejaVuSans-110\"/>\r\n",
       "       <use x=\"308.789062\" xlink:href=\"#DejaVuSans-97\"/>\r\n",
       "       <use x=\"370.068359\" xlink:href=\"#DejaVuSans-32\"/>\r\n",
       "       <use x=\"401.855469\" xlink:href=\"#DejaVuSans-85\"/>\r\n",
       "       <use x=\"475.048828\" xlink:href=\"#DejaVuSans-110\"/>\r\n",
       "       <use x=\"538.427734\" xlink:href=\"#DejaVuSans-105\"/>\r\n",
       "       <use x=\"566.210938\" xlink:href=\"#DejaVuSans-118\"/>\r\n",
       "       <use x=\"625.390625\" xlink:href=\"#DejaVuSans-101\"/>\r\n",
       "       <use x=\"686.914062\" xlink:href=\"#DejaVuSans-114\"/>\r\n",
       "       <use x=\"728.027344\" xlink:href=\"#DejaVuSans-115\"/>\r\n",
       "       <use x=\"780.126953\" xlink:href=\"#DejaVuSans-105\"/>\r\n",
       "       <use x=\"807.910156\" xlink:href=\"#DejaVuSans-116\"/>\r\n",
       "       <use x=\"847.119141\" xlink:href=\"#DejaVuSans-121\"/>\r\n",
       "      </g>\r\n",
       "     </g>\r\n",
       "    </g>\r\n",
       "    <g id=\"xtick_11\">\r\n",
       "     <g id=\"line2d_11\">\r\n",
       "      <g>\r\n",
       "       <use style=\"stroke:#000000;stroke-width:0.8;\" x=\"235.163125\" xlink:href=\"#m219a306575\" y=\"328.85\"/>\r\n",
       "      </g>\r\n",
       "     </g>\r\n",
       "     <g id=\"text_11\">\r\n",
       "      <!-- Georgia Institute of Technology -->\r\n",
       "      <defs>\r\n",
       "       <path d=\"M 59.515625 10.40625 \r\n",
       "L 59.515625 29.984375 \r\n",
       "L 43.40625 29.984375 \r\n",
       "L 43.40625 38.09375 \r\n",
       "L 69.28125 38.09375 \r\n",
       "L 69.28125 6.78125 \r\n",
       "Q 63.578125 2.734375 56.6875 0.65625 \r\n",
       "Q 49.8125 -1.421875 42 -1.421875 \r\n",
       "Q 24.90625 -1.421875 15.25 8.5625 \r\n",
       "Q 5.609375 18.5625 5.609375 36.375 \r\n",
       "Q 5.609375 54.25 15.25 64.234375 \r\n",
       "Q 24.90625 74.21875 42 74.21875 \r\n",
       "Q 49.125 74.21875 55.546875 72.453125 \r\n",
       "Q 61.96875 70.703125 67.390625 67.28125 \r\n",
       "L 67.390625 56.78125 \r\n",
       "Q 61.921875 61.421875 55.765625 63.765625 \r\n",
       "Q 49.609375 66.109375 42.828125 66.109375 \r\n",
       "Q 29.4375 66.109375 22.71875 58.640625 \r\n",
       "Q 16.015625 51.171875 16.015625 36.375 \r\n",
       "Q 16.015625 21.625 22.71875 14.15625 \r\n",
       "Q 29.4375 6.6875 42.828125 6.6875 \r\n",
       "Q 48.046875 6.6875 52.140625 7.59375 \r\n",
       "Q 56.25 8.5 59.515625 10.40625 \r\n",
       "z\r\n",
       "\" id=\"DejaVuSans-71\"/>\r\n",
       "       <path d=\"M -0.296875 72.90625 \r\n",
       "L 61.375 72.90625 \r\n",
       "L 61.375 64.59375 \r\n",
       "L 35.5 64.59375 \r\n",
       "L 35.5 0 \r\n",
       "L 25.59375 0 \r\n",
       "L 25.59375 64.59375 \r\n",
       "L -0.296875 64.59375 \r\n",
       "z\r\n",
       "\" id=\"DejaVuSans-84\"/>\r\n",
       "      </defs>\r\n",
       "      <g transform=\"translate(237.9225 493.625)rotate(-90)scale(0.1 -0.1)\">\r\n",
       "       <use xlink:href=\"#DejaVuSans-71\"/>\r\n",
       "       <use x=\"77.490234\" xlink:href=\"#DejaVuSans-101\"/>\r\n",
       "       <use x=\"139.013672\" xlink:href=\"#DejaVuSans-111\"/>\r\n",
       "       <use x=\"200.195312\" xlink:href=\"#DejaVuSans-114\"/>\r\n",
       "       <use x=\"241.292969\" xlink:href=\"#DejaVuSans-103\"/>\r\n",
       "       <use x=\"304.769531\" xlink:href=\"#DejaVuSans-105\"/>\r\n",
       "       <use x=\"332.552734\" xlink:href=\"#DejaVuSans-97\"/>\r\n",
       "       <use x=\"393.832031\" xlink:href=\"#DejaVuSans-32\"/>\r\n",
       "       <use x=\"425.619141\" xlink:href=\"#DejaVuSans-73\"/>\r\n",
       "       <use x=\"455.111328\" xlink:href=\"#DejaVuSans-110\"/>\r\n",
       "       <use x=\"518.490234\" xlink:href=\"#DejaVuSans-115\"/>\r\n",
       "       <use x=\"570.589844\" xlink:href=\"#DejaVuSans-116\"/>\r\n",
       "       <use x=\"609.798828\" xlink:href=\"#DejaVuSans-105\"/>\r\n",
       "       <use x=\"637.582031\" xlink:href=\"#DejaVuSans-116\"/>\r\n",
       "       <use x=\"676.791016\" xlink:href=\"#DejaVuSans-117\"/>\r\n",
       "       <use x=\"740.169922\" xlink:href=\"#DejaVuSans-116\"/>\r\n",
       "       <use x=\"779.378906\" xlink:href=\"#DejaVuSans-101\"/>\r\n",
       "       <use x=\"840.902344\" xlink:href=\"#DejaVuSans-32\"/>\r\n",
       "       <use x=\"872.689453\" xlink:href=\"#DejaVuSans-111\"/>\r\n",
       "       <use x=\"933.871094\" xlink:href=\"#DejaVuSans-102\"/>\r\n",
       "       <use x=\"969.076172\" xlink:href=\"#DejaVuSans-32\"/>\r\n",
       "       <use x=\"1000.863281\" xlink:href=\"#DejaVuSans-84\"/>\r\n",
       "       <use x=\"1061.681641\" xlink:href=\"#DejaVuSans-101\"/>\r\n",
       "       <use x=\"1123.205078\" xlink:href=\"#DejaVuSans-99\"/>\r\n",
       "       <use x=\"1178.185547\" xlink:href=\"#DejaVuSans-104\"/>\r\n",
       "       <use x=\"1241.564453\" xlink:href=\"#DejaVuSans-110\"/>\r\n",
       "       <use x=\"1304.943359\" xlink:href=\"#DejaVuSans-111\"/>\r\n",
       "       <use x=\"1366.125\" xlink:href=\"#DejaVuSans-108\"/>\r\n",
       "       <use x=\"1393.908203\" xlink:href=\"#DejaVuSans-111\"/>\r\n",
       "       <use x=\"1455.089844\" xlink:href=\"#DejaVuSans-103\"/>\r\n",
       "       <use x=\"1518.566406\" xlink:href=\"#DejaVuSans-121\"/>\r\n",
       "      </g>\r\n",
       "     </g>\r\n",
       "    </g>\r\n",
       "    <g id=\"xtick_12\">\r\n",
       "     <g id=\"line2d_12\">\r\n",
       "      <g>\r\n",
       "       <use style=\"stroke:#000000;stroke-width:0.8;\" x=\"254.389375\" xlink:href=\"#m219a306575\" y=\"328.85\"/>\r\n",
       "      </g>\r\n",
       "     </g>\r\n",
       "     <g id=\"text_12\">\r\n",
       "      <!-- University of Maryland -->\r\n",
       "      <g transform=\"translate(257.14875 448.667187)rotate(-90)scale(0.1 -0.1)\">\r\n",
       "       <use xlink:href=\"#DejaVuSans-85\"/>\r\n",
       "       <use x=\"73.193359\" xlink:href=\"#DejaVuSans-110\"/>\r\n",
       "       <use x=\"136.572266\" xlink:href=\"#DejaVuSans-105\"/>\r\n",
       "       <use x=\"164.355469\" xlink:href=\"#DejaVuSans-118\"/>\r\n",
       "       <use x=\"223.535156\" xlink:href=\"#DejaVuSans-101\"/>\r\n",
       "       <use x=\"285.058594\" xlink:href=\"#DejaVuSans-114\"/>\r\n",
       "       <use x=\"326.171875\" xlink:href=\"#DejaVuSans-115\"/>\r\n",
       "       <use x=\"378.271484\" xlink:href=\"#DejaVuSans-105\"/>\r\n",
       "       <use x=\"406.054688\" xlink:href=\"#DejaVuSans-116\"/>\r\n",
       "       <use x=\"445.263672\" xlink:href=\"#DejaVuSans-121\"/>\r\n",
       "       <use x=\"504.443359\" xlink:href=\"#DejaVuSans-32\"/>\r\n",
       "       <use x=\"536.230469\" xlink:href=\"#DejaVuSans-111\"/>\r\n",
       "       <use x=\"597.412109\" xlink:href=\"#DejaVuSans-102\"/>\r\n",
       "       <use x=\"632.617188\" xlink:href=\"#DejaVuSans-32\"/>\r\n",
       "       <use x=\"664.404297\" xlink:href=\"#DejaVuSans-77\"/>\r\n",
       "       <use x=\"750.683594\" xlink:href=\"#DejaVuSans-97\"/>\r\n",
       "       <use x=\"811.962891\" xlink:href=\"#DejaVuSans-114\"/>\r\n",
       "       <use x=\"853.076172\" xlink:href=\"#DejaVuSans-121\"/>\r\n",
       "       <use x=\"912.255859\" xlink:href=\"#DejaVuSans-108\"/>\r\n",
       "       <use x=\"940.039062\" xlink:href=\"#DejaVuSans-97\"/>\r\n",
       "       <use x=\"1001.318359\" xlink:href=\"#DejaVuSans-110\"/>\r\n",
       "       <use x=\"1064.697266\" xlink:href=\"#DejaVuSans-100\"/>\r\n",
       "      </g>\r\n",
       "     </g>\r\n",
       "    </g>\r\n",
       "    <g id=\"xtick_13\">\r\n",
       "     <g id=\"line2d_13\">\r\n",
       "      <g>\r\n",
       "       <use style=\"stroke:#000000;stroke-width:0.8;\" x=\"273.615625\" xlink:href=\"#m219a306575\" y=\"328.85\"/>\r\n",
       "      </g>\r\n",
       "     </g>\r\n",
       "     <g id=\"text_13\">\r\n",
       "      <!-- Georgetown University -->\r\n",
       "      <defs>\r\n",
       "       <path d=\"M 4.203125 54.6875 \r\n",
       "L 13.1875 54.6875 \r\n",
       "L 24.421875 12.015625 \r\n",
       "L 35.59375 54.6875 \r\n",
       "L 46.1875 54.6875 \r\n",
       "L 57.421875 12.015625 \r\n",
       "L 68.609375 54.6875 \r\n",
       "L 77.59375 54.6875 \r\n",
       "L 63.28125 0 \r\n",
       "L 52.6875 0 \r\n",
       "L 40.921875 44.828125 \r\n",
       "L 29.109375 0 \r\n",
       "L 18.5 0 \r\n",
       "z\r\n",
       "\" id=\"DejaVuSans-119\"/>\r\n",
       "      </defs>\r\n",
       "      <g transform=\"translate(276.375 450.657812)rotate(-90)scale(0.1 -0.1)\">\r\n",
       "       <use xlink:href=\"#DejaVuSans-71\"/>\r\n",
       "       <use x=\"77.490234\" xlink:href=\"#DejaVuSans-101\"/>\r\n",
       "       <use x=\"139.013672\" xlink:href=\"#DejaVuSans-111\"/>\r\n",
       "       <use x=\"200.195312\" xlink:href=\"#DejaVuSans-114\"/>\r\n",
       "       <use x=\"241.292969\" xlink:href=\"#DejaVuSans-103\"/>\r\n",
       "       <use x=\"304.769531\" xlink:href=\"#DejaVuSans-101\"/>\r\n",
       "       <use x=\"366.292969\" xlink:href=\"#DejaVuSans-116\"/>\r\n",
       "       <use x=\"405.501953\" xlink:href=\"#DejaVuSans-111\"/>\r\n",
       "       <use x=\"466.683594\" xlink:href=\"#DejaVuSans-119\"/>\r\n",
       "       <use x=\"548.470703\" xlink:href=\"#DejaVuSans-110\"/>\r\n",
       "       <use x=\"611.849609\" xlink:href=\"#DejaVuSans-32\"/>\r\n",
       "       <use x=\"643.636719\" xlink:href=\"#DejaVuSans-85\"/>\r\n",
       "       <use x=\"716.830078\" xlink:href=\"#DejaVuSans-110\"/>\r\n",
       "       <use x=\"780.208984\" xlink:href=\"#DejaVuSans-105\"/>\r\n",
       "       <use x=\"807.992188\" xlink:href=\"#DejaVuSans-118\"/>\r\n",
       "       <use x=\"867.171875\" xlink:href=\"#DejaVuSans-101\"/>\r\n",
       "       <use x=\"928.695312\" xlink:href=\"#DejaVuSans-114\"/>\r\n",
       "       <use x=\"969.808594\" xlink:href=\"#DejaVuSans-115\"/>\r\n",
       "       <use x=\"1021.908203\" xlink:href=\"#DejaVuSans-105\"/>\r\n",
       "       <use x=\"1049.691406\" xlink:href=\"#DejaVuSans-116\"/>\r\n",
       "       <use x=\"1088.900391\" xlink:href=\"#DejaVuSans-121\"/>\r\n",
       "      </g>\r\n",
       "     </g>\r\n",
       "    </g>\r\n",
       "    <g id=\"xtick_14\">\r\n",
       "     <g id=\"line2d_14\">\r\n",
       "      <g>\r\n",
       "       <use style=\"stroke:#000000;stroke-width:0.8;\" x=\"292.841875\" xlink:href=\"#m219a306575\" y=\"328.85\"/>\r\n",
       "      </g>\r\n",
       "     </g>\r\n",
       "     <g id=\"text_14\">\r\n",
       "      <!-- University of Notre Dame -->\r\n",
       "      <defs>\r\n",
       "       <path d=\"M 52 44.1875 \r\n",
       "Q 55.375 50.25 60.0625 53.125 \r\n",
       "Q 64.75 56 71.09375 56 \r\n",
       "Q 79.640625 56 84.28125 50.015625 \r\n",
       "Q 88.921875 44.046875 88.921875 33.015625 \r\n",
       "L 88.921875 0 \r\n",
       "L 79.890625 0 \r\n",
       "L 79.890625 32.71875 \r\n",
       "Q 79.890625 40.578125 77.09375 44.375 \r\n",
       "Q 74.3125 48.1875 68.609375 48.1875 \r\n",
       "Q 61.625 48.1875 57.5625 43.546875 \r\n",
       "Q 53.515625 38.921875 53.515625 30.90625 \r\n",
       "L 53.515625 0 \r\n",
       "L 44.484375 0 \r\n",
       "L 44.484375 32.71875 \r\n",
       "Q 44.484375 40.625 41.703125 44.40625 \r\n",
       "Q 38.921875 48.1875 33.109375 48.1875 \r\n",
       "Q 26.21875 48.1875 22.15625 43.53125 \r\n",
       "Q 18.109375 38.875 18.109375 30.90625 \r\n",
       "L 18.109375 0 \r\n",
       "L 9.078125 0 \r\n",
       "L 9.078125 54.6875 \r\n",
       "L 18.109375 54.6875 \r\n",
       "L 18.109375 46.1875 \r\n",
       "Q 21.1875 51.21875 25.484375 53.609375 \r\n",
       "Q 29.78125 56 35.6875 56 \r\n",
       "Q 41.65625 56 45.828125 52.96875 \r\n",
       "Q 50 49.953125 52 44.1875 \r\n",
       "z\r\n",
       "\" id=\"DejaVuSans-109\"/>\r\n",
       "      </defs>\r\n",
       "      <g transform=\"translate(295.60125 462.970312)rotate(-90)scale(0.1 -0.1)\">\r\n",
       "       <use xlink:href=\"#DejaVuSans-85\"/>\r\n",
       "       <use x=\"73.193359\" xlink:href=\"#DejaVuSans-110\"/>\r\n",
       "       <use x=\"136.572266\" xlink:href=\"#DejaVuSans-105\"/>\r\n",
       "       <use x=\"164.355469\" xlink:href=\"#DejaVuSans-118\"/>\r\n",
       "       <use x=\"223.535156\" xlink:href=\"#DejaVuSans-101\"/>\r\n",
       "       <use x=\"285.058594\" xlink:href=\"#DejaVuSans-114\"/>\r\n",
       "       <use x=\"326.171875\" xlink:href=\"#DejaVuSans-115\"/>\r\n",
       "       <use x=\"378.271484\" xlink:href=\"#DejaVuSans-105\"/>\r\n",
       "       <use x=\"406.054688\" xlink:href=\"#DejaVuSans-116\"/>\r\n",
       "       <use x=\"445.263672\" xlink:href=\"#DejaVuSans-121\"/>\r\n",
       "       <use x=\"504.443359\" xlink:href=\"#DejaVuSans-32\"/>\r\n",
       "       <use x=\"536.230469\" xlink:href=\"#DejaVuSans-111\"/>\r\n",
       "       <use x=\"597.412109\" xlink:href=\"#DejaVuSans-102\"/>\r\n",
       "       <use x=\"632.617188\" xlink:href=\"#DejaVuSans-32\"/>\r\n",
       "       <use x=\"664.404297\" xlink:href=\"#DejaVuSans-78\"/>\r\n",
       "       <use x=\"739.208984\" xlink:href=\"#DejaVuSans-111\"/>\r\n",
       "       <use x=\"800.390625\" xlink:href=\"#DejaVuSans-116\"/>\r\n",
       "       <use x=\"839.599609\" xlink:href=\"#DejaVuSans-114\"/>\r\n",
       "       <use x=\"880.681641\" xlink:href=\"#DejaVuSans-101\"/>\r\n",
       "       <use x=\"942.205078\" xlink:href=\"#DejaVuSans-32\"/>\r\n",
       "       <use x=\"973.992188\" xlink:href=\"#DejaVuSans-68\"/>\r\n",
       "       <use x=\"1050.994141\" xlink:href=\"#DejaVuSans-97\"/>\r\n",
       "       <use x=\"1112.273438\" xlink:href=\"#DejaVuSans-109\"/>\r\n",
       "       <use x=\"1209.685547\" xlink:href=\"#DejaVuSans-101\"/>\r\n",
       "      </g>\r\n",
       "     </g>\r\n",
       "    </g>\r\n",
       "    <g id=\"xtick_15\">\r\n",
       "     <g id=\"line2d_15\">\r\n",
       "      <g>\r\n",
       "       <use style=\"stroke:#000000;stroke-width:0.8;\" x=\"312.068125\" xlink:href=\"#m219a306575\" y=\"328.85\"/>\r\n",
       "      </g>\r\n",
       "     </g>\r\n",
       "     <g id=\"text_15\">\r\n",
       "      <!-- University of Louisville -->\r\n",
       "      <g transform=\"translate(314.8275 448.709375)rotate(-90)scale(0.1 -0.1)\">\r\n",
       "       <use xlink:href=\"#DejaVuSans-85\"/>\r\n",
       "       <use x=\"73.193359\" xlink:href=\"#DejaVuSans-110\"/>\r\n",
       "       <use x=\"136.572266\" xlink:href=\"#DejaVuSans-105\"/>\r\n",
       "       <use x=\"164.355469\" xlink:href=\"#DejaVuSans-118\"/>\r\n",
       "       <use x=\"223.535156\" xlink:href=\"#DejaVuSans-101\"/>\r\n",
       "       <use x=\"285.058594\" xlink:href=\"#DejaVuSans-114\"/>\r\n",
       "       <use x=\"326.171875\" xlink:href=\"#DejaVuSans-115\"/>\r\n",
       "       <use x=\"378.271484\" xlink:href=\"#DejaVuSans-105\"/>\r\n",
       "       <use x=\"406.054688\" xlink:href=\"#DejaVuSans-116\"/>\r\n",
       "       <use x=\"445.263672\" xlink:href=\"#DejaVuSans-121\"/>\r\n",
       "       <use x=\"504.443359\" xlink:href=\"#DejaVuSans-32\"/>\r\n",
       "       <use x=\"536.230469\" xlink:href=\"#DejaVuSans-111\"/>\r\n",
       "       <use x=\"597.412109\" xlink:href=\"#DejaVuSans-102\"/>\r\n",
       "       <use x=\"632.617188\" xlink:href=\"#DejaVuSans-32\"/>\r\n",
       "       <use x=\"664.404297\" xlink:href=\"#DejaVuSans-76\"/>\r\n",
       "       <use x=\"720.101562\" xlink:href=\"#DejaVuSans-111\"/>\r\n",
       "       <use x=\"781.283203\" xlink:href=\"#DejaVuSans-117\"/>\r\n",
       "       <use x=\"844.662109\" xlink:href=\"#DejaVuSans-105\"/>\r\n",
       "       <use x=\"872.445312\" xlink:href=\"#DejaVuSans-115\"/>\r\n",
       "       <use x=\"924.544922\" xlink:href=\"#DejaVuSans-118\"/>\r\n",
       "       <use x=\"983.724609\" xlink:href=\"#DejaVuSans-105\"/>\r\n",
       "       <use x=\"1011.507812\" xlink:href=\"#DejaVuSans-108\"/>\r\n",
       "       <use x=\"1039.291016\" xlink:href=\"#DejaVuSans-108\"/>\r\n",
       "       <use x=\"1067.074219\" xlink:href=\"#DejaVuSans-101\"/>\r\n",
       "      </g>\r\n",
       "     </g>\r\n",
       "    </g>\r\n",
       "    <g id=\"xtick_16\">\r\n",
       "     <g id=\"line2d_16\">\r\n",
       "      <g>\r\n",
       "       <use style=\"stroke:#000000;stroke-width:0.8;\" x=\"331.294375\" xlink:href=\"#m219a306575\" y=\"328.85\"/>\r\n",
       "      </g>\r\n",
       "     </g>\r\n",
       "     <g id=\"text_16\">\r\n",
       "      <!-- Syracuse University -->\r\n",
       "      <g transform=\"translate(334.05375 435.176562)rotate(-90)scale(0.1 -0.1)\">\r\n",
       "       <use xlink:href=\"#DejaVuSans-83\"/>\r\n",
       "       <use x=\"63.476562\" xlink:href=\"#DejaVuSans-121\"/>\r\n",
       "       <use x=\"122.65625\" xlink:href=\"#DejaVuSans-114\"/>\r\n",
       "       <use x=\"163.769531\" xlink:href=\"#DejaVuSans-97\"/>\r\n",
       "       <use x=\"225.048828\" xlink:href=\"#DejaVuSans-99\"/>\r\n",
       "       <use x=\"280.029297\" xlink:href=\"#DejaVuSans-117\"/>\r\n",
       "       <use x=\"343.408203\" xlink:href=\"#DejaVuSans-115\"/>\r\n",
       "       <use x=\"395.507812\" xlink:href=\"#DejaVuSans-101\"/>\r\n",
       "       <use x=\"457.03125\" xlink:href=\"#DejaVuSans-32\"/>\r\n",
       "       <use x=\"488.818359\" xlink:href=\"#DejaVuSans-85\"/>\r\n",
       "       <use x=\"562.011719\" xlink:href=\"#DejaVuSans-110\"/>\r\n",
       "       <use x=\"625.390625\" xlink:href=\"#DejaVuSans-105\"/>\r\n",
       "       <use x=\"653.173828\" xlink:href=\"#DejaVuSans-118\"/>\r\n",
       "       <use x=\"712.353516\" xlink:href=\"#DejaVuSans-101\"/>\r\n",
       "       <use x=\"773.876953\" xlink:href=\"#DejaVuSans-114\"/>\r\n",
       "       <use x=\"814.990234\" xlink:href=\"#DejaVuSans-115\"/>\r\n",
       "       <use x=\"867.089844\" xlink:href=\"#DejaVuSans-105\"/>\r\n",
       "       <use x=\"894.873047\" xlink:href=\"#DejaVuSans-116\"/>\r\n",
       "       <use x=\"934.082031\" xlink:href=\"#DejaVuSans-121\"/>\r\n",
       "      </g>\r\n",
       "     </g>\r\n",
       "    </g>\r\n",
       "    <g id=\"xtick_17\">\r\n",
       "     <g id=\"line2d_17\">\r\n",
       "      <g>\r\n",
       "       <use style=\"stroke:#000000;stroke-width:0.8;\" x=\"350.520625\" xlink:href=\"#m219a306575\" y=\"328.85\"/>\r\n",
       "      </g>\r\n",
       "     </g>\r\n",
       "     <g id=\"text_17\">\r\n",
       "      <!-- University of Connecticut -->\r\n",
       "      <g transform=\"translate(353.28 462.171875)rotate(-90)scale(0.1 -0.1)\">\r\n",
       "       <use xlink:href=\"#DejaVuSans-85\"/>\r\n",
       "       <use x=\"73.193359\" xlink:href=\"#DejaVuSans-110\"/>\r\n",
       "       <use x=\"136.572266\" xlink:href=\"#DejaVuSans-105\"/>\r\n",
       "       <use x=\"164.355469\" xlink:href=\"#DejaVuSans-118\"/>\r\n",
       "       <use x=\"223.535156\" xlink:href=\"#DejaVuSans-101\"/>\r\n",
       "       <use x=\"285.058594\" xlink:href=\"#DejaVuSans-114\"/>\r\n",
       "       <use x=\"326.171875\" xlink:href=\"#DejaVuSans-115\"/>\r\n",
       "       <use x=\"378.271484\" xlink:href=\"#DejaVuSans-105\"/>\r\n",
       "       <use x=\"406.054688\" xlink:href=\"#DejaVuSans-116\"/>\r\n",
       "       <use x=\"445.263672\" xlink:href=\"#DejaVuSans-121\"/>\r\n",
       "       <use x=\"504.443359\" xlink:href=\"#DejaVuSans-32\"/>\r\n",
       "       <use x=\"536.230469\" xlink:href=\"#DejaVuSans-111\"/>\r\n",
       "       <use x=\"597.412109\" xlink:href=\"#DejaVuSans-102\"/>\r\n",
       "       <use x=\"632.617188\" xlink:href=\"#DejaVuSans-32\"/>\r\n",
       "       <use x=\"664.404297\" xlink:href=\"#DejaVuSans-67\"/>\r\n",
       "       <use x=\"734.228516\" xlink:href=\"#DejaVuSans-111\"/>\r\n",
       "       <use x=\"795.410156\" xlink:href=\"#DejaVuSans-110\"/>\r\n",
       "       <use x=\"858.789062\" xlink:href=\"#DejaVuSans-110\"/>\r\n",
       "       <use x=\"922.167969\" xlink:href=\"#DejaVuSans-101\"/>\r\n",
       "       <use x=\"983.691406\" xlink:href=\"#DejaVuSans-99\"/>\r\n",
       "       <use x=\"1038.671875\" xlink:href=\"#DejaVuSans-116\"/>\r\n",
       "       <use x=\"1077.880859\" xlink:href=\"#DejaVuSans-105\"/>\r\n",
       "       <use x=\"1105.664062\" xlink:href=\"#DejaVuSans-99\"/>\r\n",
       "       <use x=\"1160.644531\" xlink:href=\"#DejaVuSans-117\"/>\r\n",
       "       <use x=\"1224.023438\" xlink:href=\"#DejaVuSans-116\"/>\r\n",
       "      </g>\r\n",
       "     </g>\r\n",
       "    </g>\r\n",
       "    <g id=\"xtick_18\">\r\n",
       "     <g id=\"line2d_18\">\r\n",
       "      <g>\r\n",
       "       <use style=\"stroke:#000000;stroke-width:0.8;\" x=\"369.746875\" xlink:href=\"#m219a306575\" y=\"328.85\"/>\r\n",
       "      </g>\r\n",
       "     </g>\r\n",
       "     <g id=\"text_18\">\r\n",
       "      <!-- University of Minnesota -->\r\n",
       "      <g transform=\"translate(372.50625 453.9)rotate(-90)scale(0.1 -0.1)\">\r\n",
       "       <use xlink:href=\"#DejaVuSans-85\"/>\r\n",
       "       <use x=\"73.193359\" xlink:href=\"#DejaVuSans-110\"/>\r\n",
       "       <use x=\"136.572266\" xlink:href=\"#DejaVuSans-105\"/>\r\n",
       "       <use x=\"164.355469\" xlink:href=\"#DejaVuSans-118\"/>\r\n",
       "       <use x=\"223.535156\" xlink:href=\"#DejaVuSans-101\"/>\r\n",
       "       <use x=\"285.058594\" xlink:href=\"#DejaVuSans-114\"/>\r\n",
       "       <use x=\"326.171875\" xlink:href=\"#DejaVuSans-115\"/>\r\n",
       "       <use x=\"378.271484\" xlink:href=\"#DejaVuSans-105\"/>\r\n",
       "       <use x=\"406.054688\" xlink:href=\"#DejaVuSans-116\"/>\r\n",
       "       <use x=\"445.263672\" xlink:href=\"#DejaVuSans-121\"/>\r\n",
       "       <use x=\"504.443359\" xlink:href=\"#DejaVuSans-32\"/>\r\n",
       "       <use x=\"536.230469\" xlink:href=\"#DejaVuSans-111\"/>\r\n",
       "       <use x=\"597.412109\" xlink:href=\"#DejaVuSans-102\"/>\r\n",
       "       <use x=\"632.617188\" xlink:href=\"#DejaVuSans-32\"/>\r\n",
       "       <use x=\"664.404297\" xlink:href=\"#DejaVuSans-77\"/>\r\n",
       "       <use x=\"750.683594\" xlink:href=\"#DejaVuSans-105\"/>\r\n",
       "       <use x=\"778.466797\" xlink:href=\"#DejaVuSans-110\"/>\r\n",
       "       <use x=\"841.845703\" xlink:href=\"#DejaVuSans-110\"/>\r\n",
       "       <use x=\"905.224609\" xlink:href=\"#DejaVuSans-101\"/>\r\n",
       "       <use x=\"966.748047\" xlink:href=\"#DejaVuSans-115\"/>\r\n",
       "       <use x=\"1018.847656\" xlink:href=\"#DejaVuSans-111\"/>\r\n",
       "       <use x=\"1080.029297\" xlink:href=\"#DejaVuSans-116\"/>\r\n",
       "       <use x=\"1119.238281\" xlink:href=\"#DejaVuSans-97\"/>\r\n",
       "      </g>\r\n",
       "     </g>\r\n",
       "    </g>\r\n",
       "    <g id=\"xtick_19\">\r\n",
       "     <g id=\"line2d_19\">\r\n",
       "      <g>\r\n",
       "       <use style=\"stroke:#000000;stroke-width:0.8;\" x=\"388.973125\" xlink:href=\"#m219a306575\" y=\"328.85\"/>\r\n",
       "      </g>\r\n",
       "     </g>\r\n",
       "     <g id=\"text_19\">\r\n",
       "      <!-- Ohio State University -->\r\n",
       "      <defs>\r\n",
       "       <path d=\"M 39.40625 66.21875 \r\n",
       "Q 28.65625 66.21875 22.328125 58.203125 \r\n",
       "Q 16.015625 50.203125 16.015625 36.375 \r\n",
       "Q 16.015625 22.609375 22.328125 14.59375 \r\n",
       "Q 28.65625 6.59375 39.40625 6.59375 \r\n",
       "Q 50.140625 6.59375 56.421875 14.59375 \r\n",
       "Q 62.703125 22.609375 62.703125 36.375 \r\n",
       "Q 62.703125 50.203125 56.421875 58.203125 \r\n",
       "Q 50.140625 66.21875 39.40625 66.21875 \r\n",
       "z\r\n",
       "M 39.40625 74.21875 \r\n",
       "Q 54.734375 74.21875 63.90625 63.9375 \r\n",
       "Q 73.09375 53.65625 73.09375 36.375 \r\n",
       "Q 73.09375 19.140625 63.90625 8.859375 \r\n",
       "Q 54.734375 -1.421875 39.40625 -1.421875 \r\n",
       "Q 24.03125 -1.421875 14.8125 8.828125 \r\n",
       "Q 5.609375 19.09375 5.609375 36.375 \r\n",
       "Q 5.609375 53.65625 14.8125 63.9375 \r\n",
       "Q 24.03125 74.21875 39.40625 74.21875 \r\n",
       "z\r\n",
       "\" id=\"DejaVuSans-79\"/>\r\n",
       "      </defs>\r\n",
       "      <g transform=\"translate(391.7325 442.226562)rotate(-90)scale(0.1 -0.1)\">\r\n",
       "       <use xlink:href=\"#DejaVuSans-79\"/>\r\n",
       "       <use x=\"78.710938\" xlink:href=\"#DejaVuSans-104\"/>\r\n",
       "       <use x=\"142.089844\" xlink:href=\"#DejaVuSans-105\"/>\r\n",
       "       <use x=\"169.873047\" xlink:href=\"#DejaVuSans-111\"/>\r\n",
       "       <use x=\"231.054688\" xlink:href=\"#DejaVuSans-32\"/>\r\n",
       "       <use x=\"262.841797\" xlink:href=\"#DejaVuSans-83\"/>\r\n",
       "       <use x=\"326.318359\" xlink:href=\"#DejaVuSans-116\"/>\r\n",
       "       <use x=\"365.527344\" xlink:href=\"#DejaVuSans-97\"/>\r\n",
       "       <use x=\"426.806641\" xlink:href=\"#DejaVuSans-116\"/>\r\n",
       "       <use x=\"466.015625\" xlink:href=\"#DejaVuSans-101\"/>\r\n",
       "       <use x=\"527.539062\" xlink:href=\"#DejaVuSans-32\"/>\r\n",
       "       <use x=\"559.326172\" xlink:href=\"#DejaVuSans-85\"/>\r\n",
       "       <use x=\"632.519531\" xlink:href=\"#DejaVuSans-110\"/>\r\n",
       "       <use x=\"695.898438\" xlink:href=\"#DejaVuSans-105\"/>\r\n",
       "       <use x=\"723.681641\" xlink:href=\"#DejaVuSans-118\"/>\r\n",
       "       <use x=\"782.861328\" xlink:href=\"#DejaVuSans-101\"/>\r\n",
       "       <use x=\"844.384766\" xlink:href=\"#DejaVuSans-114\"/>\r\n",
       "       <use x=\"885.498047\" xlink:href=\"#DejaVuSans-115\"/>\r\n",
       "       <use x=\"937.597656\" xlink:href=\"#DejaVuSans-105\"/>\r\n",
       "       <use x=\"965.380859\" xlink:href=\"#DejaVuSans-116\"/>\r\n",
       "       <use x=\"1004.589844\" xlink:href=\"#DejaVuSans-121\"/>\r\n",
       "      </g>\r\n",
       "     </g>\r\n",
       "    </g>\r\n",
       "    <g id=\"xtick_20\">\r\n",
       "     <g id=\"line2d_20\">\r\n",
       "      <g>\r\n",
       "       <use style=\"stroke:#000000;stroke-width:0.8;\" x=\"408.199375\" xlink:href=\"#m219a306575\" y=\"328.85\"/>\r\n",
       "      </g>\r\n",
       "     </g>\r\n",
       "     <g id=\"text_20\">\r\n",
       "      <!-- University of Illinois at Urbana-Champaign -->\r\n",
       "      <defs>\r\n",
       "       <path d=\"M 48.6875 27.296875 \r\n",
       "Q 48.6875 37.203125 44.609375 42.84375 \r\n",
       "Q 40.53125 48.484375 33.40625 48.484375 \r\n",
       "Q 26.265625 48.484375 22.1875 42.84375 \r\n",
       "Q 18.109375 37.203125 18.109375 27.296875 \r\n",
       "Q 18.109375 17.390625 22.1875 11.75 \r\n",
       "Q 26.265625 6.109375 33.40625 6.109375 \r\n",
       "Q 40.53125 6.109375 44.609375 11.75 \r\n",
       "Q 48.6875 17.390625 48.6875 27.296875 \r\n",
       "z\r\n",
       "M 18.109375 46.390625 \r\n",
       "Q 20.953125 51.265625 25.265625 53.625 \r\n",
       "Q 29.59375 56 35.59375 56 \r\n",
       "Q 45.5625 56 51.78125 48.09375 \r\n",
       "Q 58.015625 40.1875 58.015625 27.296875 \r\n",
       "Q 58.015625 14.40625 51.78125 6.484375 \r\n",
       "Q 45.5625 -1.421875 35.59375 -1.421875 \r\n",
       "Q 29.59375 -1.421875 25.265625 0.953125 \r\n",
       "Q 20.953125 3.328125 18.109375 8.203125 \r\n",
       "L 18.109375 0 \r\n",
       "L 9.078125 0 \r\n",
       "L 9.078125 75.984375 \r\n",
       "L 18.109375 75.984375 \r\n",
       "z\r\n",
       "\" id=\"DejaVuSans-98\"/>\r\n",
       "       <path d=\"M 4.890625 31.390625 \r\n",
       "L 31.203125 31.390625 \r\n",
       "L 31.203125 23.390625 \r\n",
       "L 4.890625 23.390625 \r\n",
       "z\r\n",
       "\" id=\"DejaVuSans-45\"/>\r\n",
       "       <path d=\"M 18.109375 8.203125 \r\n",
       "L 18.109375 -20.796875 \r\n",
       "L 9.078125 -20.796875 \r\n",
       "L 9.078125 54.6875 \r\n",
       "L 18.109375 54.6875 \r\n",
       "L 18.109375 46.390625 \r\n",
       "Q 20.953125 51.265625 25.265625 53.625 \r\n",
       "Q 29.59375 56 35.59375 56 \r\n",
       "Q 45.5625 56 51.78125 48.09375 \r\n",
       "Q 58.015625 40.1875 58.015625 27.296875 \r\n",
       "Q 58.015625 14.40625 51.78125 6.484375 \r\n",
       "Q 45.5625 -1.421875 35.59375 -1.421875 \r\n",
       "Q 29.59375 -1.421875 25.265625 0.953125 \r\n",
       "Q 20.953125 3.328125 18.109375 8.203125 \r\n",
       "z\r\n",
       "M 48.6875 27.296875 \r\n",
       "Q 48.6875 37.203125 44.609375 42.84375 \r\n",
       "Q 40.53125 48.484375 33.40625 48.484375 \r\n",
       "Q 26.265625 48.484375 22.1875 42.84375 \r\n",
       "Q 18.109375 37.203125 18.109375 27.296875 \r\n",
       "Q 18.109375 17.390625 22.1875 11.75 \r\n",
       "Q 26.265625 6.109375 33.40625 6.109375 \r\n",
       "Q 40.53125 6.109375 44.609375 11.75 \r\n",
       "Q 48.6875 17.390625 48.6875 27.296875 \r\n",
       "z\r\n",
       "\" id=\"DejaVuSans-112\"/>\r\n",
       "      </defs>\r\n",
       "      <g transform=\"translate(410.95875 547.53125)rotate(-90)scale(0.1 -0.1)\">\r\n",
       "       <use xlink:href=\"#DejaVuSans-85\"/>\r\n",
       "       <use x=\"73.193359\" xlink:href=\"#DejaVuSans-110\"/>\r\n",
       "       <use x=\"136.572266\" xlink:href=\"#DejaVuSans-105\"/>\r\n",
       "       <use x=\"164.355469\" xlink:href=\"#DejaVuSans-118\"/>\r\n",
       "       <use x=\"223.535156\" xlink:href=\"#DejaVuSans-101\"/>\r\n",
       "       <use x=\"285.058594\" xlink:href=\"#DejaVuSans-114\"/>\r\n",
       "       <use x=\"326.171875\" xlink:href=\"#DejaVuSans-115\"/>\r\n",
       "       <use x=\"378.271484\" xlink:href=\"#DejaVuSans-105\"/>\r\n",
       "       <use x=\"406.054688\" xlink:href=\"#DejaVuSans-116\"/>\r\n",
       "       <use x=\"445.263672\" xlink:href=\"#DejaVuSans-121\"/>\r\n",
       "       <use x=\"504.443359\" xlink:href=\"#DejaVuSans-32\"/>\r\n",
       "       <use x=\"536.230469\" xlink:href=\"#DejaVuSans-111\"/>\r\n",
       "       <use x=\"597.412109\" xlink:href=\"#DejaVuSans-102\"/>\r\n",
       "       <use x=\"632.617188\" xlink:href=\"#DejaVuSans-32\"/>\r\n",
       "       <use x=\"664.404297\" xlink:href=\"#DejaVuSans-73\"/>\r\n",
       "       <use x=\"693.896484\" xlink:href=\"#DejaVuSans-108\"/>\r\n",
       "       <use x=\"721.679688\" xlink:href=\"#DejaVuSans-108\"/>\r\n",
       "       <use x=\"749.462891\" xlink:href=\"#DejaVuSans-105\"/>\r\n",
       "       <use x=\"777.246094\" xlink:href=\"#DejaVuSans-110\"/>\r\n",
       "       <use x=\"840.625\" xlink:href=\"#DejaVuSans-111\"/>\r\n",
       "       <use x=\"901.806641\" xlink:href=\"#DejaVuSans-105\"/>\r\n",
       "       <use x=\"929.589844\" xlink:href=\"#DejaVuSans-115\"/>\r\n",
       "       <use x=\"981.689453\" xlink:href=\"#DejaVuSans-32\"/>\r\n",
       "       <use x=\"1013.476562\" xlink:href=\"#DejaVuSans-97\"/>\r\n",
       "       <use x=\"1074.755859\" xlink:href=\"#DejaVuSans-116\"/>\r\n",
       "       <use x=\"1113.964844\" xlink:href=\"#DejaVuSans-32\"/>\r\n",
       "       <use x=\"1145.751953\" xlink:href=\"#DejaVuSans-85\"/>\r\n",
       "       <use x=\"1218.945312\" xlink:href=\"#DejaVuSans-114\"/>\r\n",
       "       <use x=\"1260.058594\" xlink:href=\"#DejaVuSans-98\"/>\r\n",
       "       <use x=\"1323.535156\" xlink:href=\"#DejaVuSans-97\"/>\r\n",
       "       <use x=\"1384.814453\" xlink:href=\"#DejaVuSans-110\"/>\r\n",
       "       <use x=\"1448.193359\" xlink:href=\"#DejaVuSans-97\"/>\r\n",
       "       <use x=\"1509.472656\" xlink:href=\"#DejaVuSans-45\"/>\r\n",
       "       <use x=\"1545.556641\" xlink:href=\"#DejaVuSans-67\"/>\r\n",
       "       <use x=\"1615.380859\" xlink:href=\"#DejaVuSans-104\"/>\r\n",
       "       <use x=\"1678.759766\" xlink:href=\"#DejaVuSans-97\"/>\r\n",
       "       <use x=\"1740.039062\" xlink:href=\"#DejaVuSans-109\"/>\r\n",
       "       <use x=\"1837.451172\" xlink:href=\"#DejaVuSans-112\"/>\r\n",
       "       <use x=\"1900.927734\" xlink:href=\"#DejaVuSans-97\"/>\r\n",
       "       <use x=\"1962.207031\" xlink:href=\"#DejaVuSans-105\"/>\r\n",
       "       <use x=\"1989.990234\" xlink:href=\"#DejaVuSans-103\"/>\r\n",
       "       <use x=\"2053.466797\" xlink:href=\"#DejaVuSans-110\"/>\r\n",
       "      </g>\r\n",
       "     </g>\r\n",
       "    </g>\r\n",
       "    <g id=\"text_21\">\r\n",
       "     <!-- college -->\r\n",
       "     <g transform=\"translate(207.635937 559.129687)scale(0.1 -0.1)\">\r\n",
       "      <use xlink:href=\"#DejaVuSans-99\"/>\r\n",
       "      <use x=\"54.980469\" xlink:href=\"#DejaVuSans-111\"/>\r\n",
       "      <use x=\"116.162109\" xlink:href=\"#DejaVuSans-108\"/>\r\n",
       "      <use x=\"143.945312\" xlink:href=\"#DejaVuSans-108\"/>\r\n",
       "      <use x=\"171.728516\" xlink:href=\"#DejaVuSans-101\"/>\r\n",
       "      <use x=\"233.251953\" xlink:href=\"#DejaVuSans-103\"/>\r\n",
       "      <use x=\"296.728516\" xlink:href=\"#DejaVuSans-101\"/>\r\n",
       "     </g>\r\n",
       "    </g>\r\n",
       "   </g>\r\n",
       "   <g id=\"matplotlib.axis_2\">\r\n",
       "    <g id=\"ytick_1\">\r\n",
       "     <g id=\"line2d_21\">\r\n",
       "      <defs>\r\n",
       "       <path d=\"M 0 0 \r\n",
       "L -3.5 0 \r\n",
       "\" id=\"m7e82bd9891\" style=\"stroke:#000000;stroke-width:0.8;\"/>\r\n",
       "      </defs>\r\n",
       "      <g>\r\n",
       "       <use style=\"stroke:#000000;stroke-width:0.8;\" x=\"33.2875\" xlink:href=\"#m7e82bd9891\" y=\"328.85\"/>\r\n",
       "      </g>\r\n",
       "     </g>\r\n",
       "     <g id=\"text_22\">\r\n",
       "      <!-- 0 -->\r\n",
       "      <defs>\r\n",
       "       <path d=\"M 31.78125 66.40625 \r\n",
       "Q 24.171875 66.40625 20.328125 58.90625 \r\n",
       "Q 16.5 51.421875 16.5 36.375 \r\n",
       "Q 16.5 21.390625 20.328125 13.890625 \r\n",
       "Q 24.171875 6.390625 31.78125 6.390625 \r\n",
       "Q 39.453125 6.390625 43.28125 13.890625 \r\n",
       "Q 47.125 21.390625 47.125 36.375 \r\n",
       "Q 47.125 51.421875 43.28125 58.90625 \r\n",
       "Q 39.453125 66.40625 31.78125 66.40625 \r\n",
       "z\r\n",
       "M 31.78125 74.21875 \r\n",
       "Q 44.046875 74.21875 50.515625 64.515625 \r\n",
       "Q 56.984375 54.828125 56.984375 36.375 \r\n",
       "Q 56.984375 17.96875 50.515625 8.265625 \r\n",
       "Q 44.046875 -1.421875 31.78125 -1.421875 \r\n",
       "Q 19.53125 -1.421875 13.0625 8.265625 \r\n",
       "Q 6.59375 17.96875 6.59375 36.375 \r\n",
       "Q 6.59375 54.828125 13.0625 64.515625 \r\n",
       "Q 19.53125 74.21875 31.78125 74.21875 \r\n",
       "z\r\n",
       "\" id=\"DejaVuSans-48\"/>\r\n",
       "      </defs>\r\n",
       "      <g transform=\"translate(19.925 332.649219)scale(0.1 -0.1)\">\r\n",
       "       <use xlink:href=\"#DejaVuSans-48\"/>\r\n",
       "      </g>\r\n",
       "     </g>\r\n",
       "    </g>\r\n",
       "    <g id=\"ytick_2\">\r\n",
       "     <g id=\"line2d_22\">\r\n",
       "      <g>\r\n",
       "       <use style=\"stroke:#000000;stroke-width:0.8;\" x=\"33.2875\" xlink:href=\"#m7e82bd9891\" y=\"283.467284\"/>\r\n",
       "      </g>\r\n",
       "     </g>\r\n",
       "     <g id=\"text_23\">\r\n",
       "      <!-- 100 -->\r\n",
       "      <defs>\r\n",
       "       <path d=\"M 12.40625 8.296875 \r\n",
       "L 28.515625 8.296875 \r\n",
       "L 28.515625 63.921875 \r\n",
       "L 10.984375 60.40625 \r\n",
       "L 10.984375 69.390625 \r\n",
       "L 28.421875 72.90625 \r\n",
       "L 38.28125 72.90625 \r\n",
       "L 38.28125 8.296875 \r\n",
       "L 54.390625 8.296875 \r\n",
       "L 54.390625 0 \r\n",
       "L 12.40625 0 \r\n",
       "z\r\n",
       "\" id=\"DejaVuSans-49\"/>\r\n",
       "      </defs>\r\n",
       "      <g transform=\"translate(7.2 287.266503)scale(0.1 -0.1)\">\r\n",
       "       <use xlink:href=\"#DejaVuSans-49\"/>\r\n",
       "       <use x=\"63.623047\" xlink:href=\"#DejaVuSans-48\"/>\r\n",
       "       <use x=\"127.246094\" xlink:href=\"#DejaVuSans-48\"/>\r\n",
       "      </g>\r\n",
       "     </g>\r\n",
       "    </g>\r\n",
       "    <g id=\"ytick_3\">\r\n",
       "     <g id=\"line2d_23\">\r\n",
       "      <g>\r\n",
       "       <use style=\"stroke:#000000;stroke-width:0.8;\" x=\"33.2875\" xlink:href=\"#m7e82bd9891\" y=\"238.084568\"/>\r\n",
       "      </g>\r\n",
       "     </g>\r\n",
       "     <g id=\"text_24\">\r\n",
       "      <!-- 200 -->\r\n",
       "      <defs>\r\n",
       "       <path d=\"M 19.1875 8.296875 \r\n",
       "L 53.609375 8.296875 \r\n",
       "L 53.609375 0 \r\n",
       "L 7.328125 0 \r\n",
       "L 7.328125 8.296875 \r\n",
       "Q 12.9375 14.109375 22.625 23.890625 \r\n",
       "Q 32.328125 33.6875 34.8125 36.53125 \r\n",
       "Q 39.546875 41.84375 41.421875 45.53125 \r\n",
       "Q 43.3125 49.21875 43.3125 52.78125 \r\n",
       "Q 43.3125 58.59375 39.234375 62.25 \r\n",
       "Q 35.15625 65.921875 28.609375 65.921875 \r\n",
       "Q 23.96875 65.921875 18.8125 64.3125 \r\n",
       "Q 13.671875 62.703125 7.8125 59.421875 \r\n",
       "L 7.8125 69.390625 \r\n",
       "Q 13.765625 71.78125 18.9375 73 \r\n",
       "Q 24.125 74.21875 28.421875 74.21875 \r\n",
       "Q 39.75 74.21875 46.484375 68.546875 \r\n",
       "Q 53.21875 62.890625 53.21875 53.421875 \r\n",
       "Q 53.21875 48.921875 51.53125 44.890625 \r\n",
       "Q 49.859375 40.875 45.40625 35.40625 \r\n",
       "Q 44.1875 33.984375 37.640625 27.21875 \r\n",
       "Q 31.109375 20.453125 19.1875 8.296875 \r\n",
       "z\r\n",
       "\" id=\"DejaVuSans-50\"/>\r\n",
       "      </defs>\r\n",
       "      <g transform=\"translate(7.2 241.883787)scale(0.1 -0.1)\">\r\n",
       "       <use xlink:href=\"#DejaVuSans-50\"/>\r\n",
       "       <use x=\"63.623047\" xlink:href=\"#DejaVuSans-48\"/>\r\n",
       "       <use x=\"127.246094\" xlink:href=\"#DejaVuSans-48\"/>\r\n",
       "      </g>\r\n",
       "     </g>\r\n",
       "    </g>\r\n",
       "    <g id=\"ytick_4\">\r\n",
       "     <g id=\"line2d_24\">\r\n",
       "      <g>\r\n",
       "       <use style=\"stroke:#000000;stroke-width:0.8;\" x=\"33.2875\" xlink:href=\"#m7e82bd9891\" y=\"192.701852\"/>\r\n",
       "      </g>\r\n",
       "     </g>\r\n",
       "     <g id=\"text_25\">\r\n",
       "      <!-- 300 -->\r\n",
       "      <defs>\r\n",
       "       <path d=\"M 40.578125 39.3125 \r\n",
       "Q 47.65625 37.796875 51.625 33 \r\n",
       "Q 55.609375 28.21875 55.609375 21.1875 \r\n",
       "Q 55.609375 10.40625 48.1875 4.484375 \r\n",
       "Q 40.765625 -1.421875 27.09375 -1.421875 \r\n",
       "Q 22.515625 -1.421875 17.65625 -0.515625 \r\n",
       "Q 12.796875 0.390625 7.625 2.203125 \r\n",
       "L 7.625 11.71875 \r\n",
       "Q 11.71875 9.328125 16.59375 8.109375 \r\n",
       "Q 21.484375 6.890625 26.8125 6.890625 \r\n",
       "Q 36.078125 6.890625 40.9375 10.546875 \r\n",
       "Q 45.796875 14.203125 45.796875 21.1875 \r\n",
       "Q 45.796875 27.640625 41.28125 31.265625 \r\n",
       "Q 36.765625 34.90625 28.71875 34.90625 \r\n",
       "L 20.21875 34.90625 \r\n",
       "L 20.21875 43.015625 \r\n",
       "L 29.109375 43.015625 \r\n",
       "Q 36.375 43.015625 40.234375 45.921875 \r\n",
       "Q 44.09375 48.828125 44.09375 54.296875 \r\n",
       "Q 44.09375 59.90625 40.109375 62.90625 \r\n",
       "Q 36.140625 65.921875 28.71875 65.921875 \r\n",
       "Q 24.65625 65.921875 20.015625 65.03125 \r\n",
       "Q 15.375 64.15625 9.8125 62.3125 \r\n",
       "L 9.8125 71.09375 \r\n",
       "Q 15.4375 72.65625 20.34375 73.4375 \r\n",
       "Q 25.25 74.21875 29.59375 74.21875 \r\n",
       "Q 40.828125 74.21875 47.359375 69.109375 \r\n",
       "Q 53.90625 64.015625 53.90625 55.328125 \r\n",
       "Q 53.90625 49.265625 50.4375 45.09375 \r\n",
       "Q 46.96875 40.921875 40.578125 39.3125 \r\n",
       "z\r\n",
       "\" id=\"DejaVuSans-51\"/>\r\n",
       "      </defs>\r\n",
       "      <g transform=\"translate(7.2 196.501071)scale(0.1 -0.1)\">\r\n",
       "       <use xlink:href=\"#DejaVuSans-51\"/>\r\n",
       "       <use x=\"63.623047\" xlink:href=\"#DejaVuSans-48\"/>\r\n",
       "       <use x=\"127.246094\" xlink:href=\"#DejaVuSans-48\"/>\r\n",
       "      </g>\r\n",
       "     </g>\r\n",
       "    </g>\r\n",
       "    <g id=\"ytick_5\">\r\n",
       "     <g id=\"line2d_25\">\r\n",
       "      <g>\r\n",
       "       <use style=\"stroke:#000000;stroke-width:0.8;\" x=\"33.2875\" xlink:href=\"#m7e82bd9891\" y=\"147.319136\"/>\r\n",
       "      </g>\r\n",
       "     </g>\r\n",
       "     <g id=\"text_26\">\r\n",
       "      <!-- 400 -->\r\n",
       "      <defs>\r\n",
       "       <path d=\"M 37.796875 64.3125 \r\n",
       "L 12.890625 25.390625 \r\n",
       "L 37.796875 25.390625 \r\n",
       "z\r\n",
       "M 35.203125 72.90625 \r\n",
       "L 47.609375 72.90625 \r\n",
       "L 47.609375 25.390625 \r\n",
       "L 58.015625 25.390625 \r\n",
       "L 58.015625 17.1875 \r\n",
       "L 47.609375 17.1875 \r\n",
       "L 47.609375 0 \r\n",
       "L 37.796875 0 \r\n",
       "L 37.796875 17.1875 \r\n",
       "L 4.890625 17.1875 \r\n",
       "L 4.890625 26.703125 \r\n",
       "z\r\n",
       "\" id=\"DejaVuSans-52\"/>\r\n",
       "      </defs>\r\n",
       "      <g transform=\"translate(7.2 151.118355)scale(0.1 -0.1)\">\r\n",
       "       <use xlink:href=\"#DejaVuSans-52\"/>\r\n",
       "       <use x=\"63.623047\" xlink:href=\"#DejaVuSans-48\"/>\r\n",
       "       <use x=\"127.246094\" xlink:href=\"#DejaVuSans-48\"/>\r\n",
       "      </g>\r\n",
       "     </g>\r\n",
       "    </g>\r\n",
       "    <g id=\"ytick_6\">\r\n",
       "     <g id=\"line2d_26\">\r\n",
       "      <g>\r\n",
       "       <use style=\"stroke:#000000;stroke-width:0.8;\" x=\"33.2875\" xlink:href=\"#m7e82bd9891\" y=\"101.93642\"/>\r\n",
       "      </g>\r\n",
       "     </g>\r\n",
       "     <g id=\"text_27\">\r\n",
       "      <!-- 500 -->\r\n",
       "      <defs>\r\n",
       "       <path d=\"M 10.796875 72.90625 \r\n",
       "L 49.515625 72.90625 \r\n",
       "L 49.515625 64.59375 \r\n",
       "L 19.828125 64.59375 \r\n",
       "L 19.828125 46.734375 \r\n",
       "Q 21.96875 47.46875 24.109375 47.828125 \r\n",
       "Q 26.265625 48.1875 28.421875 48.1875 \r\n",
       "Q 40.625 48.1875 47.75 41.5 \r\n",
       "Q 54.890625 34.8125 54.890625 23.390625 \r\n",
       "Q 54.890625 11.625 47.5625 5.09375 \r\n",
       "Q 40.234375 -1.421875 26.90625 -1.421875 \r\n",
       "Q 22.3125 -1.421875 17.546875 -0.640625 \r\n",
       "Q 12.796875 0.140625 7.71875 1.703125 \r\n",
       "L 7.71875 11.625 \r\n",
       "Q 12.109375 9.234375 16.796875 8.0625 \r\n",
       "Q 21.484375 6.890625 26.703125 6.890625 \r\n",
       "Q 35.15625 6.890625 40.078125 11.328125 \r\n",
       "Q 45.015625 15.765625 45.015625 23.390625 \r\n",
       "Q 45.015625 31 40.078125 35.4375 \r\n",
       "Q 35.15625 39.890625 26.703125 39.890625 \r\n",
       "Q 22.75 39.890625 18.8125 39.015625 \r\n",
       "Q 14.890625 38.140625 10.796875 36.28125 \r\n",
       "z\r\n",
       "\" id=\"DejaVuSans-53\"/>\r\n",
       "      </defs>\r\n",
       "      <g transform=\"translate(7.2 105.735639)scale(0.1 -0.1)\">\r\n",
       "       <use xlink:href=\"#DejaVuSans-53\"/>\r\n",
       "       <use x=\"63.623047\" xlink:href=\"#DejaVuSans-48\"/>\r\n",
       "       <use x=\"127.246094\" xlink:href=\"#DejaVuSans-48\"/>\r\n",
       "      </g>\r\n",
       "     </g>\r\n",
       "    </g>\r\n",
       "    <g id=\"ytick_7\">\r\n",
       "     <g id=\"line2d_27\">\r\n",
       "      <g>\r\n",
       "       <use style=\"stroke:#000000;stroke-width:0.8;\" x=\"33.2875\" xlink:href=\"#m7e82bd9891\" y=\"56.553704\"/>\r\n",
       "      </g>\r\n",
       "     </g>\r\n",
       "     <g id=\"text_28\">\r\n",
       "      <!-- 600 -->\r\n",
       "      <defs>\r\n",
       "       <path d=\"M 33.015625 40.375 \r\n",
       "Q 26.375 40.375 22.484375 35.828125 \r\n",
       "Q 18.609375 31.296875 18.609375 23.390625 \r\n",
       "Q 18.609375 15.53125 22.484375 10.953125 \r\n",
       "Q 26.375 6.390625 33.015625 6.390625 \r\n",
       "Q 39.65625 6.390625 43.53125 10.953125 \r\n",
       "Q 47.40625 15.53125 47.40625 23.390625 \r\n",
       "Q 47.40625 31.296875 43.53125 35.828125 \r\n",
       "Q 39.65625 40.375 33.015625 40.375 \r\n",
       "z\r\n",
       "M 52.59375 71.296875 \r\n",
       "L 52.59375 62.3125 \r\n",
       "Q 48.875 64.0625 45.09375 64.984375 \r\n",
       "Q 41.3125 65.921875 37.59375 65.921875 \r\n",
       "Q 27.828125 65.921875 22.671875 59.328125 \r\n",
       "Q 17.53125 52.734375 16.796875 39.40625 \r\n",
       "Q 19.671875 43.65625 24.015625 45.921875 \r\n",
       "Q 28.375 48.1875 33.59375 48.1875 \r\n",
       "Q 44.578125 48.1875 50.953125 41.515625 \r\n",
       "Q 57.328125 34.859375 57.328125 23.390625 \r\n",
       "Q 57.328125 12.15625 50.6875 5.359375 \r\n",
       "Q 44.046875 -1.421875 33.015625 -1.421875 \r\n",
       "Q 20.359375 -1.421875 13.671875 8.265625 \r\n",
       "Q 6.984375 17.96875 6.984375 36.375 \r\n",
       "Q 6.984375 53.65625 15.1875 63.9375 \r\n",
       "Q 23.390625 74.21875 37.203125 74.21875 \r\n",
       "Q 40.921875 74.21875 44.703125 73.484375 \r\n",
       "Q 48.484375 72.75 52.59375 71.296875 \r\n",
       "z\r\n",
       "\" id=\"DejaVuSans-54\"/>\r\n",
       "      </defs>\r\n",
       "      <g transform=\"translate(7.2 60.352922)scale(0.1 -0.1)\">\r\n",
       "       <use xlink:href=\"#DejaVuSans-54\"/>\r\n",
       "       <use x=\"63.623047\" xlink:href=\"#DejaVuSans-48\"/>\r\n",
       "       <use x=\"127.246094\" xlink:href=\"#DejaVuSans-48\"/>\r\n",
       "      </g>\r\n",
       "     </g>\r\n",
       "    </g>\r\n",
       "    <g id=\"ytick_8\">\r\n",
       "     <g id=\"line2d_28\">\r\n",
       "      <g>\r\n",
       "       <use style=\"stroke:#000000;stroke-width:0.8;\" x=\"33.2875\" xlink:href=\"#m7e82bd9891\" y=\"11.170988\"/>\r\n",
       "      </g>\r\n",
       "     </g>\r\n",
       "     <g id=\"text_29\">\r\n",
       "      <!-- 700 -->\r\n",
       "      <defs>\r\n",
       "       <path d=\"M 8.203125 72.90625 \r\n",
       "L 55.078125 72.90625 \r\n",
       "L 55.078125 68.703125 \r\n",
       "L 28.609375 0 \r\n",
       "L 18.3125 0 \r\n",
       "L 43.21875 64.59375 \r\n",
       "L 8.203125 64.59375 \r\n",
       "z\r\n",
       "\" id=\"DejaVuSans-55\"/>\r\n",
       "      </defs>\r\n",
       "      <g transform=\"translate(7.2 14.970206)scale(0.1 -0.1)\">\r\n",
       "       <use xlink:href=\"#DejaVuSans-55\"/>\r\n",
       "       <use x=\"63.623047\" xlink:href=\"#DejaVuSans-48\"/>\r\n",
       "       <use x=\"127.246094\" xlink:href=\"#DejaVuSans-48\"/>\r\n",
       "      </g>\r\n",
       "     </g>\r\n",
       "    </g>\r\n",
       "   </g>\r\n",
       "   <g id=\"patch_43\">\r\n",
       "    <path d=\"M 33.2875 328.85 \r\n",
       "L 33.2875 7.2 \r\n",
       "\" style=\"fill:none;stroke:#000000;stroke-linecap:square;stroke-linejoin:miter;stroke-width:0.8;\"/>\r\n",
       "   </g>\r\n",
       "   <g id=\"patch_44\">\r\n",
       "    <path d=\"M 417.8125 328.85 \r\n",
       "L 417.8125 7.2 \r\n",
       "\" style=\"fill:none;stroke:#000000;stroke-linecap:square;stroke-linejoin:miter;stroke-width:0.8;\"/>\r\n",
       "   </g>\r\n",
       "   <g id=\"patch_45\">\r\n",
       "    <path d=\"M 33.2875 328.85 \r\n",
       "L 417.8125 328.85 \r\n",
       "\" style=\"fill:none;stroke:#000000;stroke-linecap:square;stroke-linejoin:miter;stroke-width:0.8;\"/>\r\n",
       "   </g>\r\n",
       "   <g id=\"patch_46\">\r\n",
       "    <path d=\"M 33.2875 7.2 \r\n",
       "L 417.8125 7.2 \r\n",
       "\" style=\"fill:none;stroke:#000000;stroke-linecap:square;stroke-linejoin:miter;stroke-width:0.8;\"/>\r\n",
       "   </g>\r\n",
       "   <g id=\"legend_1\">\r\n",
       "    <g id=\"patch_47\">\r\n",
       "     <path d=\"M 342.484375 44.55625 \r\n",
       "L 410.8125 44.55625 \r\n",
       "Q 412.8125 44.55625 412.8125 42.55625 \r\n",
       "L 412.8125 14.2 \r\n",
       "Q 412.8125 12.2 410.8125 12.2 \r\n",
       "L 342.484375 12.2 \r\n",
       "Q 340.484375 12.2 340.484375 14.2 \r\n",
       "L 340.484375 42.55625 \r\n",
       "Q 340.484375 44.55625 342.484375 44.55625 \r\n",
       "z\r\n",
       "\" style=\"fill:#ffffff;opacity:0.8;stroke:#cccccc;stroke-linejoin:miter;\"/>\r\n",
       "    </g>\r\n",
       "    <g id=\"patch_48\">\r\n",
       "     <path d=\"M 344.484375 23.798437 \r\n",
       "L 364.484375 23.798437 \r\n",
       "L 364.484375 16.798437 \r\n",
       "L 344.484375 16.798437 \r\n",
       "z\r\n",
       "\" style=\"fill:#1f77b4;\"/>\r\n",
       "    </g>\r\n",
       "    <g id=\"text_30\">\r\n",
       "     <!-- Players -->\r\n",
       "     <defs>\r\n",
       "      <path d=\"M 19.671875 64.796875 \r\n",
       "L 19.671875 37.40625 \r\n",
       "L 32.078125 37.40625 \r\n",
       "Q 38.96875 37.40625 42.71875 40.96875 \r\n",
       "Q 46.484375 44.53125 46.484375 51.125 \r\n",
       "Q 46.484375 57.671875 42.71875 61.234375 \r\n",
       "Q 38.96875 64.796875 32.078125 64.796875 \r\n",
       "z\r\n",
       "M 9.8125 72.90625 \r\n",
       "L 32.078125 72.90625 \r\n",
       "Q 44.34375 72.90625 50.609375 67.359375 \r\n",
       "Q 56.890625 61.8125 56.890625 51.125 \r\n",
       "Q 56.890625 40.328125 50.609375 34.8125 \r\n",
       "Q 44.34375 29.296875 32.078125 29.296875 \r\n",
       "L 19.671875 29.296875 \r\n",
       "L 19.671875 0 \r\n",
       "L 9.8125 0 \r\n",
       "z\r\n",
       "\" id=\"DejaVuSans-80\"/>\r\n",
       "     </defs>\r\n",
       "     <g transform=\"translate(372.484375 23.798437)scale(0.1 -0.1)\">\r\n",
       "      <use xlink:href=\"#DejaVuSans-80\"/>\r\n",
       "      <use x=\"60.302734\" xlink:href=\"#DejaVuSans-108\"/>\r\n",
       "      <use x=\"88.085938\" xlink:href=\"#DejaVuSans-97\"/>\r\n",
       "      <use x=\"149.365234\" xlink:href=\"#DejaVuSans-121\"/>\r\n",
       "      <use x=\"208.544922\" xlink:href=\"#DejaVuSans-101\"/>\r\n",
       "      <use x=\"270.068359\" xlink:href=\"#DejaVuSans-114\"/>\r\n",
       "      <use x=\"311.181641\" xlink:href=\"#DejaVuSans-115\"/>\r\n",
       "     </g>\r\n",
       "    </g>\r\n",
       "    <g id=\"patch_49\">\r\n",
       "     <path d=\"M 344.484375 38.476562 \r\n",
       "L 364.484375 38.476562 \r\n",
       "L 364.484375 31.476562 \r\n",
       "L 344.484375 31.476562 \r\n",
       "z\r\n",
       "\" style=\"fill:#ff7f0e;\"/>\r\n",
       "    </g>\r\n",
       "    <g id=\"text_31\">\r\n",
       "     <!-- Stars -->\r\n",
       "     <g transform=\"translate(372.484375 38.476562)scale(0.1 -0.1)\">\r\n",
       "      <use xlink:href=\"#DejaVuSans-83\"/>\r\n",
       "      <use x=\"63.476562\" xlink:href=\"#DejaVuSans-116\"/>\r\n",
       "      <use x=\"102.685547\" xlink:href=\"#DejaVuSans-97\"/>\r\n",
       "      <use x=\"163.964844\" xlink:href=\"#DejaVuSans-114\"/>\r\n",
       "      <use x=\"205.078125\" xlink:href=\"#DejaVuSans-115\"/>\r\n",
       "     </g>\r\n",
       "    </g>\r\n",
       "   </g>\r\n",
       "  </g>\r\n",
       " </g>\r\n",
       " <defs>\r\n",
       "  <clipPath id=\"p01a996e07c\">\r\n",
       "   <rect height=\"321.65\" width=\"384.525\" x=\"33.2875\" y=\"7.2\"/>\r\n",
       "  </clipPath>\r\n",
       " </defs>\r\n",
       "</svg>\r\n"
      ],
      "text/plain": [
       "<Figure size 432x576 with 1 Axes>"
      ]
     },
     "metadata": {
      "needs_background": "light"
     },
     "output_type": "display_data"
    }
   ],
   "source": [
    "#Колледжи по количеству звёздных игроков:\n",
    "\n",
    "#Сначала выделим игроков:\n",
    "player_by_colleges = player_data[['Player','college']].dropna().append(players.rename(columns = {'collage':'college'})[['Player', 'college']], ignore_index = True).dropna()\n",
    "colleges_pts = season_stats[['Year', 'Player','PTS']].merge(player_by_colleges).dropna().drop_duplicates().reset_index()\n",
    "colleges_pts = colleges_pts.merge(points_by_year[['Year','Average PTS']])\n",
    "#выделим звёздных игроков в отдельную таблицу:\n",
    "stars = colleges_pts[colleges_pts.PTS>1.5*colleges_pts['Average PTS']]\n",
    "\n",
    "colleges_players = colleges_pts.groupby('college')[['Player']].count().sort_values(by='Player', ascending=False)\n",
    "colleges_star_players = stars.groupby('college')[['Player']].count().sort_values(by='Player', ascending=False).rename(columns = {'Player':'Stars'})\n",
    "\n",
    "colleges_players_with_stars = colleges_players.merge(colleges_star_players, how = 'left', on = 'college').dropna()\n",
    "colleges_players_with_stars['Players'] = colleges_players_with_stars.apply(lambda x: int(x.Player-x.Stars), axis=1)\n",
    "colleges_players_with_stars['Stars'] = colleges_players_with_stars.Stars.astype(int64)\n",
    "\n",
    "#%config InlineBackend.figure_format = 'svg' \n",
    "#увеличим дефолтный размер графиков\n",
    "from pylab import rcParams\n",
    "rcParams['figure.figsize'] = 6,8\n",
    "colleges_players_with_stars[['Players', 'Stars']].head(20).plot(kind='bar', rot=90, stacked=True)\n",
    "plt.tight_layout()\n",
    "plt.savefig('homework_8_misc\\stars_for_colleges')\n"
   ]
  },
  {
   "cell_type": "code",
   "execution_count": 117,
   "metadata": {},
   "outputs": [
    {
     "data": {
      "application/vnd.plotly.v1+json": {
       "config": {
        "linkText": "Export to plot.ly",
        "plotlyServerURL": "https://plot.ly",
        "showLink": false
       },
       "data": [
        {
         "mode": "markers+text",
         "text": [
          "MNL",
          "ROC",
          "BOS",
          "BOS",
          "SYR",
          "BOS",
          "BOS",
          "BOS",
          "NYK",
          "BOS",
          "BOS",
          "SYR",
          "PHW",
          "SYR",
          "CIN",
          "CIN",
          "LAL",
          "PHI",
          "PHI",
          "PHI",
          "PHI",
          "MIL",
          "LAL",
          "HOU",
          "BUF",
          "GSW",
          "GSW",
          "SAS",
          "PHI",
          "SAS",
          "SAS",
          "DEN",
          "DEN",
          "DEN",
          "DEN",
          "DEN",
          "LAL",
          "POR",
          "DEN",
          "PHO",
          "GSW",
          "DEN",
          "GSW",
          "PHO",
          "PHO",
          "ORL",
          "CHI",
          "CHI",
          "LAL",
          "SAC",
          "SAC",
          "SAC",
          "DAL",
          "DAL",
          "DAL",
          "PHO",
          "PHO",
          "PHO",
          "GSW",
          "PHO",
          "PHO",
          "DEN",
          "DEN",
          "DEN",
          "LAC",
          "GSW",
          "GSW",
          "GSW"
         ],
         "textposition": "bottom center",
         "type": "scatter",
         "x": [
          1950,
          1951,
          1952,
          1953,
          1954,
          1955,
          1956,
          1957,
          1958,
          1959,
          1960,
          1961,
          1962,
          1963,
          1964,
          1965,
          1966,
          1967,
          1968,
          1969,
          1970,
          1971,
          1972,
          1973,
          1974,
          1975,
          1976,
          1977,
          1978,
          1979,
          1980,
          1981,
          1982,
          1983,
          1984,
          1985,
          1986,
          1987,
          1988,
          1989,
          1990,
          1991,
          1992,
          1993,
          1994,
          1995,
          1996,
          1997,
          1998,
          1999,
          2000,
          2001,
          2002,
          2003,
          2004,
          2005,
          2006,
          2007,
          2008,
          2009,
          2010,
          2011,
          2012,
          2013,
          2014,
          2015,
          2016,
          2017
         ],
         "y": [
          5717,
          5713,
          6027,
          6258,
          6013,
          7304,
          7632,
          7599,
          8068,
          8377,
          9337,
          9586,
          10035,
          9730,
          9178,
          9134,
          9557,
          10143,
          10051,
          9746,
          9998,
          9710,
          9920,
          9250,
          9155,
          8898,
          9002,
          9432,
          9409,
          9780,
          9788,
          9986,
          10371,
          10105,
          10147,
          9841,
          9618,
          9667,
          9573,
          9727,
          9534,
          9828,
          9732,
          9298,
          8876,
          9091,
          8625,
          8458,
          8652,
          5009,
          8607,
          8343,
          8629,
          8444,
          8626,
          9054,
          8886,
          9037,
          9105,
          8974,
          9039,
          8811,
          6872,
          8704,
          8850,
          9016,
          9421,
          9503
         ]
        }
       ],
       "layout": {
        "template": {
         "data": {
          "bar": [
           {
            "error_x": {
             "color": "#2a3f5f"
            },
            "error_y": {
             "color": "#2a3f5f"
            },
            "marker": {
             "line": {
              "color": "#E5ECF6",
              "width": 0.5
             }
            },
            "type": "bar"
           }
          ],
          "barpolar": [
           {
            "marker": {
             "line": {
              "color": "#E5ECF6",
              "width": 0.5
             }
            },
            "type": "barpolar"
           }
          ],
          "carpet": [
           {
            "aaxis": {
             "endlinecolor": "#2a3f5f",
             "gridcolor": "white",
             "linecolor": "white",
             "minorgridcolor": "white",
             "startlinecolor": "#2a3f5f"
            },
            "baxis": {
             "endlinecolor": "#2a3f5f",
             "gridcolor": "white",
             "linecolor": "white",
             "minorgridcolor": "white",
             "startlinecolor": "#2a3f5f"
            },
            "type": "carpet"
           }
          ],
          "choropleth": [
           {
            "colorbar": {
             "outlinewidth": 0,
             "ticks": ""
            },
            "type": "choropleth"
           }
          ],
          "contour": [
           {
            "colorbar": {
             "outlinewidth": 0,
             "ticks": ""
            },
            "colorscale": [
             [
              0,
              "#0d0887"
             ],
             [
              0.1111111111111111,
              "#46039f"
             ],
             [
              0.2222222222222222,
              "#7201a8"
             ],
             [
              0.3333333333333333,
              "#9c179e"
             ],
             [
              0.4444444444444444,
              "#bd3786"
             ],
             [
              0.5555555555555556,
              "#d8576b"
             ],
             [
              0.6666666666666666,
              "#ed7953"
             ],
             [
              0.7777777777777778,
              "#fb9f3a"
             ],
             [
              0.8888888888888888,
              "#fdca26"
             ],
             [
              1,
              "#f0f921"
             ]
            ],
            "type": "contour"
           }
          ],
          "contourcarpet": [
           {
            "colorbar": {
             "outlinewidth": 0,
             "ticks": ""
            },
            "type": "contourcarpet"
           }
          ],
          "heatmap": [
           {
            "colorbar": {
             "outlinewidth": 0,
             "ticks": ""
            },
            "colorscale": [
             [
              0,
              "#0d0887"
             ],
             [
              0.1111111111111111,
              "#46039f"
             ],
             [
              0.2222222222222222,
              "#7201a8"
             ],
             [
              0.3333333333333333,
              "#9c179e"
             ],
             [
              0.4444444444444444,
              "#bd3786"
             ],
             [
              0.5555555555555556,
              "#d8576b"
             ],
             [
              0.6666666666666666,
              "#ed7953"
             ],
             [
              0.7777777777777778,
              "#fb9f3a"
             ],
             [
              0.8888888888888888,
              "#fdca26"
             ],
             [
              1,
              "#f0f921"
             ]
            ],
            "type": "heatmap"
           }
          ],
          "heatmapgl": [
           {
            "colorbar": {
             "outlinewidth": 0,
             "ticks": ""
            },
            "colorscale": [
             [
              0,
              "#0d0887"
             ],
             [
              0.1111111111111111,
              "#46039f"
             ],
             [
              0.2222222222222222,
              "#7201a8"
             ],
             [
              0.3333333333333333,
              "#9c179e"
             ],
             [
              0.4444444444444444,
              "#bd3786"
             ],
             [
              0.5555555555555556,
              "#d8576b"
             ],
             [
              0.6666666666666666,
              "#ed7953"
             ],
             [
              0.7777777777777778,
              "#fb9f3a"
             ],
             [
              0.8888888888888888,
              "#fdca26"
             ],
             [
              1,
              "#f0f921"
             ]
            ],
            "type": "heatmapgl"
           }
          ],
          "histogram": [
           {
            "marker": {
             "colorbar": {
              "outlinewidth": 0,
              "ticks": ""
             }
            },
            "type": "histogram"
           }
          ],
          "histogram2d": [
           {
            "colorbar": {
             "outlinewidth": 0,
             "ticks": ""
            },
            "colorscale": [
             [
              0,
              "#0d0887"
             ],
             [
              0.1111111111111111,
              "#46039f"
             ],
             [
              0.2222222222222222,
              "#7201a8"
             ],
             [
              0.3333333333333333,
              "#9c179e"
             ],
             [
              0.4444444444444444,
              "#bd3786"
             ],
             [
              0.5555555555555556,
              "#d8576b"
             ],
             [
              0.6666666666666666,
              "#ed7953"
             ],
             [
              0.7777777777777778,
              "#fb9f3a"
             ],
             [
              0.8888888888888888,
              "#fdca26"
             ],
             [
              1,
              "#f0f921"
             ]
            ],
            "type": "histogram2d"
           }
          ],
          "histogram2dcontour": [
           {
            "colorbar": {
             "outlinewidth": 0,
             "ticks": ""
            },
            "colorscale": [
             [
              0,
              "#0d0887"
             ],
             [
              0.1111111111111111,
              "#46039f"
             ],
             [
              0.2222222222222222,
              "#7201a8"
             ],
             [
              0.3333333333333333,
              "#9c179e"
             ],
             [
              0.4444444444444444,
              "#bd3786"
             ],
             [
              0.5555555555555556,
              "#d8576b"
             ],
             [
              0.6666666666666666,
              "#ed7953"
             ],
             [
              0.7777777777777778,
              "#fb9f3a"
             ],
             [
              0.8888888888888888,
              "#fdca26"
             ],
             [
              1,
              "#f0f921"
             ]
            ],
            "type": "histogram2dcontour"
           }
          ],
          "mesh3d": [
           {
            "colorbar": {
             "outlinewidth": 0,
             "ticks": ""
            },
            "type": "mesh3d"
           }
          ],
          "parcoords": [
           {
            "line": {
             "colorbar": {
              "outlinewidth": 0,
              "ticks": ""
             }
            },
            "type": "parcoords"
           }
          ],
          "pie": [
           {
            "automargin": true,
            "type": "pie"
           }
          ],
          "scatter": [
           {
            "marker": {
             "colorbar": {
              "outlinewidth": 0,
              "ticks": ""
             }
            },
            "type": "scatter"
           }
          ],
          "scatter3d": [
           {
            "line": {
             "colorbar": {
              "outlinewidth": 0,
              "ticks": ""
             }
            },
            "marker": {
             "colorbar": {
              "outlinewidth": 0,
              "ticks": ""
             }
            },
            "type": "scatter3d"
           }
          ],
          "scattercarpet": [
           {
            "marker": {
             "colorbar": {
              "outlinewidth": 0,
              "ticks": ""
             }
            },
            "type": "scattercarpet"
           }
          ],
          "scattergeo": [
           {
            "marker": {
             "colorbar": {
              "outlinewidth": 0,
              "ticks": ""
             }
            },
            "type": "scattergeo"
           }
          ],
          "scattergl": [
           {
            "marker": {
             "colorbar": {
              "outlinewidth": 0,
              "ticks": ""
             }
            },
            "type": "scattergl"
           }
          ],
          "scattermapbox": [
           {
            "marker": {
             "colorbar": {
              "outlinewidth": 0,
              "ticks": ""
             }
            },
            "type": "scattermapbox"
           }
          ],
          "scatterpolar": [
           {
            "marker": {
             "colorbar": {
              "outlinewidth": 0,
              "ticks": ""
             }
            },
            "type": "scatterpolar"
           }
          ],
          "scatterpolargl": [
           {
            "marker": {
             "colorbar": {
              "outlinewidth": 0,
              "ticks": ""
             }
            },
            "type": "scatterpolargl"
           }
          ],
          "scatterternary": [
           {
            "marker": {
             "colorbar": {
              "outlinewidth": 0,
              "ticks": ""
             }
            },
            "type": "scatterternary"
           }
          ],
          "surface": [
           {
            "colorbar": {
             "outlinewidth": 0,
             "ticks": ""
            },
            "colorscale": [
             [
              0,
              "#0d0887"
             ],
             [
              0.1111111111111111,
              "#46039f"
             ],
             [
              0.2222222222222222,
              "#7201a8"
             ],
             [
              0.3333333333333333,
              "#9c179e"
             ],
             [
              0.4444444444444444,
              "#bd3786"
             ],
             [
              0.5555555555555556,
              "#d8576b"
             ],
             [
              0.6666666666666666,
              "#ed7953"
             ],
             [
              0.7777777777777778,
              "#fb9f3a"
             ],
             [
              0.8888888888888888,
              "#fdca26"
             ],
             [
              1,
              "#f0f921"
             ]
            ],
            "type": "surface"
           }
          ],
          "table": [
           {
            "cells": {
             "fill": {
              "color": "#EBF0F8"
             },
             "line": {
              "color": "white"
             }
            },
            "header": {
             "fill": {
              "color": "#C8D4E3"
             },
             "line": {
              "color": "white"
             }
            },
            "type": "table"
           }
          ]
         },
         "layout": {
          "annotationdefaults": {
           "arrowcolor": "#2a3f5f",
           "arrowhead": 0,
           "arrowwidth": 1
          },
          "coloraxis": {
           "colorbar": {
            "outlinewidth": 0,
            "ticks": ""
           }
          },
          "colorscale": {
           "diverging": [
            [
             0,
             "#8e0152"
            ],
            [
             0.1,
             "#c51b7d"
            ],
            [
             0.2,
             "#de77ae"
            ],
            [
             0.3,
             "#f1b6da"
            ],
            [
             0.4,
             "#fde0ef"
            ],
            [
             0.5,
             "#f7f7f7"
            ],
            [
             0.6,
             "#e6f5d0"
            ],
            [
             0.7,
             "#b8e186"
            ],
            [
             0.8,
             "#7fbc41"
            ],
            [
             0.9,
             "#4d9221"
            ],
            [
             1,
             "#276419"
            ]
           ],
           "sequential": [
            [
             0,
             "#0d0887"
            ],
            [
             0.1111111111111111,
             "#46039f"
            ],
            [
             0.2222222222222222,
             "#7201a8"
            ],
            [
             0.3333333333333333,
             "#9c179e"
            ],
            [
             0.4444444444444444,
             "#bd3786"
            ],
            [
             0.5555555555555556,
             "#d8576b"
            ],
            [
             0.6666666666666666,
             "#ed7953"
            ],
            [
             0.7777777777777778,
             "#fb9f3a"
            ],
            [
             0.8888888888888888,
             "#fdca26"
            ],
            [
             1,
             "#f0f921"
            ]
           ],
           "sequentialminus": [
            [
             0,
             "#0d0887"
            ],
            [
             0.1111111111111111,
             "#46039f"
            ],
            [
             0.2222222222222222,
             "#7201a8"
            ],
            [
             0.3333333333333333,
             "#9c179e"
            ],
            [
             0.4444444444444444,
             "#bd3786"
            ],
            [
             0.5555555555555556,
             "#d8576b"
            ],
            [
             0.6666666666666666,
             "#ed7953"
            ],
            [
             0.7777777777777778,
             "#fb9f3a"
            ],
            [
             0.8888888888888888,
             "#fdca26"
            ],
            [
             1,
             "#f0f921"
            ]
           ]
          },
          "colorway": [
           "#636efa",
           "#EF553B",
           "#00cc96",
           "#ab63fa",
           "#FFA15A",
           "#19d3f3",
           "#FF6692",
           "#B6E880",
           "#FF97FF",
           "#FECB52"
          ],
          "font": {
           "color": "#2a3f5f"
          },
          "geo": {
           "bgcolor": "white",
           "lakecolor": "white",
           "landcolor": "#E5ECF6",
           "showlakes": true,
           "showland": true,
           "subunitcolor": "white"
          },
          "hoverlabel": {
           "align": "left"
          },
          "hovermode": "closest",
          "mapbox": {
           "style": "light"
          },
          "paper_bgcolor": "white",
          "plot_bgcolor": "#E5ECF6",
          "polar": {
           "angularaxis": {
            "gridcolor": "white",
            "linecolor": "white",
            "ticks": ""
           },
           "bgcolor": "#E5ECF6",
           "radialaxis": {
            "gridcolor": "white",
            "linecolor": "white",
            "ticks": ""
           }
          },
          "scene": {
           "xaxis": {
            "backgroundcolor": "#E5ECF6",
            "gridcolor": "white",
            "gridwidth": 2,
            "linecolor": "white",
            "showbackground": true,
            "ticks": "",
            "zerolinecolor": "white"
           },
           "yaxis": {
            "backgroundcolor": "#E5ECF6",
            "gridcolor": "white",
            "gridwidth": 2,
            "linecolor": "white",
            "showbackground": true,
            "ticks": "",
            "zerolinecolor": "white"
           },
           "zaxis": {
            "backgroundcolor": "#E5ECF6",
            "gridcolor": "white",
            "gridwidth": 2,
            "linecolor": "white",
            "showbackground": true,
            "ticks": "",
            "zerolinecolor": "white"
           }
          },
          "shapedefaults": {
           "line": {
            "color": "#2a3f5f"
           }
          },
          "ternary": {
           "aaxis": {
            "gridcolor": "white",
            "linecolor": "white",
            "ticks": ""
           },
           "baxis": {
            "gridcolor": "white",
            "linecolor": "white",
            "ticks": ""
           },
           "bgcolor": "#E5ECF6",
           "caxis": {
            "gridcolor": "white",
            "linecolor": "white",
            "ticks": ""
           }
          },
          "title": {
           "x": 0.05
          },
          "xaxis": {
           "automargin": true,
           "gridcolor": "white",
           "linecolor": "white",
           "ticks": "",
           "title": {
            "standoff": 15
           },
           "zerolinecolor": "white",
           "zerolinewidth": 2
          },
          "yaxis": {
           "automargin": true,
           "gridcolor": "white",
           "linecolor": "white",
           "ticks": "",
           "title": {
            "standoff": 15
           },
           "zerolinecolor": "white",
           "zerolinewidth": 2
          }
         }
        },
        "title": {
         "text": "Teams with max points over years"
        },
        "xaxis": {
         "title": {
          "text": "year"
         }
        },
        "yaxis": {
         "title": {
          "text": "points gained"
         }
        }
       }
      },
      "text/html": [
       "<div>\n",
       "        \n",
       "        \n",
       "            <div id=\"a0012fd2-1267-4d4b-b98c-c094079fac71\" class=\"plotly-graph-div\" style=\"height:525px; width:100%;\"></div>\n",
       "            <script type=\"text/javascript\">\n",
       "                require([\"plotly\"], function(Plotly) {\n",
       "                    window.PLOTLYENV=window.PLOTLYENV || {};\n",
       "                    \n",
       "                if (document.getElementById(\"a0012fd2-1267-4d4b-b98c-c094079fac71\")) {\n",
       "                    Plotly.newPlot(\n",
       "                        'a0012fd2-1267-4d4b-b98c-c094079fac71',\n",
       "                        [{\"mode\": \"markers+text\", \"text\": [\"MNL\", \"ROC\", \"BOS\", \"BOS\", \"SYR\", \"BOS\", \"BOS\", \"BOS\", \"NYK\", \"BOS\", \"BOS\", \"SYR\", \"PHW\", \"SYR\", \"CIN\", \"CIN\", \"LAL\", \"PHI\", \"PHI\", \"PHI\", \"PHI\", \"MIL\", \"LAL\", \"HOU\", \"BUF\", \"GSW\", \"GSW\", \"SAS\", \"PHI\", \"SAS\", \"SAS\", \"DEN\", \"DEN\", \"DEN\", \"DEN\", \"DEN\", \"LAL\", \"POR\", \"DEN\", \"PHO\", \"GSW\", \"DEN\", \"GSW\", \"PHO\", \"PHO\", \"ORL\", \"CHI\", \"CHI\", \"LAL\", \"SAC\", \"SAC\", \"SAC\", \"DAL\", \"DAL\", \"DAL\", \"PHO\", \"PHO\", \"PHO\", \"GSW\", \"PHO\", \"PHO\", \"DEN\", \"DEN\", \"DEN\", \"LAC\", \"GSW\", \"GSW\", \"GSW\"], \"textposition\": \"bottom center\", \"type\": \"scatter\", \"x\": [1950.0, 1951.0, 1952.0, 1953.0, 1954.0, 1955.0, 1956.0, 1957.0, 1958.0, 1959.0, 1960.0, 1961.0, 1962.0, 1963.0, 1964.0, 1965.0, 1966.0, 1967.0, 1968.0, 1969.0, 1970.0, 1971.0, 1972.0, 1973.0, 1974.0, 1975.0, 1976.0, 1977.0, 1978.0, 1979.0, 1980.0, 1981.0, 1982.0, 1983.0, 1984.0, 1985.0, 1986.0, 1987.0, 1988.0, 1989.0, 1990.0, 1991.0, 1992.0, 1993.0, 1994.0, 1995.0, 1996.0, 1997.0, 1998.0, 1999.0, 2000.0, 2001.0, 2002.0, 2003.0, 2004.0, 2005.0, 2006.0, 2007.0, 2008.0, 2009.0, 2010.0, 2011.0, 2012.0, 2013.0, 2014.0, 2015.0, 2016.0, 2017.0], \"y\": [5717, 5713, 6027, 6258, 6013, 7304, 7632, 7599, 8068, 8377, 9337, 9586, 10035, 9730, 9178, 9134, 9557, 10143, 10051, 9746, 9998, 9710, 9920, 9250, 9155, 8898, 9002, 9432, 9409, 9780, 9788, 9986, 10371, 10105, 10147, 9841, 9618, 9667, 9573, 9727, 9534, 9828, 9732, 9298, 8876, 9091, 8625, 8458, 8652, 5009, 8607, 8343, 8629, 8444, 8626, 9054, 8886, 9037, 9105, 8974, 9039, 8811, 6872, 8704, 8850, 9016, 9421, 9503]}],\n",
       "                        {\"template\": {\"data\": {\"bar\": [{\"error_x\": {\"color\": \"#2a3f5f\"}, \"error_y\": {\"color\": \"#2a3f5f\"}, \"marker\": {\"line\": {\"color\": \"#E5ECF6\", \"width\": 0.5}}, \"type\": \"bar\"}], \"barpolar\": [{\"marker\": {\"line\": {\"color\": \"#E5ECF6\", \"width\": 0.5}}, \"type\": \"barpolar\"}], \"carpet\": [{\"aaxis\": {\"endlinecolor\": \"#2a3f5f\", \"gridcolor\": \"white\", \"linecolor\": \"white\", \"minorgridcolor\": \"white\", \"startlinecolor\": \"#2a3f5f\"}, \"baxis\": {\"endlinecolor\": \"#2a3f5f\", \"gridcolor\": \"white\", \"linecolor\": \"white\", \"minorgridcolor\": \"white\", \"startlinecolor\": \"#2a3f5f\"}, \"type\": \"carpet\"}], \"choropleth\": [{\"colorbar\": {\"outlinewidth\": 0, \"ticks\": \"\"}, \"type\": \"choropleth\"}], \"contour\": [{\"colorbar\": {\"outlinewidth\": 0, \"ticks\": \"\"}, \"colorscale\": [[0.0, \"#0d0887\"], [0.1111111111111111, \"#46039f\"], [0.2222222222222222, \"#7201a8\"], [0.3333333333333333, \"#9c179e\"], [0.4444444444444444, \"#bd3786\"], [0.5555555555555556, \"#d8576b\"], [0.6666666666666666, \"#ed7953\"], [0.7777777777777778, \"#fb9f3a\"], [0.8888888888888888, \"#fdca26\"], [1.0, \"#f0f921\"]], \"type\": \"contour\"}], \"contourcarpet\": [{\"colorbar\": {\"outlinewidth\": 0, \"ticks\": \"\"}, \"type\": \"contourcarpet\"}], \"heatmap\": [{\"colorbar\": {\"outlinewidth\": 0, \"ticks\": \"\"}, \"colorscale\": [[0.0, \"#0d0887\"], [0.1111111111111111, \"#46039f\"], [0.2222222222222222, \"#7201a8\"], [0.3333333333333333, \"#9c179e\"], [0.4444444444444444, \"#bd3786\"], [0.5555555555555556, \"#d8576b\"], [0.6666666666666666, \"#ed7953\"], [0.7777777777777778, \"#fb9f3a\"], [0.8888888888888888, \"#fdca26\"], [1.0, \"#f0f921\"]], \"type\": \"heatmap\"}], \"heatmapgl\": [{\"colorbar\": {\"outlinewidth\": 0, \"ticks\": \"\"}, \"colorscale\": [[0.0, \"#0d0887\"], [0.1111111111111111, \"#46039f\"], [0.2222222222222222, \"#7201a8\"], [0.3333333333333333, \"#9c179e\"], [0.4444444444444444, \"#bd3786\"], [0.5555555555555556, \"#d8576b\"], [0.6666666666666666, \"#ed7953\"], [0.7777777777777778, \"#fb9f3a\"], [0.8888888888888888, \"#fdca26\"], [1.0, \"#f0f921\"]], \"type\": \"heatmapgl\"}], \"histogram\": [{\"marker\": {\"colorbar\": {\"outlinewidth\": 0, \"ticks\": \"\"}}, \"type\": \"histogram\"}], \"histogram2d\": [{\"colorbar\": {\"outlinewidth\": 0, \"ticks\": \"\"}, \"colorscale\": [[0.0, \"#0d0887\"], [0.1111111111111111, \"#46039f\"], [0.2222222222222222, \"#7201a8\"], [0.3333333333333333, \"#9c179e\"], [0.4444444444444444, \"#bd3786\"], [0.5555555555555556, \"#d8576b\"], [0.6666666666666666, \"#ed7953\"], [0.7777777777777778, \"#fb9f3a\"], [0.8888888888888888, \"#fdca26\"], [1.0, \"#f0f921\"]], \"type\": \"histogram2d\"}], \"histogram2dcontour\": [{\"colorbar\": {\"outlinewidth\": 0, \"ticks\": \"\"}, \"colorscale\": [[0.0, \"#0d0887\"], [0.1111111111111111, \"#46039f\"], [0.2222222222222222, \"#7201a8\"], [0.3333333333333333, \"#9c179e\"], [0.4444444444444444, \"#bd3786\"], [0.5555555555555556, \"#d8576b\"], [0.6666666666666666, \"#ed7953\"], [0.7777777777777778, \"#fb9f3a\"], [0.8888888888888888, \"#fdca26\"], [1.0, \"#f0f921\"]], \"type\": \"histogram2dcontour\"}], \"mesh3d\": [{\"colorbar\": {\"outlinewidth\": 0, \"ticks\": \"\"}, \"type\": \"mesh3d\"}], \"parcoords\": [{\"line\": {\"colorbar\": {\"outlinewidth\": 0, \"ticks\": \"\"}}, \"type\": \"parcoords\"}], \"pie\": [{\"automargin\": true, \"type\": \"pie\"}], \"scatter\": [{\"marker\": {\"colorbar\": {\"outlinewidth\": 0, \"ticks\": \"\"}}, \"type\": \"scatter\"}], \"scatter3d\": [{\"line\": {\"colorbar\": {\"outlinewidth\": 0, \"ticks\": \"\"}}, \"marker\": {\"colorbar\": {\"outlinewidth\": 0, \"ticks\": \"\"}}, \"type\": \"scatter3d\"}], \"scattercarpet\": [{\"marker\": {\"colorbar\": {\"outlinewidth\": 0, \"ticks\": \"\"}}, \"type\": \"scattercarpet\"}], \"scattergeo\": [{\"marker\": {\"colorbar\": {\"outlinewidth\": 0, \"ticks\": \"\"}}, \"type\": \"scattergeo\"}], \"scattergl\": [{\"marker\": {\"colorbar\": {\"outlinewidth\": 0, \"ticks\": \"\"}}, \"type\": \"scattergl\"}], \"scattermapbox\": [{\"marker\": {\"colorbar\": {\"outlinewidth\": 0, \"ticks\": \"\"}}, \"type\": \"scattermapbox\"}], \"scatterpolar\": [{\"marker\": {\"colorbar\": {\"outlinewidth\": 0, \"ticks\": \"\"}}, \"type\": \"scatterpolar\"}], \"scatterpolargl\": [{\"marker\": {\"colorbar\": {\"outlinewidth\": 0, \"ticks\": \"\"}}, \"type\": \"scatterpolargl\"}], \"scatterternary\": [{\"marker\": {\"colorbar\": {\"outlinewidth\": 0, \"ticks\": \"\"}}, \"type\": \"scatterternary\"}], \"surface\": [{\"colorbar\": {\"outlinewidth\": 0, \"ticks\": \"\"}, \"colorscale\": [[0.0, \"#0d0887\"], [0.1111111111111111, \"#46039f\"], [0.2222222222222222, \"#7201a8\"], [0.3333333333333333, \"#9c179e\"], [0.4444444444444444, \"#bd3786\"], [0.5555555555555556, \"#d8576b\"], [0.6666666666666666, \"#ed7953\"], [0.7777777777777778, \"#fb9f3a\"], [0.8888888888888888, \"#fdca26\"], [1.0, \"#f0f921\"]], \"type\": \"surface\"}], \"table\": [{\"cells\": {\"fill\": {\"color\": \"#EBF0F8\"}, \"line\": {\"color\": \"white\"}}, \"header\": {\"fill\": {\"color\": \"#C8D4E3\"}, \"line\": {\"color\": \"white\"}}, \"type\": \"table\"}]}, \"layout\": {\"annotationdefaults\": {\"arrowcolor\": \"#2a3f5f\", \"arrowhead\": 0, \"arrowwidth\": 1}, \"coloraxis\": {\"colorbar\": {\"outlinewidth\": 0, \"ticks\": \"\"}}, \"colorscale\": {\"diverging\": [[0, \"#8e0152\"], [0.1, \"#c51b7d\"], [0.2, \"#de77ae\"], [0.3, \"#f1b6da\"], [0.4, \"#fde0ef\"], [0.5, \"#f7f7f7\"], [0.6, \"#e6f5d0\"], [0.7, \"#b8e186\"], [0.8, \"#7fbc41\"], [0.9, \"#4d9221\"], [1, \"#276419\"]], \"sequential\": [[0.0, \"#0d0887\"], [0.1111111111111111, \"#46039f\"], [0.2222222222222222, \"#7201a8\"], [0.3333333333333333, \"#9c179e\"], [0.4444444444444444, \"#bd3786\"], [0.5555555555555556, \"#d8576b\"], [0.6666666666666666, \"#ed7953\"], [0.7777777777777778, \"#fb9f3a\"], [0.8888888888888888, \"#fdca26\"], [1.0, \"#f0f921\"]], \"sequentialminus\": [[0.0, \"#0d0887\"], [0.1111111111111111, \"#46039f\"], [0.2222222222222222, \"#7201a8\"], [0.3333333333333333, \"#9c179e\"], [0.4444444444444444, \"#bd3786\"], [0.5555555555555556, \"#d8576b\"], [0.6666666666666666, \"#ed7953\"], [0.7777777777777778, \"#fb9f3a\"], [0.8888888888888888, \"#fdca26\"], [1.0, \"#f0f921\"]]}, \"colorway\": [\"#636efa\", \"#EF553B\", \"#00cc96\", \"#ab63fa\", \"#FFA15A\", \"#19d3f3\", \"#FF6692\", \"#B6E880\", \"#FF97FF\", \"#FECB52\"], \"font\": {\"color\": \"#2a3f5f\"}, \"geo\": {\"bgcolor\": \"white\", \"lakecolor\": \"white\", \"landcolor\": \"#E5ECF6\", \"showlakes\": true, \"showland\": true, \"subunitcolor\": \"white\"}, \"hoverlabel\": {\"align\": \"left\"}, \"hovermode\": \"closest\", \"mapbox\": {\"style\": \"light\"}, \"paper_bgcolor\": \"white\", \"plot_bgcolor\": \"#E5ECF6\", \"polar\": {\"angularaxis\": {\"gridcolor\": \"white\", \"linecolor\": \"white\", \"ticks\": \"\"}, \"bgcolor\": \"#E5ECF6\", \"radialaxis\": {\"gridcolor\": \"white\", \"linecolor\": \"white\", \"ticks\": \"\"}}, \"scene\": {\"xaxis\": {\"backgroundcolor\": \"#E5ECF6\", \"gridcolor\": \"white\", \"gridwidth\": 2, \"linecolor\": \"white\", \"showbackground\": true, \"ticks\": \"\", \"zerolinecolor\": \"white\"}, \"yaxis\": {\"backgroundcolor\": \"#E5ECF6\", \"gridcolor\": \"white\", \"gridwidth\": 2, \"linecolor\": \"white\", \"showbackground\": true, \"ticks\": \"\", \"zerolinecolor\": \"white\"}, \"zaxis\": {\"backgroundcolor\": \"#E5ECF6\", \"gridcolor\": \"white\", \"gridwidth\": 2, \"linecolor\": \"white\", \"showbackground\": true, \"ticks\": \"\", \"zerolinecolor\": \"white\"}}, \"shapedefaults\": {\"line\": {\"color\": \"#2a3f5f\"}}, \"ternary\": {\"aaxis\": {\"gridcolor\": \"white\", \"linecolor\": \"white\", \"ticks\": \"\"}, \"baxis\": {\"gridcolor\": \"white\", \"linecolor\": \"white\", \"ticks\": \"\"}, \"bgcolor\": \"#E5ECF6\", \"caxis\": {\"gridcolor\": \"white\", \"linecolor\": \"white\", \"ticks\": \"\"}}, \"title\": {\"x\": 0.05}, \"xaxis\": {\"automargin\": true, \"gridcolor\": \"white\", \"linecolor\": \"white\", \"ticks\": \"\", \"title\": {\"standoff\": 15}, \"zerolinecolor\": \"white\", \"zerolinewidth\": 2}, \"yaxis\": {\"automargin\": true, \"gridcolor\": \"white\", \"linecolor\": \"white\", \"ticks\": \"\", \"title\": {\"standoff\": 15}, \"zerolinecolor\": \"white\", \"zerolinewidth\": 2}}}, \"title\": {\"text\": \"Teams with max points over years\"}, \"xaxis\": {\"title\": {\"text\": \"year\"}}, \"yaxis\": {\"title\": {\"text\": \"points gained\"}}},\n",
       "                        {\"responsive\": true}\n",
       "                    ).then(function(){\n",
       "                            \n",
       "var gd = document.getElementById('a0012fd2-1267-4d4b-b98c-c094079fac71');\n",
       "var x = new MutationObserver(function (mutations, observer) {{\n",
       "        var display = window.getComputedStyle(gd).display;\n",
       "        if (!display || display === 'none') {{\n",
       "            console.log([gd, 'removed!']);\n",
       "            Plotly.purge(gd);\n",
       "            observer.disconnect();\n",
       "        }}\n",
       "}});\n",
       "\n",
       "// Listen for the removal of the full notebook cells\n",
       "var notebookContainer = gd.closest('#notebook-container');\n",
       "if (notebookContainer) {{\n",
       "    x.observe(notebookContainer, {childList: true});\n",
       "}}\n",
       "\n",
       "// Listen for the clearing of the current output cell\n",
       "var outputEl = gd.closest('.output');\n",
       "if (outputEl) {{\n",
       "    x.observe(outputEl, {childList: true});\n",
       "}}\n",
       "\n",
       "                        })\n",
       "                };\n",
       "                });\n",
       "            </script>\n",
       "        </div>"
      ]
     },
     "metadata": {},
     "output_type": "display_data"
    }
   ],
   "source": [
    "seasons_pivot = season_stats[~(season_stats.Tm=='TOT')].pivot_table(index = 'Year', columns = 'Tm', values = 'PTS', aggfunc = sum).fillna(0).applymap(int)\n",
    "max_points_teams = seasons_pivot.idxmax(axis=1)\n",
    "max_points_num = seasons_pivot.max(axis=1)\n",
    "graph_data = pd.DataFrame([max_points_teams, max_points_num]).transpose()\n",
    "graph_data.columns = ['Team name','PTS']\n",
    "graph_data['Team name'].value_counts()\n",
    "\n",
    "trace0=go.Scatter(\n",
    "    x = graph_data.index,\n",
    "    y = graph_data.PTS,\n",
    "    mode='markers+text',\n",
    "    text = graph_data['Team name'],\n",
    "    textposition='bottom center'\n",
    ")\n",
    "data = [trace0]\n",
    "layout = {'title':'Teams with max points over years', 'xaxis':{'title':'year'}, 'yaxis':{'title':'points gained'}}\n",
    "fig = go.Figure(data=data, layout=layout)\n",
    "iplot(fig, show_link=False)"
   ]
  },
  {
   "cell_type": "code",
   "execution_count": null,
   "metadata": {},
   "outputs": [],
   "source": []
  }
 ],
 "metadata": {
  "kernelspec": {
   "display_name": "Python 3",
   "language": "python",
   "name": "python3"
  },
  "language_info": {
   "codemirror_mode": {
    "name": "ipython",
    "version": 3
   },
   "file_extension": ".py",
   "mimetype": "text/x-python",
   "name": "python",
   "nbconvert_exporter": "python",
   "pygments_lexer": "ipython3",
   "version": "3.7.6"
  }
 },
 "nbformat": 4,
 "nbformat_minor": 4
}
