{
 "cells": [
  {
   "cell_type": "markdown",
   "metadata": {},
   "source": [
    "Задание 1\n",
    "Напишите функцию date_range, которая возвращает список дней между датами start_date и end_date. Даты должны вводиться в формате YYYY-MM-DD.\n"
   ]
  },
  {
   "cell_type": "code",
   "execution_count": null,
   "metadata": {},
   "outputs": [],
   "source": [
    "from datetime import datetime\n",
    "from datetime import timedelta\n",
    "def date_range (start_date, end_date):\n",
    "    \"\"\"\n",
    "    Функция принимает значения дат в строках и возвращает\n",
    "    список строк, содержащих даты между ними\n",
    "    \"\"\"\n",
    "    current_date_dt = datetime.strptime(start_date, '%Y-%m-%d')\n",
    "    end_date_dt = datetime.strptime(end_date, '%Y-%m-%d')\n",
    "    current_date_dt += timedelta(days=1)\n",
    "    list_ = [current_date_dt.strftime('%Y-%m-%d')]\n",
    "    while current_date_dt < end_date_dt - timedelta (days=1):\n",
    "        current_date_dt += timedelta(days=1)\n",
    "        list_.append(current_date_dt.strftime('%Y-%m-%d'))\n",
    "    return list_\n",
    "\n",
    "date_range('2020-01-06','2020-02-14')"
   ]
  },
  {
   "cell_type": "markdown",
   "metadata": {},
   "source": [
    "Задание 2\n",
    "Дополните функцию из первого задания проверкой на корректность дат. В случае неверного формата или если start_date > end_date должен возвращаться пустой список."
   ]
  },
  {
   "cell_type": "code",
   "execution_count": null,
   "metadata": {},
   "outputs": [],
   "source": [
    "from datetime import datetime\n",
    "from datetime import timedelta\n",
    "def date_range (start_date, end_date):\n",
    "    \"\"\"\n",
    "    Функция принимает значения дат в строках и возвращает\n",
    "    список строк, содержащих даты между ними\n",
    "    \"\"\"\n",
    "    if(start_date>= end_date):\n",
    "        return []\n",
    "    try:\n",
    "        current_date_dt = datetime.strptime(start_date, '%Y-%m-%d')\n",
    "        end_date_dt = datetime.strptime(end_date, '%Y-%m-%d')\n",
    "        current_date_dt += timedelta(days=1)\n",
    "        list_ = [current_date_dt.strftime('%Y-%m-%d')]\n",
    "        while current_date_dt < end_date_dt - timedelta (days=1):\n",
    "            current_date_dt += timedelta(days=1)\n",
    "            list_.append(current_date_dt.strftime('%Y-%m-%d'))\n",
    "        return list_\n",
    "    except ValueError:\n",
    "        print ('Wrong date format!')\n",
    "        return []\n",
    "\n",
    "print (date_range('2020-01-06','2020-01-08'))\n",
    "print (date_range('2020-01-09','2020-01-08'))\n",
    "print (date_range('2020-01-01','2020-01-32'))"
   ]
  },
  {
   "cell_type": "markdown",
   "metadata": {},
   "source": [
    "Задание 3\n",
    "Дан поток дат в формате YYYY-MM-DD, в которых встречаются некорректные значения:\n",
    "stream = ['2018-04-02', '2018-02-29', '2018-19-02']\n",
    "\n",
    "Напишите функцию, которая проверяет эти даты на корректность. Т. е. для каждой даты возвращает True (дата корректна) или False (некорректная дата). "
   ]
  },
  {
   "cell_type": "code",
   "execution_count": null,
   "metadata": {},
   "outputs": [],
   "source": [
    "from datetime import datetime\n",
    "def date_correctness(dates_list):\n",
    "    \"\"\"\n",
    "    Функция принимает список строк с датами\n",
    "    в формате YYYY-MM-DD, возвращает список\n",
    "    из значений True/False для каждой даты\n",
    "    \"\"\"\n",
    "    boolean_list = []\n",
    "    for s in dates_list:\n",
    "        try:\n",
    "            datetime.strptime(s, '%Y-%m-%d')\n",
    "            boolean_list.append(True)\n",
    "        except ValueError:\n",
    "            boolean_list.append(False)\n",
    "    return boolean_list\n",
    "        \n",
    "stream = ['2018-04-02', '2018-02-29', '2018-19-02']\n",
    "date_correctness(stream)\n",
    "    "
   ]
  },
  {
   "cell_type": "markdown",
   "metadata": {},
   "source": [
    "Задание 4\n",
    "Напишите функцию, которая возвращает список дат с 1 по вчерашний день текущего месяца. Если дан 1 день месяца, то возвращается список дней прошлого месяца."
   ]
  },
  {
   "cell_type": "code",
   "execution_count": null,
   "metadata": {},
   "outputs": [],
   "source": [
    "from datetime import datetime\n",
    "from datetime import timedelta\n",
    "\n",
    "def dates_list_current_month(date):\n",
    "    \"\"\"\n",
    "    Функция возвращает список дат с 1 дня 'текущего' месяца\n",
    "    по 'вчерашний' день в виде списка строк\n",
    "    Если date - первый день месяца, то возвращается список дней прошлого месяца.\n",
    "    Если date некорректна, возвращается пустая строка.\n",
    "    date - строка вида YYYY-MM-DD\n",
    "    \"\"\"\n",
    "    dates_list = []\n",
    "    if(date_correctness([date])[0]):\n",
    "        date_dt = datetime.strptime(date, '%Y-%m-%d')\n",
    "        if(date_dt.day == 1):\n",
    "            num_month= date_dt.month\n",
    "            if(num_month == 1):\n",
    "                c_date_dt = date_dt.replace(month=12, year = date_dt.year-1)\n",
    "            else:\n",
    "                c_date_dt = date_dt.replace(month=num_month-1)             \n",
    "        else:\n",
    "            c_date_dt = date_dt.replace(day = 1)\n",
    "            \n",
    "        while c_date_dt<date_dt:\n",
    "            dates_list.append(c_date_dt.strftime('%Y-%m-%d'))\n",
    "            c_date_dt+=timedelta(days=1)\n",
    "        return dates_list\n",
    "                \n",
    "    else:\n",
    "        return dates_list\n",
    "print ('Simple case:')\n",
    "print (dates_list_current_month('2020-05-11'))\n",
    "print ('First day case:')\n",
    "print (dates_list_current_month('2020-05-01'))\n",
    "print ('First day of jan case:')\n",
    "print (dates_list_current_month('2020-01-01'))\n",
    "print ('Wrong data case:')\n",
    "print (dates_list_current_month('2020-20-01'))\n",
    "    "
   ]
  },
  {
   "cell_type": "markdown",
   "metadata": {},
   "source": [
    "Задание 5\n",
    "Напишите функцию, которая возвращает точную дату в формате YYYY-MM-DD по фразе:\n",
    "1. 'today' - сегодняшнюю дату\n",
    "2. 'last monday' -  прошлый понедельник\n",
    "3. 'last day' - Последний день текущего месяца"
   ]
  },
  {
   "cell_type": "code",
   "execution_count": null,
   "metadata": {},
   "outputs": [],
   "source": [
    "from datetime import datetime\n",
    "from datetime import timedelta\n",
    "from datetime import date\n",
    "def date_from_keyphrase(key):\n",
    "    \"\"\"\n",
    "    Функция, которая возвращает точную дату в формате YYYY-MM-DD по фразе:\n",
    "    'today' - сегодняшнюю дату\n",
    "    'last monday' - прошлый понедельник\n",
    "    'last day' - Последний день текущего месяца\n",
    "    \"\"\"\n",
    "    #dt_date = date.today()\n",
    "    if key == 'today':\n",
    "        dt_date = date.today()\n",
    "    elif key == 'last monday':\n",
    "        dt_date = date.today()\n",
    "        if(dt_date.weekday() == 0):\n",
    "            dt_date -= timedelta(days=7)\n",
    "        else:\n",
    "            while dt_date.weekday()>0:\n",
    "                dt_date -= timedelta(days=1)\n",
    "    elif key == 'last day':\n",
    "        dt_date = date.today()\n",
    "        dt_date = dt_date.replace(month = dt_date.month+1, day = 1) - timedelta(days=1)\n",
    "    else:\n",
    "        dt_date = date(1992,10,26)\n",
    "    return dt_date.strftime('%Y-%m-%d')\n",
    "\n",
    "print (date_from_keyphrase('today'))\n",
    "print (date_from_keyphrase('last monday'))\n",
    "print (date_from_keyphrase('last day'))\n",
    "print (date_from_keyphrase('wut'))\n",
    "\n"
   ]
  },
  {
   "cell_type": "markdown",
   "metadata": {},
   "source": [
    "Задание 6\n",
    "Напишите функцию, которая разбивает на недели с понедельника по воскресенье интервал дат между start_date и end_date. Считайте, что входные данные всегда корректны. В ответ должны входить только полные недели."
   ]
  },
  {
   "cell_type": "code",
   "execution_count": 13,
   "metadata": {},
   "outputs": [
    {
     "name": "stdout",
     "output_type": "stream",
     "text": [
      "Full weeks from 06 to 19 of October, 1992\n",
      "[['1992-10-12', '1992-10-13', '1992-10-14', '1992-10-15', '1992-10-16', '1992-10-17', '1992-10-18']]\n",
      "Full weeks from 01 to 10 of October, 1992\n",
      "[]\n",
      "Full weeks from 03 to 29 of October, 1992\n",
      "[['1992-10-05', '1992-10-06', '1992-10-07', '1992-10-08', '1992-10-09', '1992-10-10', '1992-10-11'], ['1992-10-12', '1992-10-13', '1992-10-14', '1992-10-15', '1992-10-16', '1992-10-17', '1992-10-18'], ['1992-10-19', '1992-10-20', '1992-10-21', '1992-10-22', '1992-10-23', '1992-10-24', '1992-10-25']]\n"
     ]
    }
   ],
   "source": [
    "from datetime import datetime\n",
    "from datetime import timedelta\n",
    "from datetime import date\n",
    "\n",
    "def full_weeks_list(start_date, end_date):\n",
    "    \"\"\"\n",
    "    Функция возвращает список из недель, причём неделя всегда полная.\n",
    "    Предполагается, что start_date, end_date - корректные даты\n",
    "    \"\"\"\n",
    "    weeks_ = []\n",
    "    start_date_dt = datetime.strptime(start_date, '%Y-%m-%d')\n",
    "    end_date_dt = datetime.strptime(end_date,'%Y-%m-%d')\n",
    "    delta = start_date_dt - end_date_dt \n",
    "    if(delta.days>-7):\n",
    "        return weeks_\n",
    "    else:\n",
    "        weeks_start = start_date_dt\n",
    "        while (weeks_start.weekday() != 0):\n",
    "            weeks_start += timedelta(days = 1)\n",
    "        weeks_end = end_date_dt\n",
    "        while (weeks_end.weekday()!=6):\n",
    "            weeks_end -= timedelta(days = 1)\n",
    "        if(weeks_start>weeks_end):\n",
    "            return weeks_\n",
    "        weeks_w = weeks_start\n",
    "        weeks_list = []\n",
    "        i = 0\n",
    "        while weeks_w <=weeks_end:\n",
    "            if (i==0):\n",
    "                weeks_list.clear()\n",
    "                i+=1\n",
    "            weeks_list.append(weeks_w.strftime('%Y-%m-%d'))\n",
    "            if weeks_w.weekday() == 6:\n",
    "                i=0\n",
    "                weeks_.append(weeks_list.copy())\n",
    "            weeks_w += timedelta(days=1)   \n",
    "        return weeks_\n",
    "print ('Full weeks from 06 to 19 of October, 1992')\n",
    "print (full_weeks_list('1992-10-06', '1992-10-19'))\n",
    "print ('Full weeks from 01 to 10 of October, 1992')\n",
    "print (full_weeks_list('1992-10-01', '1992-10-10'))\n",
    "print ('Full weeks from 03 to 29 of October, 1992')\n",
    "print (full_weeks_list('1992-10-03', '1992-10-29'))\n"
   ]
  },
  {
   "cell_type": "code",
   "execution_count": null,
   "metadata": {},
   "outputs": [],
   "source": []
  }
 ],
 "metadata": {
  "kernelspec": {
   "display_name": "Python 3",
   "language": "python",
   "name": "python3"
  },
  "language_info": {
   "codemirror_mode": {
    "name": "ipython",
    "version": 3
   },
   "file_extension": ".py",
   "mimetype": "text/x-python",
   "name": "python",
   "nbconvert_exporter": "python",
   "pygments_lexer": "ipython3",
   "version": "3.7.6"
  }
 },
 "nbformat": 4,
 "nbformat_minor": 4
}
