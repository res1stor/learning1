{
 "cells": [
  {
   "cell_type": "markdown",
   "metadata": {},
   "source": [
    "Списки и строки –одни из важных начальных понятий для любого дата сайентиста,поскольку на знании принципов работы с ними строится работа с препроцессингоми обработкой данных в python в целоми работы с модулем pandas в частности:\n"
   ]
  },
  {
   "cell_type": "markdown",
   "metadata": {},
   "source": [
    "1.Дан произвольный список, содержащий только числа.Выведите результат сложения всех чисел больше 10"
   ]
  },
  {
   "cell_type": "code",
   "execution_count": 10,
   "metadata": {},
   "outputs": [
    {
     "name": "stdout",
     "output_type": "stream",
     "text": [
      "[25, 13, 265, 2312, 123, 5435, 345, 231, 123, 123, 6645, 3453, 435, 3432]\n"
     ]
    },
    {
     "data": {
      "text/plain": [
       "22960"
      ]
     },
     "execution_count": 10,
     "metadata": {},
     "output_type": "execute_result"
    }
   ],
   "source": [
    "random_list = [5,6, 25, 13, 265, 2312,123, 5435, 345, 6,9, 231, 123, 123, 6645, 3453, 435, 3432]\n",
    "print([num for num in random_list if num>10])\n",
    "sum([num for num in random_list if num>10])"
   ]
  },
  {
   "cell_type": "markdown",
   "metadata": {},
   "source": [
    "2.Пусть задан список, содержащий строки.Выведите все строки, заканчивающиеся буквой r."
   ]
  },
  {
   "cell_type": "code",
   "execution_count": 12,
   "metadata": {},
   "outputs": [
    {
     "data": {
      "text/plain": [
       "['cadabr', 'var', 'her']"
      ]
     },
     "execution_count": 12,
     "metadata": {},
     "output_type": "execute_result"
    }
   ],
   "source": [
    "string_list = ['abra', 'cadabr', 'kreks', 'peks', 'feks', 'var', 'joint', 'her', 'why']\n",
    "[string for string in string_list if string.endswith('r')]"
   ]
  },
  {
   "cell_type": "markdown",
   "metadata": {},
   "source": [
    "3.Сгенерируйте и выведите cлучайную строку размером 6 символов, содержащую только цифры. Строка должна содержать хотя бы одну цифру 3."
   ]
  },
  {
   "cell_type": "code",
   "execution_count": 73,
   "metadata": {},
   "outputs": [
    {
     "data": {
      "text/plain": [
       "'469536'"
      ]
     },
     "execution_count": 73,
     "metadata": {},
     "output_type": "execute_result"
    }
   ],
   "source": [
    "import random\n",
    "#Через списки\n",
    "list_of_ints = []\n",
    "for i in range(6):\n",
    "    list_of_ints.append(random.randint(0,9))\n",
    "if ~(3 in list_of_ints):\n",
    "    list_of_ints[random.randint(0,5)]=3\n",
    "out_str = ''\n",
    "for int_ in list_of_ints:\n",
    "    out_str = out_str+str(int_)\n",
    "\n",
    "\n",
    "    \n",
    "#Более чистый вариант\n",
    "out_str = ''\n",
    "for i in range(6):\n",
    "    out_str += str(random.randint(0,9))\n",
    "if ~('3' in out_str):\n",
    "    out_str = out_str.replace(out_str[random.randint(0,5)], '3')\n",
    "out_str\n"
   ]
  },
  {
   "cell_type": "markdown",
   "metadata": {},
   "source": [
    "4.Пусть дана строка произвольной длины. Выведите информацию о том,сколько в ней символов и сколько слов."
   ]
  },
  {
   "cell_type": "code",
   "execution_count": 89,
   "metadata": {},
   "outputs": [
    {
     "name": "stdout",
     "output_type": "stream",
     "text": [
      "symbols: 58  words: 7 \n"
     ]
    }
   ],
   "source": [
    "random_string = 'sbdka sdnadn sdnadnond sdnadni dnasndoa djksadk dnsandjksa'\n",
    "words = len(random_string.split(' '))\n",
    "print (f'symbols: {len(random_string):1}  words: {words:1} ')"
   ]
  },
  {
   "cell_type": "markdown",
   "metadata": {},
   "source": [
    "Матрицы-следующее за списками и строками важное понятие.Широко используется в линейной алгебре.Находит свое применение в современных рекомендательных системах и архитектуре нейронных сетей:"
   ]
  },
  {
   "cell_type": "markdown",
   "metadata": {},
   "source": [
    "1.Пусть дана матрица чисел размером NхN. Представьте данную матрицу ввиде списка. Выведите результат сложения всех элементов матрицы."
   ]
  },
  {
   "cell_type": "code",
   "execution_count": 111,
   "metadata": {},
   "outputs": [
    {
     "data": {
      "text/plain": [
       "-4.567536264367188"
      ]
     },
     "execution_count": 111,
     "metadata": {},
     "output_type": "execute_result"
    }
   ],
   "source": [
    "import numpy as np\n",
    "N=5\n",
    "matrix = np.random.randn(N,N)\n",
    "list_ = matrix.tolist()\n",
    "sum([sum(f) for f in list_])"
   ]
  },
  {
   "cell_type": "markdown",
   "metadata": {},
   "source": [
    "2.Пусть дана матрица чисел размером NхM. Найти столбец матрицы с максимальной суммой элементов."
   ]
  },
  {
   "cell_type": "code",
   "execution_count": 129,
   "metadata": {},
   "outputs": [
    {
     "name": "stdout",
     "output_type": "stream",
     "text": [
      "[[-0.07232547  0.19717196  0.71846196 -1.66993121  2.40472192]\n",
      " [-0.77036856 -0.72095932 -2.09677669 -0.03781062 -0.22542008]\n",
      " [ 0.19555219  0.27083065 -0.44656541  0.05169683 -1.93894245]]\n",
      "[-0.6471418484230893, -0.252956712451672, -1.824880150574956, -1.656044999576664, 0.2403593858267974]\n",
      "4\n"
     ]
    }
   ],
   "source": [
    "import numpy as np\n",
    "N=3\n",
    "M=5\n",
    "matrix1 = np.random.randn(N,M)\n",
    "print(matrix1)\n",
    "sums=([sum(row) for row in matrix1.transpose()])\n",
    "print(sums)\n",
    "print (sums.index(max(sums)))"
   ]
  },
  {
   "cell_type": "markdown",
   "metadata": {},
   "source": [
    "Работа с динамичными структурами важная часть в имплементации вашего кода в продакшн-систему:"
   ]
  },
  {
   "cell_type": "markdown",
   "metadata": {},
   "source": [
    "1.Пусть список студентов представлен в виде структуры [[No, ФИО, Возраст,Группа],[No, ФИО, Возраст, Группа],[No, ФИО, Возраст, Группа]]. Преобразуйте список в словарь вида: {No: [ФИО, Возраст, Группа], No:[....], No: [....]}"
   ]
  },
  {
   "cell_type": "code",
   "execution_count": 137,
   "metadata": {},
   "outputs": [],
   "source": [
    "students = [[1,'Ivanov Ivan Ivanovich',19,1054],[2,'Smirnov Petr Ivanovich',18,1025],[3,'Aleskeev Luka Fomich',23,5054]]\n",
    "students_mod = [[s[0],[s[1],s[2],s[3]]] for s in students]\n",
    "students_dict = dict(students_mod)"
   ]
  },
  {
   "cell_type": "markdown",
   "metadata": {},
   "source": [
    "2.Добавьте к задаче №1 для словаря возможность (без преобразования словаря обратно в список) изменить группу студента. Поиск по «ФИО» («ФИО» студента и новый номер группы необходимо ввести с клавиатуры)."
   ]
  },
  {
   "cell_type": "code",
   "execution_count": 152,
   "metadata": {},
   "outputs": [
    {
     "data": {
      "text/plain": [
       "{1: ['Ivanov Ivan Ivanovich', 19, 1054],\n",
       " 2: ['Smirnov Petr Ivanovich', 18, 2054],\n",
       " 3: ['Aleskeev Luka Fomich', 23, 5054]}"
      ]
     },
     "execution_count": 152,
     "metadata": {},
     "output_type": "execute_result"
    }
   ],
   "source": [
    "fio = 'Smirnov Petr Ivanovich'\n",
    "new_group = 2054\n",
    "for s in students_dict.items():\n",
    "    if fio in s[1]:\n",
    "        s[1][2] = new_group\n",
    "students_dict"
   ]
  },
  {
   "cell_type": "markdown",
   "metadata": {},
   "source": [
    "3.Добавьте к задаче №1 для словаря возможность (без преобразования словаря обратно в список) изменить возраст студента."
   ]
  },
  {
   "cell_type": "code",
   "execution_count": 153,
   "metadata": {},
   "outputs": [
    {
     "data": {
      "text/plain": [
       "{1: ['Ivanov Ivan Ivanovich', 19, 1054],\n",
       " 2: ['Smirnov Petr Ivanovich', 21, 2054],\n",
       " 3: ['Aleskeev Luka Fomich', 23, 5054]}"
      ]
     },
     "execution_count": 153,
     "metadata": {},
     "output_type": "execute_result"
    }
   ],
   "source": [
    "fio = 'Smirnov Petr Ivanovich'\n",
    "new_age = 21\n",
    "for s in students_dict.items():\n",
    "    if fio in s[1]:\n",
    "        s[1][1] = new_age\n",
    "students_dict"
   ]
  },
  {
   "cell_type": "code",
   "execution_count": null,
   "metadata": {},
   "outputs": [],
   "source": []
  }
 ],
 "metadata": {
  "kernelspec": {
   "display_name": "Python 3",
   "language": "python",
   "name": "python3"
  },
  "language_info": {
   "codemirror_mode": {
    "name": "ipython",
    "version": 3
   },
   "file_extension": ".py",
   "mimetype": "text/x-python",
   "name": "python",
   "nbconvert_exporter": "python",
   "pygments_lexer": "ipython3",
   "version": "3.7.6"
  }
 },
 "nbformat": 4,
 "nbformat_minor": 4
}
