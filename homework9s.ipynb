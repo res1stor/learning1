{
 "cells": [
  {
   "cell_type": "markdown",
   "metadata": {},
   "source": [
    "1. Классический теорвер"
   ]
  },
  {
   "cell_type": "markdown",
   "metadata": {},
   "source": [
    "1. На шахматной доске размером n x n случайно размещают n ладей. Найти вероятности:\n",
    "а) А = {Ладьи не бьют друг друга}\n",
    "б) В=  {Ладьи не бьют друг друга и на главной диагонали нет никаких фигур}"
   ]
  },
  {
   "cell_type": "code",
   "execution_count": 10,
   "metadata": {},
   "outputs": [
    {
     "data": {
      "text/plain": [
       "(36, 504, 0.07142857142857142)"
      ]
     },
     "execution_count": 10,
     "metadata": {},
     "output_type": "execute_result"
    }
   ],
   "source": [
    "#А - ставим первую ладью, она занимает какую-то линию и какую-то вертикаль. Всего n^2 вариантов размещения \n",
    "#Тогда другая ладья, следующая, имеет уже n-1 вариантов для линии и n-1 вариантов для вертикалей, всего - (n-1*n-1) размещения. \n",
    "#Последнияя ладья будет иметь ровно 1 вариант размещения, таким образом, количество возможных вариантов - ((n-1)!)^2\n",
    "#общее же количество возможных размещений n фигур - (n*n*(n*n-1)*...*(n*n-n)) = (n*n)!/(n*n-1)!\n",
    "#исходя из этого и строится вероятность - (n)!^2/(n^3 - sum(0,n))\n",
    "#В - получается, что первая ладья имеет уже n^2-n вариантов размещения, следующая за ней - (n-1)^2 - (n-1), и так далее. \n",
    "#Всего - (n*n-1)((n-1)*(n-2))*((n-2)*(n-3))...*(1*0), то есть вероятность такого исхода-нулевая.\n",
    "#проверка для n = 3:\n",
    "from math import factorial\n",
    "n=3\n",
    "good_postiions = (factorial(n))**2\n",
    "all_positions = int(factorial(n**2)/factorial(n*(n-1)))\n",
    "good_postiions, all_positions, good_postiions/all_positions"
   ]
  },
  {
   "cell_type": "markdown",
   "metadata": {},
   "source": [
    "2. Брошено 3 кубика. Найти вероятность, что на всех кубиках выпала шестёрка при условии, что \n",
    "а)По крайней мере на одной кости выпала шестёрка\n",
    "б)По крайней мере на двух костях выпало равное количество очков"
   ]
  },
  {
   "cell_type": "code",
   "execution_count": null,
   "metadata": {},
   "outputs": [],
   "source": [
    "#а) Задачка на условную вероятность. \n"
   ]
  },
  {
   "cell_type": "code",
   "execution_count": null,
   "metadata": {},
   "outputs": [],
   "source": []
  },
  {
   "cell_type": "code",
   "execution_count": null,
   "metadata": {},
   "outputs": [],
   "source": []
  },
  {
   "cell_type": "code",
   "execution_count": null,
   "metadata": {},
   "outputs": [],
   "source": []
  },
  {
   "cell_type": "code",
   "execution_count": null,
   "metadata": {},
   "outputs": [],
   "source": []
  }
 ],
 "metadata": {
  "kernelspec": {
   "display_name": "Python 3",
   "language": "python",
   "name": "python3"
  },
  "language_info": {
   "codemirror_mode": {
    "name": "ipython",
    "version": 3
   },
   "file_extension": ".py",
   "mimetype": "text/x-python",
   "name": "python",
   "nbconvert_exporter": "python",
   "pygments_lexer": "ipython3",
   "version": "3.7.6"
  }
 },
 "nbformat": 4,
 "nbformat_minor": 4
}
