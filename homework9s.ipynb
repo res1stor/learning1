{
 "cells": [
  {
   "cell_type": "markdown",
   "metadata": {},
   "source": [
    "1. Классический теорвер"
   ]
  },
  {
   "cell_type": "markdown",
   "metadata": {},
   "source": [
    "1. На шахматной доске размером n x n случайно размещают n ладей. Найти вероятности:\n",
    "а) А = {Ладьи не бьют друг друга}\n",
    "б) В=  {Ладьи не бьют друг друга и на главной диагонали нет никаких фигур}"
   ]
  },
  {
   "cell_type": "code",
   "execution_count": 10,
   "metadata": {},
   "outputs": [
    {
     "data": {
      "text/plain": [
       "(36, 504, 0.07142857142857142)"
      ]
     },
     "execution_count": 10,
     "metadata": {},
     "output_type": "execute_result"
    }
   ],
   "source": [
    "#А - ставим первую ладью, она занимает какую-то линию и какую-то вертикаль. Всего n^2 вариантов размещения \n",
    "#Тогда другая ладья, следующая, имеет уже n-1 вариантов для линии и n-1 вариантов для вертикалей, всего - (n-1*n-1) размещения. \n",
    "#Последнияя ладья будет иметь ровно 1 вариант размещения, таким образом, количество возможных вариантов - ((n-1)!)^2\n",
    "#общее же количество возможных размещений n фигур - (n*n*(n*n-1)*...*(n*n-n)) = (n*n)!/(n*n-1)!\n",
    "#исходя из этого и строится вероятность - (n)!^2/(n^3 - sum(0,n))\n",
    "#В - получается, что первая ладья имеет уже n^2-n вариантов размещения, следующая за ней - (n-1)^2 - (n-1), и так далее. \n",
    "#Всего - (n*n-1)((n-1)*(n-2))*((n-2)*(n-3))...*(1*0), то есть вероятность такого исхода-нулевая.\n",
    "#проверка для n = 3:\n",
    "from math import factorial\n",
    "n=3\n",
    "good_postiions = (factorial(n))**2\n",
    "all_positions = int(factorial(n**2)/factorial(n*(n-1)))\n",
    "good_postiions, all_positions, good_postiions/all_positions"
   ]
  },
  {
   "cell_type": "markdown",
   "metadata": {},
   "source": [
    "2. Брошено 3 кубика. Найти вероятность, что на всех кубиках выпала шестёрка при условии, что \n",
    "а)По крайней мере на одной кости выпала шестёрка\n",
    "б)По крайней мере на двух костях выпало равное количество очков"
   ]
  },
  {
   "cell_type": "code",
   "execution_count": null,
   "metadata": {},
   "outputs": [],
   "source": [
    "#а) Задачка на условную вероятность. \n",
    "#Событие А - на всех кубиках выпала шестёрка, событие Б - по крайней мере, на одной кости выпала шестёрка.\n",
    "#По определению, Р(А\\Б) = Р(А и Б)/Р(Б). Вероятность А равна вероятности А и Б, \n",
    "#так как выпадение шестёрки на всех кубиках включает в себя выпадение шестёрки хотя бы на одном кубике. \n",
    "#Вероятность А, таким образом = (1/6)^3. Вероятность события Б - хотя бы на одном кубике выпала шестёрка - 1/6. \n",
    "#Таким образом, вероятность события  А при условии Б - 1/36.\n",
    "\n",
    "#б) то же самое, в принципе. Вероятность А - 1/6^3, вероятность А и Б - равна вероятности А, \n",
    "#так как одновременное выполнение условий А и Б возможно только в случае, когда 6ка выпадает 3 раза (т.е. условие А)\n",
    "#Вероятность Б- 6/36 = 1/6. Тогда вероятность события А при условии Б также составляет 1/36."
   ]
  },
  {
   "cell_type": "markdown",
   "metadata": {},
   "source": [
    "3. В некоторой популяции до 60 лет доживает 50%, а до 80 лет - 20%. Какова вероятность, что случайно выбранный 60-летний доживет до 80?"
   ]
  },
  {
   "cell_type": "code",
   "execution_count": null,
   "metadata": {},
   "outputs": [],
   "source": [
    "#Вероятность дожить до 80ти включает в себя вероятность дожить до 60ти. \n",
    "#Пускай А - до 60, Б - до 80.  По формуле Байеса, Р(А|Б) = Р(Б|А)Р(А)/Р(Б). \n",
    "#Р(Б|А) - условная вероятность дожить до 80ти, при условии, что уже дожил до 60ти, \n",
    "#эта вероятность по определению равна Р(Б\\А) = Р(А и Б)/Р(А). \n",
    "#Р(А и Б) - вроятность дожить до 60 и до 80, очевидно равна вероятности дожить до 80. \n",
    "#Тогда Р(Б|А) = 0.2/0.5 =  0.4,  Р(А|Б) = 0.4*0.5|0.2 = 0.25"
   ]
  },
  {
   "cell_type": "markdown",
   "metadata": {},
   "source": [
    "4. На заводе обуви производится 3 типа моделей. Вероятность того, что 1 модель бракованая - 0.1, 2 модель - 0.2, 3 модель-0.15. Соотношение моделей на складе 40:30:30. Какова вероятност того, что...:\n",
    "а) Случайно выбраная пара обуви - бракованая?\n",
    "б) Выбранная бракованая пара обуви окажется 2 модели?"
   ]
  },
  {
   "cell_type": "code",
   "execution_count": 3,
   "metadata": {},
   "outputs": [
    {
     "name": "stdout",
     "output_type": "stream",
     "text": [
      "0.14500000000000002\n",
      "0.09666666666666669\n"
     ]
    }
   ],
   "source": [
    "#а) случайно выбраная пара обуви - бракованая. Эта задачка на полную вероятность:\n",
    "#вероятность, что выбрана пара 1 - 0.4, 2 - 0.3, 3 - 0.3; (события А1,А2,А3)\n",
    "#вероятность,что выбрана бракованая пара - событие Б. Веротяность, что n-ная модель бракованая - Р(Аn|Б).\n",
    "#По формуле полной вероятности: Р(Б) = сумма(Р(Аn|Б)Р(А)), то есть вероятность такова:\n",
    "print(0.4*0.1+0.2*0.3+0.15*0.3)\n",
    "\n",
    "\"\"\"\n",
    "б) - теперь нам нужно найти условие Р(Б|А2) = Р(А2|Б)*Р(Б)/Р(А2). Все эти вероятности нам уже известны \n",
    "(Р(Б) известна из предыдущего пункта:\n",
    "\"\"\"\n",
    "print(0.2*(0.4*0.1+0.2*0.3+0.15*0.3)/0.3)"
   ]
  },
  {
   "cell_type": "markdown",
   "metadata": {},
   "source": [
    "Часть 2. Распределения\n",
    "Вопрос 1. Что можно моделировать с помощью распределения Пуассона?\n",
    "а)Результат выпадения симметричного 6-гранного кубика\n",
    "б)Кол-во людей в очереди в кассу супермаркета\n",
    "в)Количество изюма в булочках с изюмом\n",
    "г)Число попаданий в кольцо за опред. кол-во попыток\n",
    "д)Точное время прихода на работу\n"
   ]
  },
  {
   "cell_type": "code",
   "execution_count": null,
   "metadata": {},
   "outputs": [],
   "source": [
    "\"\"\"\n",
    "а) нет\n",
    "б)да\n",
    "в)да\n",
    "г)да\n",
    "д)да, при условии сильной дискретизации времени\n",
    "\"\"\""
   ]
  },
  {
   "cell_type": "markdown",
   "metadata": {},
   "source": [
    "Вопрос 2. Постройте графики плотностей вероятности и функций распределения для распределения Пуассона, экспоненциального распределения и третьего любого на выбор. Изобразить на 1м графике, подписать оси, поиграть с параметрами."
   ]
  },
  {
   "cell_type": "code",
   "execution_count": 31,
   "metadata": {},
   "outputs": [
    {
     "data": {
      "text/plain": [
       "<matplotlib.legend.Legend at 0x7ff2c66be790>"
      ]
     },
     "execution_count": 31,
     "metadata": {},
     "output_type": "execute_result"
    },
    {
     "data": {
      "image/png": "[encoded data removed]",
      "text/plain": [
       "<Figure size 432x288 with 1 Axes>"
      ]
     },
     "metadata": {
      "needs_background": "light"
     },
     "output_type": "display_data"
    }
   ],
   "source": [
    "import scipy.stats as sts\n",
    "import matplotlib.pyplot as plt\n",
    "import numpy as np\n",
    "%matplotlib inline\n",
    "mu = 10\n",
    "poisson = sts.poisson(mu=mu)\n",
    "expon = sts.expon()\n",
    "pareto = sts.pareto(1.05)\n",
    "x = np.linspace(0, 20, 1000)\n",
    "x_int = np.linspace(0,20,21)\n",
    "poisson_cdf = poisson.cdf(x_int)\n",
    "epxon_cdf = expon.cdf(x)\n",
    "pareto_cdf = pareto.cdf(x)\n",
    "plt.plot(x_int, poisson_cdf, 'o')\n",
    "plt.plot(x, epxon_cdf)\n",
    "plt.plot(x,pareto_cdf)\n",
    "plt.legend(['poisson', 'expon', 'pareto'])"
   ]
  },
  {
   "cell_type": "code",
   "execution_count": 38,
   "metadata": {},
   "outputs": [
    {
     "data": {
      "text/plain": [
       "[<matplotlib.lines.Line2D at 0x7ff2c63ad350>]"
      ]
     },
     "execution_count": 38,
     "metadata": {},
     "output_type": "execute_result"
    },
    {
     "data": {
      "image/png": "[encoded data removed]",
      "text/plain": [
       "<Figure size 432x288 with 1 Axes>"
      ]
     },
     "metadata": {
      "needs_background": "light"
     },
     "output_type": "display_data"
    }
   ],
   "source": [
    "poisson_pdf = poisson.pmf(x_int)\n",
    "epxon_pdf = expon.pdf(x)\n",
    "pareto_pdf = pareto.pdf(x)\n",
    "plt.plot(x_int, poisson_pdf, 'o')\n",
    "plt.plot(x, epxon_pdf)\n",
    "plt.plot(x,pareto_pdf)"
   ]
  },
  {
   "cell_type": "code",
   "execution_count": null,
   "metadata": {},
   "outputs": [],
   "source": []
  }
 ],
 "metadata": {
  "kernelspec": {
   "display_name": "Python 3",
   "language": "python",
   "name": "python3"
  },
  "language_info": {
   "codemirror_mode": {
    "name": "ipython",
    "version": 3
   },
   "file_extension": ".py",
   "mimetype": "text/x-python",
   "name": "python",
   "nbconvert_exporter": "python",
   "pygments_lexer": "ipython3",
   "version": "3.7.6"
  }
 },
 "nbformat": 4,
 "nbformat_minor": 4
}
