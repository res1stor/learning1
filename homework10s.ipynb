{
 "cells": [
  {
   "cell_type": "markdown",
   "metadata": {},
   "source": [
    "# Домашняя работа №2"
   ]
  },
  {
   "cell_type": "code",
   "execution_count": 1,
   "metadata": {},
   "outputs": [],
   "source": [
    "import pandas as pd\n",
    "from scipy import stats\n",
    "import numpy as np\n",
    "\n",
    "import seaborn as sns\n",
    "from sklearn import datasets\n",
    "from matplotlib import pyplot as plt\n",
    "from statsmodels.distributions.empirical_distribution import ECDF"
   ]
  },
  {
   "cell_type": "markdown",
   "metadata": {},
   "source": [
    "## Генеральная совокупность и выборка"
   ]
  },
  {
   "cell_type": "markdown",
   "metadata": {},
   "source": [
    "- Чем отличается генеральная совокупность от выборки?"
   ]
  },
  {
   "cell_type": "code",
   "execution_count": null,
   "metadata": {},
   "outputs": [],
   "source": [
    "#your answer here\n",
    "\"\"\"\n",
    "В генеральной совокупности полные данные, в выборке - часть генеральной совокупности\n",
    "\"\"\""
   ]
  },
  {
   "cell_type": "markdown",
   "metadata": {},
   "source": [
    "- Если размер выборки больше 200, то такая выборка является репрезентативной?"
   ]
  },
  {
   "cell_type": "code",
   "execution_count": null,
   "metadata": {},
   "outputs": [],
   "source": [
    "#your answer here\n",
    "\"\"\"\n",
    "Не всегда, так как выборка может не отражать определённые характеристики генеральной совокупности\n",
    "\"\"\""
   ]
  },
  {
   "cell_type": "markdown",
   "metadata": {},
   "source": [
    "- Измерили длину волос футболистов сборной Франции на ЧМ-2018. Что могло являться генеральной совокупностью? Приведите 3 примера."
   ]
  },
  {
   "cell_type": "code",
   "execution_count": null,
   "metadata": {},
   "outputs": [],
   "source": [
    "#your answer here\n",
    "\"\"\"\n",
    "1. Длина волос всех футболистов - участников ЧМ\n",
    "2. Длина волос людей от 20 до 35\n",
    "3. Длина волос всех французов\n",
    "\"\"\""
   ]
  },
  {
   "cell_type": "markdown",
   "metadata": {},
   "source": [
    "- Пусть генеральная совокупность --- вес детей, родившихся в Волгограде за последние 10 лет. Предложите 2 стратегии, как сгенерировать выборку."
   ]
  },
  {
   "cell_type": "code",
   "execution_count": null,
   "metadata": {},
   "outputs": [],
   "source": [
    "#your answer here\n",
    "\"\"\"\n",
    "1. Берем по 10 мальчиков и девочек каждый месяц случайным образом\n",
    "2. Берем по 4 ребенка каждую неделю случайным образом\n",
    "\"\"\""
   ]
  },
  {
   "cell_type": "markdown",
   "metadata": {},
   "source": [
    "## Параметры центра и разброса"
   ]
  },
  {
   "cell_type": "markdown",
   "metadata": {},
   "source": [
    "- Постройте распределение, у которого отсутствует мода.\n"
   ]
  },
  {
   "cell_type": "code",
   "execution_count": 7,
   "metadata": {},
   "outputs": [
    {
     "data": {
      "text/plain": [
       "ModeResult(mode=array([7.39103902e-06]), count=array([1]))"
      ]
     },
     "execution_count": 7,
     "metadata": {},
     "output_type": "execute_result"
    }
   ],
   "source": [
    "#your code here\n",
    "uni = stats.uniform()\n",
    "sample = uni.rvs(100001)\n",
    "stats.mode(sample)"
   ]
  },
  {
   "cell_type": "markdown",
   "metadata": {},
   "source": [
    "- Какая из статистик (медиана, матожидание) будет наиболее неустойчивой при выбросах? Проверить на выборке из Гамма-распределения. "
   ]
  },
  {
   "cell_type": "code",
   "execution_count": 8,
   "metadata": {},
   "outputs": [
    {
     "ename": "SyntaxError",
     "evalue": "invalid syntax (<ipython-input-8-87d13ed91da3>, line 7)",
     "output_type": "error",
     "traceback": [
      "\u001b[0;36m  File \u001b[0;32m\"<ipython-input-8-87d13ed91da3>\"\u001b[0;36m, line \u001b[0;32m7\u001b[0m\n\u001b[0;31m    overshoot =\u001b[0m\n\u001b[0m                ^\u001b[0m\n\u001b[0;31mSyntaxError\u001b[0m\u001b[0;31m:\u001b[0m invalid syntax\n"
     ]
    }
   ],
   "source": [
    "gamma_rv = stats.gamma(3, 1)\n",
    "sample = gamma_rv.rvs(51)\n",
    "med = sorted(sample)[24]\n",
    "mean = sample.mean()\n",
    "\n",
    "#your code here\n",
    "overshoot = \n",
    "sample_with_overshoot =\n",
    "new_med =\n",
    "new_mean = "
   ]
  },
  {
   "cell_type": "markdown",
   "metadata": {},
   "source": [
    "- Как изменится матожидание, если к выборке добавить константу $C$? Умножить на $C$. \n",
    "\n",
    "Проверите на выборке из распределения Пуассона"
   ]
  },
  {
   "cell_type": "code",
   "execution_count": null,
   "metadata": {},
   "outputs": [],
   "source": [
    "pois_rv = stats.poisson(2)\n",
    "sample = pois_rv.rvs(100)\n",
    "C = 0.5\n",
    "#your code here\n",
    "mean = \n",
    "mean_with_c = \n",
    "mean_mult_c = "
   ]
  },
  {
   "cell_type": "markdown",
   "metadata": {},
   "source": [
    "- Как изменится дисперсия при добавлении выбросов? Проверьте для распределения экспоненциального распределения"
   ]
  },
  {
   "cell_type": "code",
   "execution_count": null,
   "metadata": {},
   "outputs": [],
   "source": [
    "exp_rv = stats.expon(4)\n",
    "sample = exp_rv.rvs(50)\n",
    "var = sample.var()\n",
    "\n",
    "#your code here\n",
    "overshoot = \n",
    "sample_with_overshoot =\n",
    "new_var ="
   ]
  },
  {
   "cell_type": "markdown",
   "metadata": {},
   "source": [
    "- Что шире: интерквантильный размах ($X_{0.75} - X_{0.25}$) или $(\\bar{X}-s, \\bar{X}+s)$ для $\\mathcal{N}(a, \\sigma^2)$. Посчитайте и сравните эти интервалы для распредения $\\mathcal{N}(3,1)$"
   ]
  },
  {
   "cell_type": "code",
   "execution_count": null,
   "metadata": {},
   "outputs": [],
   "source": [
    "norm_rv = stats.norm(3,1)\n",
    "sample = norm_rv.rvs(1000)\n",
    "#your code here"
   ]
  },
  {
   "cell_type": "markdown",
   "metadata": {},
   "source": [
    "## Основные статистики и ЦПТ"
   ]
  },
  {
   "cell_type": "markdown",
   "metadata": {},
   "source": [
    "- Что такое статистика? Посчитайте любую для бета-распределения (1,3)"
   ]
  },
  {
   "cell_type": "code",
   "execution_count": null,
   "metadata": {},
   "outputs": [],
   "source": [
    "beta_rv = stats.beta(1,3)\n",
    "#your code here"
   ]
  },
  {
   "cell_type": "markdown",
   "metadata": {},
   "source": [
    "- Какие статистики являются оценками матожидания, медианы и дисперсии? Посчитайте их для гамма-распределения с параметрами (2, 2)"
   ]
  },
  {
   "cell_type": "code",
   "execution_count": null,
   "metadata": {},
   "outputs": [],
   "source": [
    "gamma_rv = stats.gamma(2,2)\n",
    "\n",
    "#your code here\n",
    "mean =\n",
    "var =\n",
    "med ="
   ]
  },
  {
   "cell_type": "markdown",
   "metadata": {},
   "source": [
    "- Какое распределение имеет $\\bar{X}$ по ЦПТ? Если исходное распределение $\\mathcal{N}(5, 2)$. Сгенерировать выборки размером 50 из этого распределения и проверить. (построить распределение средних)"
   ]
  },
  {
   "cell_type": "code",
   "execution_count": null,
   "metadata": {},
   "outputs": [],
   "source": [
    "#your code here\n",
    "norm_rv = stats.norm(5,2)\n",
    "\n",
    "for i in range(10000):\n",
    "    sample = norm_rv.rvs(50)\n",
    "    #your code here"
   ]
  },
  {
   "cell_type": "markdown",
   "metadata": {},
   "source": [
    "- Сгенерируйте выборки так, чтобы ЦПТ не выполнялось (распределение средних не было похоже нормальное)"
   ]
  },
  {
   "cell_type": "code",
   "execution_count": null,
   "metadata": {},
   "outputs": [],
   "source": [
    "#your code here"
   ]
  },
  {
   "cell_type": "markdown",
   "metadata": {},
   "source": [
    "- Сделайте z-преобразование для данного распределения и посчитайте новое матожидание и дисперсию "
   ]
  },
  {
   "cell_type": "code",
   "execution_count": null,
   "metadata": {},
   "outputs": [],
   "source": [
    "expon_rv = stats.expon(3)\n",
    "\n",
    "new_rv = #your code here"
   ]
  },
  {
   "cell_type": "markdown",
   "metadata": {},
   "source": [
    "## Доверительные интервалы и гипотезы"
   ]
  },
  {
   "cell_type": "markdown",
   "metadata": {},
   "source": [
    "В данных задачах используйте встроенную функцию, позволяющую искать квантили случайной величины **your_rv**.ppf, а также https://gallery.shinyapps.io/dist_calc/ для визуальной картины"
   ]
  },
  {
   "cell_type": "markdown",
   "metadata": {},
   "source": [
    "- Постройте 90% доверительный интервал для среднего значения $\\mathcal{\\chi^2_{10}}$."
   ]
  },
  {
   "cell_type": "code",
   "execution_count": null,
   "metadata": {},
   "outputs": [],
   "source": [
    "#your code here"
   ]
  },
  {
   "cell_type": "markdown",
   "metadata": {},
   "source": [
    "- Постройте ДИ для распределения Стьюдента с df = 15 уровня доверия 90%  и 95%. Какой интервал шире?"
   ]
  },
  {
   "cell_type": "code",
   "execution_count": null,
   "metadata": {},
   "outputs": [],
   "source": [
    "#your code here"
   ]
  },
  {
   "cell_type": "markdown",
   "metadata": {},
   "source": [
    "- Сгенерируйте 2 выборки с одинаковыми параметрами, отличающиеся в 2 раза по размеру. Постройте 2 90% ДИ. Чем они отличаются? Распределение $\\mathcal{N}(0,2)$ "
   ]
  },
  {
   "cell_type": "code",
   "execution_count": null,
   "metadata": {},
   "outputs": [],
   "source": [
    "norm_rv = stats.norm(0, 2)\n",
    "#your code here"
   ]
  },
  {
   "cell_type": "markdown",
   "metadata": {},
   "source": [
    "- Пусть $H_0: M=100$. Мы получили $p = 0,12$ и не смогли отклонить нулевую гипотезу. Однако позже выяснилось, что среднее в генеральной совокупности равняется 114. Ошибку какого рода мы допустили?"
   ]
  },
  {
   "cell_type": "code",
   "execution_count": null,
   "metadata": {},
   "outputs": [],
   "source": [
    "#your answer here"
   ]
  },
  {
   "cell_type": "markdown",
   "metadata": {},
   "source": [
    "#### Какие рассуждения относительно p-value верные?\n",
    "\n",
    "- Елси p уровень значимости равен 0,003, то вероятность того, что верна нулевая гипотеза также равняется  0,003.\n",
    "- Если бы в исследовании мы получили $p=0,9$, это означало бы, что верна нулевая гипотеза.\n",
    "- Чем меньше p уровень значимости, тем хуже гипотеза.\n"
   ]
  },
  {
   "cell_type": "code",
   "execution_count": null,
   "metadata": {},
   "outputs": [],
   "source": [
    "#your answer here"
   ]
  },
  {
   "cell_type": "markdown",
   "metadata": {},
   "source": [
    "- Какое $p$-value будете использовать, если отклонять $H_0$ рисковано: $0.05$ или $0.01$? Является ли 99% доверительный интервал хорошей оценкой в общем случае?"
   ]
  },
  {
   "cell_type": "code",
   "execution_count": null,
   "metadata": {},
   "outputs": [],
   "source": [
    "#your answer here"
   ]
  },
  {
   "cell_type": "markdown",
   "metadata": {},
   "source": [
    "## Стьюдент и корреляция"
   ]
  },
  {
   "cell_type": "markdown",
   "metadata": {},
   "source": [
    "- Изобразите графики плотности распределения Стьюдента для нескольких значений df= (5,10, 20, 40) и $\\mathcal{N}(0,1)$. В чем отличия?"
   ]
  },
  {
   "cell_type": "code",
   "execution_count": null,
   "metadata": {},
   "outputs": [],
   "source": [
    "#your code here"
   ]
  },
  {
   "cell_type": "markdown",
   "metadata": {},
   "source": [
    "- Постройте две выборки, чтобы их корреляция была равна -1. Изобразите зависимость на графике."
   ]
  },
  {
   "cell_type": "code",
   "execution_count": null,
   "metadata": {},
   "outputs": [],
   "source": [
    "#your code here"
   ]
  },
  {
   "cell_type": "markdown",
   "metadata": {},
   "source": [
    "- Постройте две выборки, чтобы их корреляция была равна 0. Изобразите зависимость на графике."
   ]
  },
  {
   "cell_type": "code",
   "execution_count": null,
   "metadata": {},
   "outputs": [],
   "source": [
    "#your code here"
   ]
  },
  {
   "cell_type": "markdown",
   "metadata": {},
   "source": [
    "- Сгенерируйте 2 выборки из $\\mathcal{N}(4,2)$, посчитайте их общий ранг и сумму рангов в каждой выборке."
   ]
  },
  {
   "cell_type": "code",
   "execution_count": null,
   "metadata": {},
   "outputs": [],
   "source": [
    "norm_rv = stats.norm(4,2)\n",
    "sample_1 = norm_rv.rvs(100)\n",
    "sample_2 = norm_rv.rvs(100)\n",
    "sample = np.concatenate((sample_1, sample_2))\n",
    "\n",
    "#your code here"
   ]
  },
  {
   "cell_type": "code",
   "execution_count": null,
   "metadata": {},
   "outputs": [],
   "source": []
  }
 ],
 "metadata": {
  "kernelspec": {
   "display_name": "Python 3",
   "language": "python",
   "name": "python3"
  },
  "language_info": {
   "codemirror_mode": {
    "name": "ipython",
    "version": 3
   },
   "file_extension": ".py",
   "mimetype": "text/x-python",
   "name": "python",
   "nbconvert_exporter": "python",
   "pygments_lexer": "ipython3",
   "version": "3.7.6"
  }
 },
 "nbformat": 4,
 "nbformat_minor": 2
}
