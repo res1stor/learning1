{
 "cells": [
  {
   "cell_type": "markdown",
   "metadata": {},
   "source": [
    "# Домашняя работа №2"
   ]
  },
  {
   "cell_type": "code",
   "execution_count": 1,
   "metadata": {},
   "outputs": [],
   "source": [
    "import pandas as pd\n",
    "from scipy import stats\n",
    "import numpy as np\n",
    "\n",
    "import seaborn as sns\n",
    "from sklearn import datasets\n",
    "from matplotlib import pyplot as plt\n",
    "from statsmodels.distributions.empirical_distribution import ECDF"
   ]
  },
  {
   "cell_type": "markdown",
   "metadata": {},
   "source": [
    "## Генеральная совокупность и выборка"
   ]
  },
  {
   "cell_type": "markdown",
   "metadata": {},
   "source": [
    "- Чем отличается генеральная совокупность от выборки?"
   ]
  },
  {
   "cell_type": "code",
   "execution_count": null,
   "metadata": {},
   "outputs": [],
   "source": [
    "#your answer here\n",
    "\"\"\"\n",
    "В генеральной совокупности полные данные, в выборке - часть генеральной совокупности\n",
    "\"\"\""
   ]
  },
  {
   "cell_type": "markdown",
   "metadata": {},
   "source": [
    "- Если размер выборки больше 200, то такая выборка является репрезентативной?"
   ]
  },
  {
   "cell_type": "code",
   "execution_count": null,
   "metadata": {},
   "outputs": [],
   "source": [
    "#your answer here\n",
    "\"\"\"\n",
    "Не всегда, так как выборка может не отражать определённые характеристики генеральной совокупности\n",
    "\"\"\""
   ]
  },
  {
   "cell_type": "markdown",
   "metadata": {},
   "source": [
    "- Измерили длину волос футболистов сборной Франции на ЧМ-2018. Что могло являться генеральной совокупностью? Приведите 3 примера."
   ]
  },
  {
   "cell_type": "code",
   "execution_count": null,
   "metadata": {},
   "outputs": [],
   "source": [
    "#your answer here\n",
    "\"\"\"\n",
    "1. Длина волос всех футболистов - участников ЧМ\n",
    "2. Длина волос людей от 20 до 35\n",
    "3. Длина волос всех французов\n",
    "\"\"\""
   ]
  },
  {
   "cell_type": "markdown",
   "metadata": {},
   "source": [
    "- Пусть генеральная совокупность --- вес детей, родившихся в Волгограде за последние 10 лет. Предложите 2 стратегии, как сгенерировать выборку."
   ]
  },
  {
   "cell_type": "code",
   "execution_count": null,
   "metadata": {},
   "outputs": [],
   "source": [
    "#your answer here\n",
    "\"\"\"\n",
    "1. Берем по 10 мальчиков и девочек каждый месяц случайным образом\n",
    "2. Берем по 4 ребенка каждую неделю случайным образом\n",
    "\"\"\""
   ]
  },
  {
   "cell_type": "markdown",
   "metadata": {},
   "source": [
    "## Параметры центра и разброса"
   ]
  },
  {
   "cell_type": "markdown",
   "metadata": {},
   "source": [
    "- Постройте распределение, у которого отсутствует мода.\n"
   ]
  },
  {
   "cell_type": "code",
   "execution_count": 4,
   "metadata": {},
   "outputs": [
    {
     "data": {
      "text/plain": [
       "ModeResult(mode=array([1.96146115e-05]), count=array([1]))"
      ]
     },
     "execution_count": 4,
     "metadata": {},
     "output_type": "execute_result"
    }
   ],
   "source": [
    "#your code here\n",
    "uni = stats.uniform()\n",
    "sample = uni.rvs(100001)\n",
    "stats.mode(sample)"
   ]
  },
  {
   "cell_type": "markdown",
   "metadata": {},
   "source": [
    "- Какая из статистик (медиана, матожидание) будет наиболее неустойчивой при выбросах? Проверить на выборке из Гамма-распределения. "
   ]
  },
  {
   "cell_type": "code",
   "execution_count": 18,
   "metadata": {},
   "outputs": [
    {
     "data": {
      "text/plain": [
       "(3.241221715206782, 3.3087952106718648, 3.6083619713640713, 3.9129666085308066)"
      ]
     },
     "execution_count": 18,
     "metadata": {},
     "output_type": "execute_result"
    }
   ],
   "source": [
    "gamma_rv = stats.gamma(3, 1)\n",
    "sample = gamma_rv.rvs(51)\n",
    "med = sorted(sample)[24]\n",
    "mean = sample.mean()\n",
    "\n",
    "#your code here\n",
    "overshoot = max(sample)*1.5\n",
    "sample_with_overshoot = np.append(sample, [overshoot, overshoot])\n",
    "new_med =sorted(sample)[25]\n",
    "new_mean = sample_with_overshoot.mean()\n",
    "med, new_med, mean, new_mean"
   ]
  },
  {
   "cell_type": "markdown",
   "metadata": {},
   "source": [
    "- Как изменится матожидание, если к выборке добавить константу $C$? Умножить на $C$. \n",
    "\n",
    "Проверите на выборке из распределения Пуассона"
   ]
  },
  {
   "cell_type": "code",
   "execution_count": 21,
   "metadata": {},
   "outputs": [
    {
     "data": {
      "text/plain": [
       "(2.08, 2.58, 1.04)"
      ]
     },
     "execution_count": 21,
     "metadata": {},
     "output_type": "execute_result"
    }
   ],
   "source": [
    "pois_rv = stats.poisson(2)\n",
    "sample = pois_rv.rvs(100)\n",
    "C = 0.5\n",
    "#your code here\n",
    "mean = sample.mean()\n",
    "#уродливая имплементация\n",
    "mean_with_c = np.array([s+C for s in sample]).mean()\n",
    "mean_mult_c = np.array([s*C for s in sample]).mean()\n",
    "mean, mean_with_c, mean_mult_c"
   ]
  },
  {
   "cell_type": "code",
   "execution_count": 23,
   "metadata": {},
   "outputs": [
    {
     "data": {
      "text/plain": [
       "(2.08, 2.58, 1.04)"
      ]
     },
     "execution_count": 23,
     "metadata": {},
     "output_type": "execute_result"
    }
   ],
   "source": [
    "#красивая и аккуратная имплементация\n",
    "mean_with_c = (sample+C).mean()\n",
    "mean_mult_c = (sample*C).mean()\n",
    "mean, mean_with_c, mean_mult_c"
   ]
  },
  {
   "cell_type": "markdown",
   "metadata": {},
   "source": [
    "- Как изменится дисперсия при добавлении выбросов? Проверьте для распределения экспоненциального распределения"
   ]
  },
  {
   "cell_type": "code",
   "execution_count": null,
   "metadata": {},
   "outputs": [],
   "source": [
    "exp_rv = stats.expon(4)\n",
    "sample = exp_rv.rvs(50)\n",
    "var = sample.var()\n",
    "\n",
    "#your code here\n",
    "overshoot = \n",
    "sample_with_overshoot =\n",
    "new_var ="
   ]
  },
  {
   "cell_type": "markdown",
   "metadata": {},
   "source": [
    "- Что шире: интерквантильный размах ($X_{0.75} - X_{0.25}$) или $(\\bar{X}-s, \\bar{X}+s)$ для $\\mathcal{N}(a, \\sigma^2)$. Посчитайте и сравните эти интервалы для распредения $\\mathcal{N}(3,1)$"
   ]
  },
  {
   "cell_type": "code",
   "execution_count": null,
   "metadata": {},
   "outputs": [],
   "source": [
    "norm_rv = stats.norm(3,1)\n",
    "sample = norm_rv.rvs(1000)\n",
    "#your code here"
   ]
  },
  {
   "cell_type": "markdown",
   "metadata": {},
   "source": [
    "## Основные статистики и ЦПТ"
   ]
  },
  {
   "cell_type": "markdown",
   "metadata": {},
   "source": [
    "- Что такое статистика? Посчитайте любую для бета-распределения (1,3)"
   ]
  },
  {
   "cell_type": "code",
   "execution_count": 25,
   "metadata": {},
   "outputs": [
    {
     "data": {
      "text/plain": [
       "0.2801779142205361"
      ]
     },
     "execution_count": 25,
     "metadata": {},
     "output_type": "execute_result"
    }
   ],
   "source": [
    "beta_rv = stats.beta(1,3)\n",
    "sample = beta_rv.rvs(101)\n",
    "sample.mean()\n",
    "#your code here"
   ]
  },
  {
   "cell_type": "markdown",
   "metadata": {},
   "source": [
    "- Какие статистики являются оценками матожидания, медианы и дисперсии? Посчитайте их для гамма-распределения с параметрами (2, 2)"
   ]
  },
  {
   "cell_type": "code",
   "execution_count": 31,
   "metadata": {},
   "outputs": [
    {
     "data": {
      "text/plain": [
       "(4.00177532912474, 2.0561269583177357, 2.1030744095338383)"
      ]
     },
     "execution_count": 31,
     "metadata": {},
     "output_type": "execute_result"
    }
   ],
   "source": [
    "gamma_rv = stats.gamma(2,2)\n",
    "sample = gamma_rv.rvs(10001)\n",
    "#your code here\n",
    "mean = sample.mean()\n",
    "var = sample.var()\n",
    "med = sorted(sample)[49]\n",
    "mean, var, med"
   ]
  },
  {
   "cell_type": "markdown",
   "metadata": {},
   "source": [
    "- Какое распределение имеет $\\bar{X}$ по ЦПТ? Если исходное распределение $\\mathcal{N}(5, 2)$. Сгенерировать выборки размером 50 из этого распределения и проверить. (построить распределение средних)"
   ]
  },
  {
   "cell_type": "code",
   "execution_count": 51,
   "metadata": {},
   "outputs": [
    {
     "data": {
      "text/plain": [
       "(4.997482583248159, 5, 0.07858080415312924, 0.07993377657536883)"
      ]
     },
     "execution_count": 51,
     "metadata": {},
     "output_type": "execute_result"
    }
   ],
   "source": [
    "#your code here\n",
    "norm_rv = stats.norm(5,2)\n",
    "sample_avg = []\n",
    "for i in range(10000):\n",
    "    sample = norm_rv.rvs(50)\n",
    "    sample_avg.append(sample.mean())\n",
    "    #your code here\n",
    "    \n",
    "avg_mean = np.array(sample_avg).mean()\n",
    "avg_var = np.array(sample_avg).var()\n",
    "#получилось\n",
    "avg_mean, 5,  avg_var, norm_rv.rvs(1000001).var()/50\n",
    "#по ЦПТ: получаем нормальное распределение с средним 5 и дисперсией 4/50"
   ]
  },
  {
   "cell_type": "markdown",
   "metadata": {},
   "source": [
    "- Сгенерируйте выборки так, чтобы ЦПТ не выполнялось (распределение средних не было похоже нормальное)"
   ]
  },
  {
   "cell_type": "code",
   "execution_count": 59,
   "metadata": {},
   "outputs": [
    {
     "data": {
      "text/plain": [
       "(4.789543106172273, 5, 0.5663454258903248, 0.07999343059159657)"
      ]
     },
     "execution_count": 59,
     "metadata": {},
     "output_type": "execute_result"
    }
   ],
   "source": [
    "#your code here\n",
    "sample_avg = []\n",
    "for i in range(10):\n",
    "    sample = norm_rv.rvs(10)\n",
    "    sample_avg.append(sample.mean())\n",
    "avg_mean = np.array(sample_avg).mean()\n",
    "avg_var = np.array(sample_avg).var()\n",
    "avg_mean, 5,  avg_var, norm_rv.rvs(1000001).var()/50"
   ]
  },
  {
   "cell_type": "markdown",
   "metadata": {},
   "source": [
    "- Сделайте z-преобразование для данного распределения и посчитайте новое матожидание и дисперсию "
   ]
  },
  {
   "cell_type": "code",
   "execution_count": 70,
   "metadata": {},
   "outputs": [
    {
     "data": {
      "text/plain": [
       "(0.00041928811166911664, 1.0010348070363586)"
      ]
     },
     "execution_count": 70,
     "metadata": {},
     "output_type": "execute_result"
    }
   ],
   "source": [
    "expon_rv = stats.expon(3)\n",
    "#your code here\n",
    "new_rv_sample= (expon_rv.rvs(int(1E7)) - expon_rv.mean())/(expon_rv.var()**0.5)\n",
    "new_rv_sample.mean(), new_rv_sample.var()"
   ]
  },
  {
   "cell_type": "markdown",
   "metadata": {},
   "source": [
    "## Доверительные интервалы и гипотезы"
   ]
  },
  {
   "cell_type": "markdown",
   "metadata": {},
   "source": [
    "В данных задачах используйте встроенную функцию, позволяющую искать квантили случайной величины **your_rv**.ppf, а также https://gallery.shinyapps.io/dist_calc/ для визуальной картины"
   ]
  },
  {
   "cell_type": "markdown",
   "metadata": {},
   "source": [
    "- Постройте 90% доверительный интервал для среднего значения $\\mathcal{\\chi^2_{10}}$."
   ]
  },
  {
   "cell_type": "code",
   "execution_count": 9,
   "metadata": {},
   "outputs": [
    {
     "data": {
      "text/plain": [
       "(3.94029913611906, 18.307038053275146)"
      ]
     },
     "execution_count": 9,
     "metadata": {},
     "output_type": "execute_result"
    }
   ],
   "source": [
    "pearson_rv = stats.chi2(10)\n",
    "pearson_rv.interval(0.9)\n",
    "#your code here"
   ]
  },
  {
   "cell_type": "markdown",
   "metadata": {},
   "source": [
    "- Постройте ДИ для распределения Стьюдента с df = 15 уровня доверия 90%  и 95%. Какой интервал шире?"
   ]
  },
  {
   "cell_type": "code",
   "execution_count": 8,
   "metadata": {},
   "outputs": [
    {
     "data": {
      "text/plain": [
       "((-1.7530503556925554, 1.7530503556925547),\n",
       " (-2.131449545559323, 2.131449545559323))"
      ]
     },
     "execution_count": 8,
     "metadata": {},
     "output_type": "execute_result"
    }
   ],
   "source": [
    "#your code here\n",
    "student_rv = stats.t(15)\n",
    "student_rv.interval(0.9), student_rv.interval(0.95)\n"
   ]
  },
  {
   "cell_type": "markdown",
   "metadata": {},
   "source": [
    "- Сгенерируйте 2 выборки с одинаковыми параметрами, отличающиеся в 2 раза по размеру. Постройте 2 90% ДИ. Чем они отличаются? Распределение $\\mathcal{N}(0,2)$ "
   ]
  },
  {
   "cell_type": "code",
   "execution_count": 25,
   "metadata": {},
   "outputs": [
    {
     "name": "stdout",
     "output_type": "stream",
     "text": [
      "[0.26450934202466, 0.30356829597633933] [0.10513180170180006, 0.1306185126354862]\n"
     ]
    }
   ],
   "source": [
    "norm_rv = stats.norm(0, 2)\n",
    "#your code here\n",
    "sample_1 = norm_rv.rvs(51)\n",
    "sample_2 = norm_rv.rvs(101)\n",
    "\n",
    "def confidence_interval(sample, alpha):\n",
    "    \"\"\"\n",
    "    Функция принимает:\n",
    "    sample - numpy array\n",
    "    alpha - действительное число\n",
    "    возвращает доверительный интервал для среднего выборки,\n",
    "    считая, что размер выборки достаточен \n",
    "    (применяется нормальное распределение, а не Стьюдент)\n",
    "    \"\"\"\n",
    "    var = sample.var()\n",
    "    mean = sample.mean()\n",
    "    beta = (1.0-alpha)*0.5\n",
    "    z_alpha = stats.norm(0,1).interval(beta)[1]\n",
    "    delta = ((var/len(sample))**0.5)*z_alpha\n",
    "    return ([mean-delta, mean+delta])\n",
    "\n",
    "print(confidence_interval(sample_1, 0.9), confidence_interval(sample_2, 0.9))\n",
    "\n"
   ]
  },
  {
   "cell_type": "markdown",
   "metadata": {},
   "source": [
    "- Пусть $H_0: M=100$. Мы получили $p = 0,12$ и не смогли отклонить нулевую гипотезу. Однако позже выяснилось, что среднее в генеральной совокупности равняется 114. Ошибку какого рода мы допустили?"
   ]
  },
  {
   "cell_type": "code",
   "execution_count": null,
   "metadata": {},
   "outputs": [],
   "source": [
    "#your answer here\n",
    "#ошибку второго рода"
   ]
  },
  {
   "cell_type": "markdown",
   "metadata": {},
   "source": [
    "#### Какие рассуждения относительно p-value верные?\n",
    "\n",
    "- Елси p уровень значимости равен 0,003, то вероятность того, что верна нулевая гипотеза также равняется  0,003.\n",
    "- Если бы в исследовании мы получили $p=0,9$, это означало бы, что верна нулевая гипотеза.\n",
    "- Чем меньше p уровень значимости, тем хуже гипотеза.\n"
   ]
  },
  {
   "cell_type": "code",
   "execution_count": null,
   "metadata": {},
   "outputs": [],
   "source": [
    "#your answer here\n",
    "#1 - неверно\n",
    "#2 - неверно\n",
    "#3 - скорее верно, чем нет"
   ]
  },
  {
   "cell_type": "markdown",
   "metadata": {},
   "source": [
    "- Какое $p$-value будете использовать, если отклонять $H_0$ рисковано: $0.05$ или $0.01$? Является ли 99% доверительный интервал хорошей оценкой в общем случае?"
   ]
  },
  {
   "cell_type": "code",
   "execution_count": null,
   "metadata": {},
   "outputs": [],
   "source": [
    "#your answer here\n",
    "#0.01. 99%  доверитиельный интервал является хорошей оценкой в общем случае"
   ]
  },
  {
   "cell_type": "markdown",
   "metadata": {},
   "source": [
    "## Стьюдент и корреляция"
   ]
  },
  {
   "cell_type": "markdown",
   "metadata": {},
   "source": [
    "- Изобразите графики плотности распределения Стьюдента для нескольких значений df= (5,10, 20, 40) и $\\mathcal{N}(0,1)$. В чем отличия?"
   ]
  },
  {
   "cell_type": "code",
   "execution_count": 6,
   "metadata": {},
   "outputs": [
    {
     "data": {
      "text/plain": [
       "<matplotlib.legend.Legend at 0x7fb68129da90>"
      ]
     },
     "execution_count": 6,
     "metadata": {},
     "output_type": "execute_result"
    },
    {
     "data": {
      "image/png": "[encoded data removed]",
      "text/plain": [
       "<Figure size 432x288 with 1 Axes>"
      ]
     },
     "metadata": {
      "needs_background": "light"
     },
     "output_type": "display_data"
    }
   ],
   "source": [
    "#your code here\n",
    "st_5 = stats.t(5)\n",
    "st_10 = stats.t(10)\n",
    "st_20 = stats.t(20)\n",
    "st_40 = stats.t(40)\n",
    "norm = stats.norm(0,1)\n",
    "\n",
    "x = np.linspace(-5,5,10001)\n",
    "y5 = st_5.pdf(x)\n",
    "y10 = st_10.pdf(x)\n",
    "y20 = st_20.pdf(x)\n",
    "y40 = st_40.pdf(x)\n",
    "y0 = norm.pdf(x)\n",
    "\n",
    "plt.plot(x,y5,label = 'Student df=5')\n",
    "plt.plot(x,y10,label = 'Student df=10')\n",
    "plt.plot(x,y20,label = 'Student df=20')\n",
    "plt.plot(x,y40,label = 'Student df=40')\n",
    "plt.plot(x,y0,label = 'Gauss')\n",
    "plt.legend(loc='upper left')"
   ]
  },
  {
   "cell_type": "markdown",
   "metadata": {},
   "source": [
    "- Постройте две выборки, чтобы их корреляция была равна -1. Изобразите зависимость на графике."
   ]
  },
  {
   "cell_type": "code",
   "execution_count": null,
   "metadata": {},
   "outputs": [],
   "source": [
    "#your code here\n"
   ]
  },
  {
   "cell_type": "markdown",
   "metadata": {},
   "source": [
    "- Постройте две выборки, чтобы их корреляция была равна 0. Изобразите зависимость на графике."
   ]
  },
  {
   "cell_type": "code",
   "execution_count": null,
   "metadata": {},
   "outputs": [],
   "source": [
    "#your code here"
   ]
  },
  {
   "cell_type": "markdown",
   "metadata": {},
   "source": [
    "- Сгенерируйте 2 выборки из $\\mathcal{N}(4,2)$, посчитайте их общий ранг и сумму рангов в каждой выборке."
   ]
  },
  {
   "cell_type": "code",
   "execution_count": null,
   "metadata": {},
   "outputs": [],
   "source": [
    "norm_rv = stats.norm(4,2)\n",
    "sample_1 = norm_rv.rvs(100)\n",
    "sample_2 = norm_rv.rvs(100)\n",
    "sample = np.concatenate((sample_1, sample_2))\n",
    "\n",
    "#your code here"
   ]
  },
  {
   "cell_type": "code",
   "execution_count": null,
   "metadata": {},
   "outputs": [],
   "source": []
  }
 ],
 "metadata": {
  "kernelspec": {
   "display_name": "Python 3",
   "language": "python",
   "name": "python3"
  },
  "language_info": {
   "codemirror_mode": {
    "name": "ipython",
    "version": 3
   },
   "file_extension": ".py",
   "mimetype": "text/x-python",
   "name": "python",
   "nbconvert_exporter": "python",
   "pygments_lexer": "ipython3",
   "version": "3.7.6"
  }
 },
 "nbformat": 4,
 "nbformat_minor": 2
}
